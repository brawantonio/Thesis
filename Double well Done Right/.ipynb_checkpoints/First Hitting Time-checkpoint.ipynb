{
 "cells": [
  {
   "cell_type": "code",
   "execution_count": 2,
   "metadata": {
    "collapsed": true
   },
   "outputs": [],
   "source": [
    "import numpy as np\n",
    "import scipy.integrate as integrate\n",
    "import matplotlib.pyplot as plt\n",
    "import scipy.optimize as optimize\n",
    "from scipy.optimize import brenth\n",
    "\n",
    "plt.rc('text', usetex=True)\n",
    "plt.rc('font', family='serif')\n",
    "\n",
    "pi=4*np.arctan(1.)"
   ]
  },
  {
   "cell_type": "code",
   "execution_count": 3,
   "metadata": {
    "collapsed": true
   },
   "outputs": [],
   "source": [
    "def U(x): return 0.25*x**4-2*alpha*x**3/3.-0.5*x**2\n",
    "def dU(x): return x**3-2*alpha*x**2-x\n",
    "def ddU(x): return 3*x**2-4*alpha*x-1.\n",
    "\n",
    "def T(x): return 1-(dU(x)/g1)**2\n",
    "def dT(x): return -2*dU(x)*ddU(x)/g1**2\n",
    "\n",
    "def Ueff(x): return U(x)+T(x)/g2\n",
    "def dUeff(x): return dU(x)+dT(x)/g2\n",
    "def ddUeff(x):\n",
    "    return ddU(x)*(1.-2*ddU(x)/(g2*g1**2))\n",
    "\n",
    "def integrand(x):\n",
    "    return dUeff(x)/T(x)"
   ]
  },
  {
   "cell_type": "code",
   "execution_count": 4,
   "metadata": {
    "collapsed": true
   },
   "outputs": [],
   "source": [
    "def root(F, x1, x2, div, it):\n",
    "    X=np.linspace(x1,x2, div)\n",
    "    roots=np.array([])\n",
    "    for i in range(div-1):\n",
    "        if F(X[i])*F(X[i+1])<=0:\n",
    "            p1=X[i]\n",
    "            p2=X[i+1]\n",
    "            r=brenth(F, p1, p2, maxiter=it)\n",
    "            roots=np.append(roots, r)\n",
    "    return roots"
   ]
  },
  {
   "cell_type": "code",
   "execution_count": 5,
   "metadata": {
    "collapsed": true
   },
   "outputs": [],
   "source": [
    "def integral2(F, X):\n",
    "    l=len(X)\n",
    "    Func=np.zeros(l)\n",
    "    id0=int(0.5*l)\n",
    "    xmin=X[id0]\n",
    "    Func[id0]=0\n",
    "    for i in range(1,l):\n",
    "        if i<=id0:\n",
    "            x0 = X[id0-i+1]\n",
    "            x1 = X[id0-i]\n",
    "            Func[id0-i]=integrate.quad(F, x0, x1)[0]\n",
    "            Func[id0-i]=Func[id0-i]+Func[id0-i+1]\n",
    "        else:\n",
    "            x0 = X[i-1]\n",
    "            x1 = X[i]\n",
    "            Func[i]=integrate.quad(F, x0, x1)[0]\n",
    "            Func[i]=Func[i]+Func[i-1]\n",
    "    return Func"
   ]
  },
  {
   "cell_type": "code",
   "execution_count": 6,
   "metadata": {
    "collapsed": true
   },
   "outputs": [],
   "source": [
    "def evol(x, h):\n",
    "    e=np.random.normal(0, 1)\n",
    "    y=x-h*dU(x)/g1+np.sqrt(2*T(x)*h/(g1*g2))*e\n",
    "    return y"
   ]
  },
  {
   "cell_type": "code",
   "execution_count": 7,
   "metadata": {
    "collapsed": true
   },
   "outputs": [],
   "source": [
    "alpha=0.05\n",
    "g1=1\n",
    "g2=0.1"
   ]
  },
  {
   "cell_type": "code",
   "execution_count": 8,
   "metadata": {
    "collapsed": true
   },
   "outputs": [],
   "source": [
    "cpU=np.array([alpha-np.sqrt(alpha**2+1),0 ,alpha+np.sqrt(alpha**2+1)]) #this stores all the critical points for functions\n",
    "cpdU=np.array([2*alpha/3.-np.sqrt(4*alpha**2+3)/3, 2*alpha/3.+np.sqrt(4*alpha**2+3)/3])\n",
    "cpT=np.sort( np.concatenate([cpU, cpdU] ) )\n",
    "cpUeff=root(dUeff, -10, 10, 10000, 100)"
   ]
  },
  {
   "cell_type": "markdown",
   "metadata": {
    "collapsed": true
   },
   "source": [
    "## $g_1$ mínimo"
   ]
  },
  {
   "cell_type": "code",
   "execution_count": 9,
   "metadata": {
    "collapsed": true
   },
   "outputs": [],
   "source": [
    "g1=1.1; step=1.0; error=1e3; T0=min(T(cpT)); it=1; vec=np.array([T0]) #esto debería ser función pero so far no funciona\n",
    "while error > 1e-4:\n",
    "    g1=g1-np.sign(T0)*step\n",
    "    T1=min(T(cpT))\n",
    "    error=np.absolute(T1)\n",
    "    vec=np.append(vec, T1)\n",
    "    dvec=np.gradient(vec)\n",
    "    if dvec[-1]<1e-2: step=step/2.\n",
    "    T0=T1\n",
    "    it+=1\n",
    "    if it==100: break\n",
    "g1min=g1"
   ]
  },
  {
   "cell_type": "code",
   "execution_count": 10,
   "metadata": {
    "collapsed": true
   },
   "outputs": [],
   "source": [
    "alphas=np.array([0.01, 0.5])"
   ]
  },
  {
   "cell_type": "code",
   "execution_count": 14,
   "metadata": {},
   "outputs": [],
   "source": [
    "alpha=alphas[0]\n",
    "xc1 = alpha+np.sqrt(alpha**2+1)\n",
    "xc2 = alpha-np.sqrt(alpha**2+1)"
   ]
  },
  {
   "cell_type": "markdown",
   "metadata": {},
   "source": [
    "## Langevin "
   ]
  },
  {
   "cell_type": "code",
   "execution_count": 15,
   "metadata": {
    "collapsed": true
   },
   "outputs": [],
   "source": [
    "cpU=np.array([alpha-np.sqrt(alpha**2+1),0 ,alpha+np.sqrt(alpha**2+1)]) #this stores all the critical points for functions\n",
    "cpdU=np.array([2*alpha/3.-np.sqrt(4*alpha**2+3)/3, 2*alpha/3.+np.sqrt(4*alpha**2+3)/3])\n",
    "cpT=np.sort( np.concatenate([cpU, cpdU] ) )\n",
    "    \n",
    "g1=1.1; step=1.0; error=1e3; T0=min(T(cpT)); it=1; vec=np.array([T0]) #esto debería ser función pero so far no funciona\n",
    "while error > 1e-4:\n",
    "    g1=g1-np.sign(T0)*step\n",
    "    T1=min(T(cpT))\n",
    "    error=np.absolute(T1)\n",
    "    vec=np.append(vec, T1)\n",
    "    dvec=np.gradient(vec)\n",
    "    if dvec[-1]<1e-2: step=step/2.\n",
    "    T0=T1\n",
    "    it+=1\n",
    "    if it==100: break\n",
    "g1min=g1\n",
    "\n",
    "G1=np.array([1.01*g1min, 2*g1min, 10*g1min])\n",
    "value=G1/g1min"
   ]
  },
  {
   "cell_type": "code",
   "execution_count": 16,
   "metadata": {
    "collapsed": true
   },
   "outputs": [],
   "source": [
    "g1=G1[1]\n",
    "  \n",
    "g2=1e-5\n",
    "step=5\n",
    "it=1\n",
    "for i in range(10000):\n",
    "    aux=ddUeff(cpU[0])\n",
    "    if aux>0: g2=g2-step\n",
    "    else: g2=g2+step\n",
    "    if np.mod(it,100)==0: step=step/20.\n",
    "    it=it+1\n",
    "g2c1=g2\n",
    "\n",
    "g2=1e-5\n",
    "step=5\n",
    "it=1\n",
    "for i in range(10000):\n",
    "    aux=ddUeff(cpU[2])\n",
    "    if aux>0: g2=g2-step\n",
    "    else: g2=g2+step\n",
    "    if np.mod(it,100)==0: step=step/20.\n",
    "    it=it+1\n",
    "g2c2=g2\n",
    "\n",
    "G2=np.array([0.5*g2c1, g2c1, 0.5*(g2c1+g2c2), g2c2, 2*g2c2, 10*g2c2])"
   ]
  },
  {
   "cell_type": "code",
   "execution_count": 21,
   "metadata": {},
   "outputs": [
    {
     "name": "stdout",
     "output_type": "stream",
     "text": [
      "216620\n",
      "206914\n"
     ]
    },
    {
     "ename": "KeyboardInterrupt",
     "evalue": "",
     "output_type": "error",
     "traceback": [
      "\u001b[1;31m---------------------------------------------------------------------------\u001b[0m",
      "\u001b[1;31mKeyboardInterrupt\u001b[0m                         Traceback (most recent call last)",
      "\u001b[1;32m<ipython-input-21-c99a51f27794>\u001b[0m in \u001b[0;36m<module>\u001b[1;34m()\u001b[0m\n\u001b[0;32m     10\u001b[0m             \u001b[0my\u001b[0m \u001b[1;33m=\u001b[0m \u001b[0mevol\u001b[0m\u001b[1;33m(\u001b[0m\u001b[0mx\u001b[0m\u001b[1;33m[\u001b[0m\u001b[0mi\u001b[0m\u001b[1;33m]\u001b[0m\u001b[1;33m,\u001b[0m\u001b[0mh\u001b[0m\u001b[1;33m)\u001b[0m\u001b[1;33m\u001b[0m\u001b[0m\n\u001b[0;32m     11\u001b[0m             \u001b[1;32mif\u001b[0m \u001b[0my\u001b[0m \u001b[1;33m>\u001b[0m \u001b[0mxmax\u001b[0m \u001b[1;32mor\u001b[0m \u001b[0my\u001b[0m \u001b[1;33m<\u001b[0m \u001b[0mxmin\u001b[0m\u001b[1;33m:\u001b[0m \u001b[0my\u001b[0m\u001b[1;33m=\u001b[0m\u001b[0mx\u001b[0m\u001b[1;33m[\u001b[0m\u001b[0mi\u001b[0m\u001b[1;33m]\u001b[0m\u001b[1;33m\u001b[0m\u001b[0m\n\u001b[1;32m---> 12\u001b[1;33m             \u001b[0mx\u001b[0m \u001b[1;33m=\u001b[0m \u001b[0mnp\u001b[0m\u001b[1;33m.\u001b[0m\u001b[0mappend\u001b[0m\u001b[1;33m(\u001b[0m\u001b[0mx\u001b[0m\u001b[1;33m,\u001b[0m \u001b[0my\u001b[0m\u001b[1;33m)\u001b[0m\u001b[1;33m\u001b[0m\u001b[0m\n\u001b[0m\u001b[0;32m     13\u001b[0m             \u001b[0mi\u001b[0m\u001b[1;33m=\u001b[0m\u001b[0mi\u001b[0m\u001b[1;33m+\u001b[0m\u001b[1;36m1\u001b[0m\u001b[1;33m\u001b[0m\u001b[0m\n\u001b[0;32m     14\u001b[0m         \u001b[0mprint\u001b[0m\u001b[1;33m(\u001b[0m\u001b[0mi\u001b[0m\u001b[1;33m)\u001b[0m\u001b[1;33m\u001b[0m\u001b[0m\n",
      "\u001b[1;32m~\\Anaconda3\\lib\\site-packages\\numpy\\lib\\function_base.py\u001b[0m in \u001b[0;36mappend\u001b[1;34m(arr, values, axis)\u001b[0m\n\u001b[0;32m   5150\u001b[0m         \u001b[0mvalues\u001b[0m \u001b[1;33m=\u001b[0m \u001b[0mravel\u001b[0m\u001b[1;33m(\u001b[0m\u001b[0mvalues\u001b[0m\u001b[1;33m)\u001b[0m\u001b[1;33m\u001b[0m\u001b[0m\n\u001b[0;32m   5151\u001b[0m         \u001b[0maxis\u001b[0m \u001b[1;33m=\u001b[0m \u001b[0marr\u001b[0m\u001b[1;33m.\u001b[0m\u001b[0mndim\u001b[0m\u001b[1;33m-\u001b[0m\u001b[1;36m1\u001b[0m\u001b[1;33m\u001b[0m\u001b[0m\n\u001b[1;32m-> 5152\u001b[1;33m     \u001b[1;32mreturn\u001b[0m \u001b[0mconcatenate\u001b[0m\u001b[1;33m(\u001b[0m\u001b[1;33m(\u001b[0m\u001b[0marr\u001b[0m\u001b[1;33m,\u001b[0m \u001b[0mvalues\u001b[0m\u001b[1;33m)\u001b[0m\u001b[1;33m,\u001b[0m \u001b[0maxis\u001b[0m\u001b[1;33m=\u001b[0m\u001b[0maxis\u001b[0m\u001b[1;33m)\u001b[0m\u001b[1;33m\u001b[0m\u001b[0m\n\u001b[0m",
      "\u001b[1;31mKeyboardInterrupt\u001b[0m: "
     ]
    }
   ],
   "source": [
    "H = np.array([5e-4, 1e-3, 1e-3, 1e-3, 1e-2, 5e-1])\n",
    "for j in range(len(G2)):\n",
    "    g2=G2[j]\n",
    "    h=5e-1\n",
    "    xmin, xmax=root(T, 99*min(cpT), 99*max(cpT), 500, 100)\n",
    "    for k in range(20):\n",
    "        i=0\n",
    "        x=np.array([xc2])\n",
    "        while np.abs(x[i])>1e-5:\n",
    "            y = evol(x[i],h)\n",
    "            if y > xmax or y < xmin: y=x[i]\n",
    "            x = np.append(x, y)\n",
    "            i=i+1\n",
    "        print(i)"
   ]
  },
  {
   "cell_type": "code",
   "execution_count": null,
   "metadata": {},
   "outputs": [],
   "source": []
  },
  {
   "cell_type": "code",
   "execution_count": null,
   "metadata": {
    "collapsed": true
   },
   "outputs": [],
   "source": []
  },
  {
   "cell_type": "code",
   "execution_count": null,
   "metadata": {
    "collapsed": true
   },
   "outputs": [],
   "source": []
  }
 ],
 "metadata": {
  "kernelspec": {
   "display_name": "Python 3",
   "language": "python",
   "name": "python3"
  },
  "language_info": {
   "codemirror_mode": {
    "name": "ipython",
    "version": 3
   },
   "file_extension": ".py",
   "mimetype": "text/x-python",
   "name": "python",
   "nbconvert_exporter": "python",
   "pygments_lexer": "ipython3",
   "version": "3.6.3"
  }
 },
 "nbformat": 4,
 "nbformat_minor": 1
}
