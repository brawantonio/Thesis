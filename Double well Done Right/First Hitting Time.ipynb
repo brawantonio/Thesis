{
 "cells": [
  {
   "cell_type": "code",
   "execution_count": 1,
   "metadata": {},
   "outputs": [],
   "source": [
    "import numpy as np\n",
    "import scipy.integrate as integrate\n",
    "import matplotlib.pyplot as plt\n",
    "import scipy.optimize as optimize\n",
    "from scipy.optimize import brenth\n",
    "\n",
    "plt.rc('text', usetex=True)\n",
    "plt.rc('font', family='serif')\n",
    "\n",
    "pi=4*np.arctan(1.)"
   ]
  },
  {
   "cell_type": "code",
   "execution_count": 2,
   "metadata": {},
   "outputs": [],
   "source": [
    "def U(x): return 0.25*x**4-2*alpha*x**3/3.-0.5*x**2\n",
    "def dU(x): return x**3-2*alpha*x**2-x\n",
    "def ddU(x): return 3*x**2-4*alpha*x-1.\n",
    "\n",
    "def T(x): return 1-(dU(x)/g1)**2\n",
    "def dT(x): return -2*dU(x)*ddU(x)/g1**2\n",
    "\n",
    "def Ueff(x): return U(x)+T(x)/g2\n",
    "def dUeff(x): return dU(x)+dT(x)/g2\n",
    "def ddUeff(x):\n",
    "    return ddU(x)*(1.-2*ddU(x)/(g2*g1**2))\n",
    "\n",
    "def integrand(x):\n",
    "    return dUeff(x)/T(x)"
   ]
  },
  {
   "cell_type": "code",
   "execution_count": 3,
   "metadata": {},
   "outputs": [],
   "source": [
    "def root(F, x1, x2, div, it):\n",
    "    X=np.linspace(x1,x2, div)\n",
    "    roots=np.array([])\n",
    "    for i in range(div-1):\n",
    "        if F(X[i])*F(X[i+1])<=0:\n",
    "            p1=X[i]\n",
    "            p2=X[i+1]\n",
    "            r=brenth(F, p1, p2, maxiter=it)\n",
    "            roots=np.append(roots, r)\n",
    "    return roots"
   ]
  },
  {
   "cell_type": "code",
   "execution_count": 4,
   "metadata": {},
   "outputs": [],
   "source": [
    "def integral2(F, X):\n",
    "    l=len(X)\n",
    "    Func=np.zeros(l)\n",
    "    id0=int(0.5*l)\n",
    "    xmin=X[id0]\n",
    "    Func[id0]=0\n",
    "    for i in range(1,l):\n",
    "        if i<=id0:\n",
    "            x0 = X[id0-i+1]\n",
    "            x1 = X[id0-i]\n",
    "            Func[id0-i]=integrate.quad(F, x0, x1)[0]\n",
    "            Func[id0-i]=Func[id0-i]+Func[id0-i+1]\n",
    "        else:\n",
    "            x0 = X[i-1]\n",
    "            x1 = X[i]\n",
    "            Func[i]=integrate.quad(F, x0, x1)[0]\n",
    "            Func[i]=Func[i]+Func[i-1]\n",
    "    return Func"
   ]
  },
  {
   "cell_type": "code",
   "execution_count": 5,
   "metadata": {},
   "outputs": [],
   "source": [
    "def evol(x, h):\n",
    "    e=np.random.normal(0, 1)\n",
    "    y=x-h*dU(x)/g1+np.sqrt(2*T(x)*h/(g1*g2))*e\n",
    "    return y"
   ]
  },
  {
   "cell_type": "code",
   "execution_count": 6,
   "metadata": {},
   "outputs": [],
   "source": [
    "alphas=np.array([0.01, 0.5])"
   ]
  },
  {
   "cell_type": "code",
   "execution_count": 7,
   "metadata": {},
   "outputs": [],
   "source": [
    "alpha=alphas[0]\n",
    "xc1 = alpha+np.sqrt(alpha**2+1)\n",
    "xc2 = alpha-np.sqrt(alpha**2+1)"
   ]
  },
  {
   "cell_type": "markdown",
   "metadata": {},
   "source": [
    "## Langevin "
   ]
  },
  {
   "cell_type": "code",
   "execution_count": 8,
   "metadata": {},
   "outputs": [],
   "source": [
    "cpU=np.array([alpha-np.sqrt(alpha**2+1),0 ,alpha+np.sqrt(alpha**2+1)]) #this stores all the critical points for functions\n",
    "cpdU=np.array([2*alpha/3.-np.sqrt(4*alpha**2+3)/3, 2*alpha/3.+np.sqrt(4*alpha**2+3)/3])\n",
    "cpT=np.sort( np.concatenate([cpU, cpdU] ) )\n",
    "    \n",
    "g1=1.1; step=1.0; error=1e3; T0=min(T(cpT)); it=1; vec=np.array([T0]) #esto debería ser función pero so far no funciona\n",
    "while error > 1e-4:\n",
    "    g1=g1-np.sign(T0)*step\n",
    "    T1=min(T(cpT))\n",
    "    error=np.absolute(T1)\n",
    "    vec=np.append(vec, T1)\n",
    "    dvec=np.gradient(vec)\n",
    "    if dvec[-1]<1e-2: step=step/2.\n",
    "    T0=T1\n",
    "    it+=1\n",
    "    if it==100: break\n",
    "g1min=g1\n",
    "\n",
    "G1=np.array([1.01*g1min, 2*g1min, 10*g1min])\n",
    "value=G1/g1min"
   ]
  },
  {
   "cell_type": "code",
   "execution_count": 9,
   "metadata": {},
   "outputs": [],
   "source": [
    "g1=G1[1]\n",
    "  \n",
    "g2=1e-5\n",
    "step=5\n",
    "it=1\n",
    "for i in range(10000):\n",
    "    aux=ddUeff(cpU[0])\n",
    "    if aux>0: g2=g2-step\n",
    "    else: g2=g2+step\n",
    "    if np.mod(it,100)==0: step=step/20.\n",
    "    it=it+1\n",
    "g2c1=g2\n",
    "\n",
    "g2=1e-5\n",
    "step=5\n",
    "it=1\n",
    "for i in range(10000):\n",
    "    aux=ddUeff(cpU[2])\n",
    "    if aux>0: g2=g2-step\n",
    "    else: g2=g2+step\n",
    "    if np.mod(it,100)==0: step=step/20.\n",
    "    it=it+1\n",
    "g2c2=g2\n",
    "\n",
    "G2=np.array([0.5*g2c1, g2c1, 0.5*(g2c1+g2c2), g2c2, 2*g2c2, 10*g2c2])"
   ]
  },
  {
   "cell_type": "code",
   "execution_count": null,
   "metadata": {},
   "outputs": [
    {
     "name": "stdout",
     "output_type": "stream",
     "text": [
      "415079.22\n",
      "526419.08\n"
     ]
    }
   ],
   "source": [
    "H = np.array([5e-4, 1e-3, 1e-3, 1e-3, 1e-2, 5e-1])\n",
    "T_mean = np.array([])\n",
    "for j in range(len(G2)):\n",
    "    g2=G2[j]\n",
    "    h=2.0\n",
    "    xmin, xmax=root(T, 99*min(cpT), 99*max(cpT), 500, 100)\n",
    "    t = np.array([])\n",
    "    for k in range(100):\n",
    "        i=0\n",
    "        x=np.array([xc2])\n",
    "        while np.abs(x[i])>1e-5:\n",
    "            y = evol(x[i],h)\n",
    "            if y > xmax or y < xmin: y=x[i]\n",
    "            x = np.append(x, y)\n",
    "            i=i+1\n",
    "        t = np.append(t, i)\n",
    "    print(np.mean(h*t))\n",
    "    T_mean=(T_mean, np.mean(h*t))"
   ]
  },
  {
   "cell_type": "code",
   "execution_count": null,
   "metadata": {},
   "outputs": [],
   "source": [
    "plt.plot(G2, T_mean)\n",
    "plt.show()"
   ]
  },
  {
   "cell_type": "code",
   "execution_count": null,
   "metadata": {
    "collapsed": true
   },
   "outputs": [],
   "source": []
  },
  {
   "cell_type": "code",
   "execution_count": null,
   "metadata": {
    "collapsed": true
   },
   "outputs": [],
   "source": []
  }
 ],
 "metadata": {
  "kernelspec": {
   "display_name": "Python 3",
   "language": "python",
   "name": "python3"
  },
  "language_info": {
   "codemirror_mode": {
    "name": "ipython",
    "version": 3
   },
   "file_extension": ".py",
   "mimetype": "text/x-python",
   "name": "python",
   "nbconvert_exporter": "python",
   "pygments_lexer": "ipython3",
   "version": "3.6.4"
  }
 },
 "nbformat": 4,
 "nbformat_minor": 1
}
