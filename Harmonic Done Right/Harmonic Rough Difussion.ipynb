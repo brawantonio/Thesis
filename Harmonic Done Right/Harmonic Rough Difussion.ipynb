{
 "cells": [
  {
   "cell_type": "code",
   "execution_count": 1,
   "metadata": {
    "collapsed": true
   },
   "outputs": [],
   "source": [
    "import numpy as np\n",
    "import matplotlib.pyplot as plt\n",
    "from scipy.optimize import brenth\n",
    "import scipy.integrate as integrate\n",
    "\n",
    "plt.rc('text', usetex=True)\n",
    "plt.rc('font', family='serif')"
   ]
  },
  {
   "cell_type": "code",
   "execution_count": 2,
   "metadata": {
    "collapsed": true
   },
   "outputs": [],
   "source": [
    "def U(x): return 0.5*x**2\n",
    "def Ueff(x): return 0.5*x**2*(1.-2./(g2*g1**2))+1./g2\n",
    "def dU(x):  return x\n",
    "def dUeff(x): return x*(1.-2./(g2*g1**2))\n",
    "def d2Ueff(x): return 1.-2./(g2*g1**2)\n",
    "\n",
    "def T(x):  return 1.-(x/g1)**2\n",
    "\n",
    "def integrand(x): return dUeff(x)/T(x)"
   ]
  },
  {
   "cell_type": "code",
   "execution_count": 3,
   "metadata": {
    "collapsed": true
   },
   "outputs": [],
   "source": [
    "def root(F, x1, x2, div, it):\n",
    "    X=np.linspace(x1,x2, div)\n",
    "    roots=np.array([])\n",
    "    for i in range(div-1):\n",
    "        if F(X[i])*F(X[i+1])<=0:\n",
    "            p1=X[i]\n",
    "            p2=X[i+1]\n",
    "            r=brenth(F, p1, p2, maxiter=it)\n",
    "            roots=np.append(roots, r)\n",
    "    return roots"
   ]
  },
  {
   "cell_type": "code",
   "execution_count": 4,
   "metadata": {
    "collapsed": true
   },
   "outputs": [],
   "source": [
    "def maxmin(dF,d2F, x1, x2, div, it):\n",
    "    roots=root(dF, x1, x2, div, it)\n",
    "    Max=np.array([])\n",
    "    Min=np.array([])\n",
    "    Infl=np.array([])\n",
    "    for r in roots:\n",
    "        if d2F(r)>0: Min=np.append(Min, r)\n",
    "        if d2F(r)<0: Max=np.append(Max, r)\n",
    "        if d2F(r)==0: Infl=np.append(Infl, r)\n",
    "    return Max,Min, Infl"
   ]
  },
  {
   "cell_type": "code",
   "execution_count": 5,
   "metadata": {
    "collapsed": true
   },
   "outputs": [],
   "source": [
    "def integral2(F, X):\n",
    "    l=len(X)\n",
    "    Func=np.zeros(l)\n",
    "    id0=int(0.5*l)\n",
    "    xmin=X[id0]\n",
    "    Func[id0]=0\n",
    "    for i in range(1,l):\n",
    "        if i<=id0:\n",
    "            x0 = X[id0-i+1]\n",
    "            x1 = X[id0-i]\n",
    "            Func[id0-i]=integrate.quad(F, x0, x1)[0]\n",
    "            Func[id0-i]=Func[id0-i]+Func[id0-i+1]\n",
    "        else:\n",
    "            x0 = X[i-1]\n",
    "            x1 = X[i]\n",
    "            Func[i]=integrate.quad(F, x0, x1)[0]\n",
    "            Func[i]=Func[i]+Func[i-1]\n",
    "    return Func"
   ]
  },
  {
   "cell_type": "code",
   "execution_count": 6,
   "metadata": {
    "collapsed": true
   },
   "outputs": [],
   "source": [
    "def evol(x, h):\n",
    "    e=np.random.normal(0, 1)\n",
    "    y=x-h*dU(x)/g1+np.sqrt(2*T(x)*h/(g1*g2))*e\n",
    "    return y\n",
    "def rough(y, x):\n",
    "    dy = np.gradient(y, x, edge_order=2)\n",
    "    L = integrate.trapz(np.sqrt(1+dy**2),x )\n",
    "    N = np.sqrt((max(x)-min(x))**2+(max(y)-min(y))**2)\n",
    "    return L/N-1"
   ]
  },
  {
   "cell_type": "code",
   "execution_count": 7,
   "metadata": {
    "collapsed": true
   },
   "outputs": [],
   "source": [
    "g1=1\n",
    "x=np.linspace(-g1*.9999, g1*.9999, 1000) "
   ]
  },
  {
   "cell_type": "code",
   "execution_count": 8,
   "metadata": {},
   "outputs": [
    {
     "data": {
      "text/plain": [
       "0.11350432694102253"
      ]
     },
     "execution_count": 8,
     "metadata": {},
     "output_type": "execute_result"
    }
   ],
   "source": [
    "r=rough(U(x),x)\n",
    "r"
   ]
  },
  {
   "cell_type": "markdown",
   "metadata": {},
   "source": [
    "## 1er intento ever"
   ]
  },
  {
   "cell_type": "code",
   "execution_count": 9,
   "metadata": {
    "collapsed": true
   },
   "outputs": [],
   "source": [
    "G2=np.array([1.0, 2.0, 10.0])\n",
    "average1 = np.array([])\n",
    "average2 = np.array([])\n",
    "\n",
    "for g  in G2:\n",
    "    g2=g\n",
    "    inte=integral2(integrand, x)\n",
    "    inte=-g2*inte\n",
    "    prob=np.exp(inte)\n",
    "    prob[prob==np.nan]=0\n",
    "    Part=np.trapz(prob, x)\n",
    "    \n",
    "    aux1=T(x)*prob/Part/g1/g2\n",
    "    av1 = np.trapz(aux1, x)\n",
    "    average1 = np.append(average1, av1)\n",
    "    \n",
    "    aux2=T(x)*prob/Part\n",
    "    av2 = np.trapz(aux2, x)\n",
    "    average2 = np.append(average2, av2)"
   ]
  },
  {
   "cell_type": "code",
   "execution_count": 10,
   "metadata": {
    "collapsed": true
   },
   "outputs": [],
   "source": [
    "np.save('DH1', np.column_stack((G2, average1)))\n",
    "np.save('DH2', np.column_stack((G2, average2)))"
   ]
  },
  {
   "cell_type": "code",
   "execution_count": 11,
   "metadata": {},
   "outputs": [
    {
     "name": "stdout",
     "output_type": "stream",
     "text": [
      "[  1.   2.  10.] [ 0.49291462  0.33336633  0.09090909]\n"
     ]
    }
   ],
   "source": [
    "print(G2, average1)"
   ]
  },
  {
   "cell_type": "code",
   "execution_count": null,
   "metadata": {
    "collapsed": true
   },
   "outputs": [],
   "source": []
  },
  {
   "cell_type": "code",
   "execution_count": null,
   "metadata": {
    "collapsed": true
   },
   "outputs": [],
   "source": []
  },
  {
   "cell_type": "code",
   "execution_count": null,
   "metadata": {
    "collapsed": true
   },
   "outputs": [],
   "source": []
  }
 ],
 "metadata": {
  "kernelspec": {
   "display_name": "Python 3",
   "language": "python",
   "name": "python3"
  },
  "language_info": {
   "codemirror_mode": {
    "name": "ipython",
    "version": 3
   },
   "file_extension": ".py",
   "mimetype": "text/x-python",
   "name": "python",
   "nbconvert_exporter": "python",
   "pygments_lexer": "ipython3",
   "version": "3.6.3"
  }
 },
 "nbformat": 4,
 "nbformat_minor": 1
}
