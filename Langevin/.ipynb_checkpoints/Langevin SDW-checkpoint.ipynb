{
 "cells": [
  {
   "cell_type": "code",
   "execution_count": 30,
   "metadata": {
    "collapsed": true
   },
   "outputs": [],
   "source": [
    "import numpy as np\n",
    "import matplotlib.pyplot as plt\n",
    "from scipy.optimize import brenth\n",
    "\n",
    "plt.rc('text', usetex=True)\n",
    "plt.rc('font', family='serif')"
   ]
  },
  {
   "cell_type": "code",
   "execution_count": 31,
   "metadata": {
    "collapsed": true
   },
   "outputs": [],
   "source": [
    "def U(x):\n",
    "    return x**4-2*x**2\n",
    "def dU(x):\n",
    "    return 4*x**3-4*x\n",
    "def T(x):\n",
    "    return 1-(dU(x)/g1)**2"
   ]
  },
  {
   "cell_type": "code",
   "execution_count": 32,
   "metadata": {
    "collapsed": true
   },
   "outputs": [],
   "source": [
    "def root(F, x1, x2, div, it):\n",
    "    X=np.linspace(x1,x2, div)\n",
    "    roots=np.array([])\n",
    "    for i in range(div-1):\n",
    "        if F(X[i])*F(X[i+1])<=0:\n",
    "            p1=X[i]\n",
    "            p2=X[i+1]\n",
    "            r=brenth(F, p1, p2, maxiter=it)\n",
    "            roots=np.append(roots, r)\n",
    "    return roots"
   ]
  },
  {
   "cell_type": "code",
   "execution_count": 33,
   "metadata": {
    "collapsed": true
   },
   "outputs": [],
   "source": [
    "def evol(x, h):\n",
    "    e=np.random.normal(0, 1)\n",
    "    y=x-h*dU(x)/g1+np.sqrt(2.*T(x)*h/(g1*g2))*e\n",
    "    return y"
   ]
  },
  {
   "cell_type": "code",
   "execution_count": 114,
   "metadata": {
    "collapsed": true
   },
   "outputs": [],
   "source": [
    "g1=1.0\n",
    "G2=np.array([0.0001,0.001 ,0.01, 0.1])\n",
    "colors=['purple', 'blue', 'green', 'yellow', 'orange', 'red']"
   ]
  },
  {
   "cell_type": "code",
   "execution_count": 115,
   "metadata": {
    "collapsed": false
   },
   "outputs": [],
   "source": [
    "roots=root(T, -g1, g1, 100, 1000)\n",
    "Xmin=-min(np.absolute(roots))\n",
    "Xmax=-Xmin"
   ]
  },
  {
   "cell_type": "code",
   "execution_count": 113,
   "metadata": {
    "collapsed": false
   },
   "outputs": [],
   "source": [
    "for j in range(len(G2)):\n",
    "    g2=G2[j]\n",
    "    it=500000\n",
    "    #l=int(0.99*it)\n",
    "    h=1e-4\n",
    "    x=np.zeros(it)\n",
    "    value=1e2*g2*g1**2\n",
    "    x[0]=np.random.uniform(.9999*Xmin,.9999*Xmax)\n",
    "    y=np.array([])\n",
    "    for k in range(10):\n",
    "        for i in range(1,it):\n",
    "            x[i]=evol(x[i-1],h)\n",
    "            if x[i]>Xmax or x[i]<Xmin:\n",
    "                x[i]=x[i-1]\n",
    "        y=np.append(y,x)\n",
    "            \n",
    "    plt.hist(y/max(y), 'fd', normed=1, histtype='step',\n",
    "             color=colors[j], label=r'$g_2g_1^2=%.2f \\times 10^{-2}$'%value)\n",
    "plt.grid()\n",
    "plt.xlim([-1,1])\n",
    "plt.legend(loc='best', frameon=0)\n",
    "plt.ylabel(r'$P(x)$', fontsize=18)\n",
    "plt.xlabel(r'$x/x_{max}$', fontsize=18)\n",
    "plt.show()"
   ]
  },
  {
   "cell_type": "code",
   "execution_count": 53,
   "metadata": {
    "collapsed": false
   },
   "outputs": [],
   "source": []
  },
  {
   "cell_type": "code",
   "execution_count": 59,
   "metadata": {
    "collapsed": false
   },
   "outputs": [],
   "source": []
  },
  {
   "cell_type": "code",
   "execution_count": null,
   "metadata": {
    "collapsed": false
   },
   "outputs": [],
   "source": []
  },
  {
   "cell_type": "code",
   "execution_count": null,
   "metadata": {
    "collapsed": true
   },
   "outputs": [],
   "source": []
  }
 ],
 "metadata": {
  "kernelspec": {
   "display_name": "Python 2",
   "language": "python",
   "name": "python2"
  },
  "language_info": {
   "codemirror_mode": {
    "name": "ipython",
    "version": 2
   },
   "file_extension": ".py",
   "mimetype": "text/x-python",
   "name": "python",
   "nbconvert_exporter": "python",
   "pygments_lexer": "ipython2",
   "version": "2.7.12"
  }
 },
 "nbformat": 4,
 "nbformat_minor": 0
}
