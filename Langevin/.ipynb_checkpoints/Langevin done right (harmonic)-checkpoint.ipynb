{
 "cells": [
  {
   "cell_type": "code",
   "execution_count": 9,
   "metadata": {
    "collapsed": true
   },
   "outputs": [],
   "source": [
    "import numpy as np\n",
    "import matplotlib.pyplot as plt\n",
    "\n",
    "plt.rc('text', usetex=True)\n",
    "plt.rc('font', family='serif')"
   ]
  },
  {
   "cell_type": "code",
   "execution_count": 10,
   "metadata": {
    "collapsed": true
   },
   "outputs": [],
   "source": [
    "def U(x):\n",
    "    return 0.5*x**2\n",
    "def dU(x):\n",
    "    return x\n",
    "def T(x):\n",
    "    return 1.-(x/g1)**2\n",
    "def Ueff(x):\n",
    "    return U(x)+T(x)/g2"
   ]
  },
  {
   "cell_type": "code",
   "execution_count": 11,
   "metadata": {
    "collapsed": true
   },
   "outputs": [],
   "source": [
    "def evol(x, h):\n",
    "    e=np.random.normal(0, 1)\n",
    "    y=x-h*dU(x)/g1+np.sqrt(2*T(x)*h/(g1*g2))*e\n",
    "    return y"
   ]
  },
  {
   "cell_type": "code",
   "execution_count": 12,
   "metadata": {
    "collapsed": true
   },
   "outputs": [],
   "source": [
    "g1=1.\n",
    "G2=np.array([0.1, 0.5, 1.0, 2.0, 4.0, 10.0])\n",
    "colors=['purple', 'blue', 'green', 'yellow', 'orange', 'red']"
   ]
  },
  {
   "cell_type": "code",
   "execution_count": 14,
   "metadata": {},
   "outputs": [
    {
     "data": {
      "image/png": "[encoded data removed]",
      "text/plain": [
       "<matplotlib.figure.Figure at 0x17e6989b320>"
      ]
     },
     "metadata": {},
     "output_type": "display_data"
    }
   ],
   "source": [
    "for j in range(len(G2)):\n",
    "    g2=G2[j]\n",
    "    it=2000000\n",
    "    l=int(0.99*it)\n",
    "    h=1e-3\n",
    "    x=np.zeros(it)\n",
    "    value=g2*g1**2\n",
    "    x[0]=np.random.uniform(-g1,g1)\n",
    "    for i in range(1,it):\n",
    "        x[i]=evol(x[i-1],h)\n",
    "        if x[i]>g1 or x[i]<-g1:\n",
    "            x[i]=x[i-1]\n",
    "    counts,bin_edges = np.histogram(x[-l:], 'fd', density=1)\n",
    "    bin_centres = (bin_edges[:-1] + bin_edges[1:])/2.\n",
    "    plt.scatter(bin_centres, counts,c=colors[j], lw=0, s=15, label=r'$g_2g_1^2=%.2f$'%value, alpha=0.5)\n",
    "    plt.xlim([-g1,g1])\n",
    "    #plt.hist(x[-l:], 'fd', normed=1, range=(-g1,g1), histtype='step',\n",
    "    #         color=colors[j], label=r'$g_2g_1^2=%.2f$'%value)\n",
    "plt.grid()\n",
    "plt.legend(loc='best', frameon=0)\n",
    "plt.ylabel(r'$P(x)$', fontsize=18)\n",
    "plt.xlabel(r'$x/g_1$', fontsize=18)\n",
    "plt.show()\n",
    "plt.close()"
   ]
  },
  {
   "cell_type": "code",
   "execution_count": null,
   "metadata": {
    "collapsed": true
   },
   "outputs": [],
   "source": []
  },
  {
   "cell_type": "code",
   "execution_count": null,
   "metadata": {
    "collapsed": true
   },
   "outputs": [],
   "source": []
  },
  {
   "cell_type": "code",
   "execution_count": null,
   "metadata": {
    "collapsed": true
   },
   "outputs": [],
   "source": []
  },
  {
   "cell_type": "code",
   "execution_count": 312,
   "metadata": {
    "collapsed": true
   },
   "outputs": [],
   "source": []
  },
  {
   "cell_type": "code",
   "execution_count": 322,
   "metadata": {
    "collapsed": true
   },
   "outputs": [],
   "source": []
  },
  {
   "cell_type": "code",
   "execution_count": null,
   "metadata": {
    "collapsed": true
   },
   "outputs": [],
   "source": []
  },
  {
   "cell_type": "code",
   "execution_count": null,
   "metadata": {
    "collapsed": true
   },
   "outputs": [],
   "source": []
  }
 ],
 "metadata": {
  "kernelspec": {
   "display_name": "Python 3",
   "language": "python",
   "name": "python3"
  },
  "language_info": {
   "codemirror_mode": {
    "name": "ipython",
    "version": 3
   },
   "file_extension": ".py",
   "mimetype": "text/x-python",
   "name": "python",
   "nbconvert_exporter": "python",
   "pygments_lexer": "ipython3",
   "version": "3.6.3"
  }
 },
 "nbformat": 4,
 "nbformat_minor": 1
}
