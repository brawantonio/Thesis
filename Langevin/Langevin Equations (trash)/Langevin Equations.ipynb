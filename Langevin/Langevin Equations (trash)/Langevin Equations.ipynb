{
 "cells": [
  {
   "cell_type": "code",
   "execution_count": 3,
   "metadata": {
    "collapsed": true
   },
   "outputs": [],
   "source": [
    "import numpy as np\n",
    "import scipy.integrate as integrate\n",
    "import matplotlib.pyplot as plt\n",
    "import scipy.optimize as optimize\n",
    "\n",
    "plt.rc('text', usetex=True)\n",
    "plt.rc('font', family='serif')"
   ]
  },
  {
   "cell_type": "code",
   "execution_count": 20,
   "metadata": {
    "collapsed": false
   },
   "outputs": [],
   "source": [
    "chi=0.1\n",
    "bc=27./4.*chi**2\n",
    "beta=10*bc\n",
    "\n",
    "it=500\n",
    "h=1e-3\n",
    "\n",
    "aux=chi**(1./3.)/(1.+np.sqrt(1.-chi**2))**(1./3.)\n",
    "xm=(aux+1./aux)/np.sqrt(3.)"
   ]
  },
  {
   "cell_type": "code",
   "execution_count": 21,
   "metadata": {
    "collapsed": true
   },
   "outputs": [],
   "source": [
    "def dU(x):\n",
    "    return 4*x**3-4.*x\n",
    "\n",
    "def T(x,chi):\n",
    "    return 1.-27./4.*chi**2*x**2*(x**2-1.)**2\n",
    "\n",
    "def f(x,chi,beta):\n",
    "    g1=np.sqrt(3.**3/4.**3)*chi\n",
    "    g2=np.sqrt(2.*g1/beta)\n",
    "    eta=np.random.normal()\n",
    "    return -g1*dU(x)+g2*np.sqrt(T(x,chi))*eta"
   ]
  },
  {
   "cell_type": "code",
   "execution_count": 22,
   "metadata": {
    "collapsed": false
   },
   "outputs": [],
   "source": [
    "def rk2(it,h,f):\n",
    "    aux=chi**(1./3.)/(1.+np.sqrt(1.-chi**2))**(1./3.)\n",
    "    xm=(aux+1./aux)/np.sqrt(3)\n",
    "    x=np.zeros(it+1)\n",
    "    x[0]=np.random.uniform(-xm,xm)\n",
    "    for n in range(it):\n",
    "        k1=h*f(x[n],chi,beta)\n",
    "        k2=h*f(x[n]+0.5*k1,chi,beta)\n",
    "        x[n+1]=x[n]+k2\n",
    "    return x"
   ]
  },
  {
   "cell_type": "code",
   "execution_count": 23,
   "metadata": {
    "collapsed": false
   },
   "outputs": [],
   "source": [
    "particles=10000\n",
    "#x=np.array([])\n",
    "#x=np.zeros([particles, it+1])\n",
    "x=np.zeros(particles)\n",
    "for i in range(particles):\n",
    "    #x=np.append(x,rk2(it,h,f))\n",
    "    #x[i,:]=rk2(it,h, f)\n",
    "    aux=rk2(it,h,f)\n",
    "    x[i]=aux[-1]\n",
    "x=x/xm"
   ]
  },
  {
   "cell_type": "code",
   "execution_count": null,
   "metadata": {
    "collapsed": false
   },
   "outputs": [],
   "source": []
  },
  {
   "cell_type": "code",
   "execution_count": 25,
   "metadata": {
    "collapsed": false
   },
   "outputs": [],
   "source": [
    "P,binedges=np.histogram(x,bins='fd',range=[-1,1], density=True)\n",
    "X=np.linspace(-1,1,len(P))"
   ]
  },
  {
   "cell_type": "code",
   "execution_count": 26,
   "metadata": {
    "collapsed": false
   },
   "outputs": [],
   "source": [
    "plt.scatter(X,P, lw=0,s=15 ,color='red')\n",
    "plt.plot([-1,1],[0,0],'k--')\n",
    "plt.xlim([-1,1])\n",
    "plt.title('Densidad de probabilidad')\n",
    "plt.ylabel('$P(x)$',fontsize=18)\n",
    "plt.xlabel('$x/x_m$', fontsize=18)\n",
    "plt.show()"
   ]
  },
  {
   "cell_type": "code",
   "execution_count": null,
   "metadata": {
    "collapsed": false
   },
   "outputs": [],
   "source": []
  },
  {
   "cell_type": "code",
   "execution_count": null,
   "metadata": {
    "collapsed": false
   },
   "outputs": [],
   "source": []
  },
  {
   "cell_type": "code",
   "execution_count": null,
   "metadata": {
    "collapsed": true
   },
   "outputs": [],
   "source": []
  }
 ],
 "metadata": {
  "kernelspec": {
   "display_name": "Python 2",
   "language": "python",
   "name": "python2"
  },
  "language_info": {
   "codemirror_mode": {
    "name": "ipython",
    "version": 2
   },
   "file_extension": ".py",
   "mimetype": "text/x-python",
   "name": "python",
   "nbconvert_exporter": "python",
   "pygments_lexer": "ipython2",
   "version": "2.7.12"
  }
 },
 "nbformat": 4,
 "nbformat_minor": 0
}
