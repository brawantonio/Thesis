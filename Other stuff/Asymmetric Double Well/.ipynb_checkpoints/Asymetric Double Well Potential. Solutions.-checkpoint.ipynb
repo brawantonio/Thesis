{
 "cells": [
  {
   "cell_type": "code",
   "execution_count": 1,
   "metadata": {
    "collapsed": true
   },
   "outputs": [],
   "source": [
    "import numpy as np\n",
    "import scipy.integrate as integrate\n",
    "import matplotlib.pyplot as plt\n",
    "import scipy.optimize as optimize\n",
    "\n",
    "plt.rc('text', usetex=True)\n",
    "plt.rc('font', family='serif')"
   ]
  },
  {
   "cell_type": "code",
   "execution_count": 2,
   "metadata": {
    "collapsed": true
   },
   "outputs": [],
   "source": [
    "def T(x,X,a):\n",
    "    return 1.0-0.25*27*X**2*x**2*(x**2-4./3.*a*x-1)**2\n",
    "def U(x,a):\n",
    "    return x**2*(x**2-a*x-2.0)\n",
    "def Ueff(x,X,a,b):\n",
    "    return U(x,a)+T(x,X,a)/b\n",
    "\n",
    "def dU(x,a):\n",
    "    return 4*x*(x**2-3.*a*x/4.0-1.0)\n",
    "def dT(x,X,a):\n",
    "    return -27./4.*X**2*2*x*(x**2-3./4.*a*x-1)**2-27./4.*X**2*x**2*2*(x**2-3./4.*a*x-1)*(2*x-3./4.*a)\n",
    "def dUeff(x,X,a,b):\n",
    "    return dU(x,a)+dT(x,X,a)/b\n",
    "\n",
    "def integrand(x,X,a):\n",
    "    return dU(x,a)/T(x,X,a)\n",
    "\n",
    "def arg(x,X,a):\n",
    "    return integrate.quad(integrand,0,x,args=(X,a))[0]"
   ]
  },
  {
   "cell_type": "code",
   "execution_count": 3,
   "metadata": {
    "collapsed": true
   },
   "outputs": [],
   "source": [
    "X=0.1\n",
    "b_c=27.0/4.0*X**2\n",
    "b=0.5*b_c\n",
    "\n",
    "a=0.5"
   ]
  },
  {
   "cell_type": "code",
   "execution_count": 4,
   "metadata": {
    "collapsed": false
   },
   "outputs": [
    {
     "name": "stdout",
     "output_type": "stream",
     "text": [
      "[-1.55882809  2.05958276]\n"
     ]
    }
   ],
   "source": [
    "p1=-3\n",
    "p2=3\n",
    "\n",
    "def rootfinder(p1,p2,X,a):\n",
    "    r=np.linspace(p1,p2,50)\n",
    "    roots=np.array([])\n",
    "    for i in range(len(r)-1):\n",
    "        criterium=T(r[i],X,a)*T(r[i+1],X,a)\n",
    "        if criterium<0:\n",
    "            root=optimize.brentq(T,r[i],r[i+1],args=(X,a))\n",
    "            roots=np.append(roots,root)\n",
    "    return roots\n",
    "roots=rootfinder(p1,p2,X,a)\n",
    "print roots"
   ]
  },
  {
   "cell_type": "code",
   "execution_count": 5,
   "metadata": {
    "collapsed": true
   },
   "outputs": [],
   "source": [
    "x=np.linspace(-1.5,2.0,100)\n",
    "plt.plot(x,U(x,a),color='purple')\n",
    "plt.xlabel('$x/L$',fontsize=18)\n",
    "plt.ylabel('$U(x)/\\epsilon$',fontsize=18)\n",
    "plt.plot([-1.5,2.0],[0,0],'k--')\n",
    "plt.title('Potencial biestable asimetrico',fontsize=18)\n",
    "plt.grid()\n",
    "plt.show()"
   ]
  },
  {
   "cell_type": "code",
   "execution_count": 6,
   "metadata": {
    "collapsed": true
   },
   "outputs": [],
   "source": [
    "Xs=[0.1,0.5,0.55]\n",
    "labels=['$\\chi=0.1$','$\\chi=0.5$','$\\chi=0.55$']\n",
    "colors=['red','purple','orange']\n",
    "\n",
    "for i in range(3): \n",
    "    roots=rootfinder(p1,p2,Xs[i],a)\n",
    "    ll=roots[0]\n",
    "    ul=roots[-1]\n",
    "    x=np.linspace(ll,ul,100)\n",
    "    plt.plot(x,T(x,Xs[i],a),color=colors[i],label=labels[i])\n",
    "    plt.plot([ll,ul],[0,0],'k--')\n",
    "plt.legend(loc='best',frameon=False)\n",
    "plt.plot([ll,ul],[0,0],'k--')\n",
    "plt.xlabel('$x/L$',fontsize=18)\n",
    "plt.ylabel('$T(x)/T_0$',fontsize=18)\n",
    "plt.grid()\n",
    "plt.show()"
   ]
  },
  {
   "cell_type": "code",
   "execution_count": 7,
   "metadata": {
    "collapsed": false
   },
   "outputs": [],
   "source": [
    "X=0.5\n",
    "b_c=27.0/4.0*X**2\n",
    "b=[0.5*b_c,b_c,3.75*b_c,5*b_c]\n",
    "roots=rootfinder(p1,p2,X,a)\n",
    "ll=roots[0]-np.sign(roots[0])*0.02\n",
    "ul=roots[1]-np.sign(roots[1])*0.02\n",
    "x=np.linspace(ll,ul,100)\n",
    "\n",
    "labels=[r'$\\beta_0=0.5\\beta_c$',r'$\\beta_0=\\beta_c$',r'$\\beta_0=3.75\\beta_c$',r'$\\beta_0=5\\beta_c$']\n",
    "for k in range(len(b)):\n",
    "    solution=np.zeros(len(x))\n",
    "    for i in range(len(x)): \n",
    "        solution[i]=np.exp(-b[k]*arg(x[i],X,a))/T(x[i],X,a)\n",
    "    weight=np.trapz(solution,x,dx=x[1]-x[0])\n",
    "    \n",
    "    plt.plot(-x/roots[0],-roots[0]*solution/weight,label=labels[k])\n",
    "    plt.xlabel('$x/x_m$',fontsize=18)\n",
    "    plt.ylabel('$x_mP_{st}(x)$',fontsize=18)\n",
    "    plt.title('$\\chi=0.52$',fontsize=18)\n",
    "plt.grid()\n",
    "plt.legend(loc='center',frameon=False)\n",
    "plt.show()"
   ]
  },
  {
   "cell_type": "code",
   "execution_count": null,
   "metadata": {
    "collapsed": false
   },
   "outputs": [],
   "source": []
  },
  {
   "cell_type": "code",
   "execution_count": null,
   "metadata": {
    "collapsed": true
   },
   "outputs": [],
   "source": []
  }
 ],
 "metadata": {
  "kernelspec": {
   "display_name": "Python 2",
   "language": "python",
   "name": "python2"
  },
  "language_info": {
   "codemirror_mode": {
    "name": "ipython",
    "version": 2
   },
   "file_extension": ".py",
   "mimetype": "text/x-python",
   "name": "python",
   "nbconvert_exporter": "python",
   "pygments_lexer": "ipython2",
   "version": "2.7.12"
  }
 },
 "nbformat": 4,
 "nbformat_minor": 0
}
