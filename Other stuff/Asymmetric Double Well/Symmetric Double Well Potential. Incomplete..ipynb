{
 "cells": [
  {
   "cell_type": "code",
   "execution_count": 13,
   "metadata": {
    "collapsed": true
   },
   "outputs": [],
   "source": [
    "import numpy as np\n",
    "import scipy.integrate as integrate\n",
    "import matplotlib.pyplot as plt\n",
    "import scipy.optimize as optimize\n",
    "\n",
    "plt.rc('text', usetex=True)\n",
    "plt.rc('font', family='serif')"
   ]
  },
  {
   "cell_type": "code",
   "execution_count": 2,
   "metadata": {
    "collapsed": true
   },
   "outputs": [],
   "source": [
    "def U(x,DU,L,a):\n",
    "    return DU*((x/L)**4-a*(x/L)**3-2*(x/L)**2)\n",
    "\n",
    "def dU(x,DU,L,a):\n",
    "    return DU*(4*(x/L)**3-3*a*(x/L)**2-4*(x/L))\n",
    "\n",
    "def T(x,L,a,X):\n",
    "    return T0*(1.-27./4.*(X*x/L)**2*((x/L)**2-3.*a*x/(4.*L)-1.)**2)\n",
    "\n",
    "def U_eff(x,DU,L,a,X):\n",
    "    return U(x,DU,L,a)+kb*T(x,L,a,X)\n",
    "\n",
    "def integrand(x,DU,L,a,X):\n",
    "    return dU(x,DU,L,a)/T(x,L,a,X)"
   ]
  },
  {
   "cell_type": "code",
   "execution_count": 111,
   "metadata": {
    "collapsed": true
   },
   "outputs": [],
   "source": [
    "DU=1\n",
    "L=1\n",
    "a=0.5\n",
    "\n",
    "mu=1.0\n",
    "T0=1.0\n",
    "v=1.0\n",
    "kb=1.0\n",
    "\n",
    "X=np.sqrt((4./3.)**3)*mu*DU/(v*L)"
   ]
  },
  {
   "cell_type": "code",
   "execution_count": 112,
   "metadata": {
    "collapsed": true
   },
   "outputs": [],
   "source": [
    "min_1=L*(3./8.*a-np.sqrt((3./8.*a)**2+1))\n",
    "min_2=L*(3./8.*a+np.sqrt((3./8.*a)**2+1))"
   ]
  },
  {
   "cell_type": "code",
   "execution_count": 113,
   "metadata": {
    "collapsed": false
   },
   "outputs": [],
   "source": [
    "ll=min_1-0.75*L\n",
    "ul=min_2+0.75*L\n",
    "x=np.linspace(ll,ul,50)\n",
    "plt.plot(x,U(x,DU,L,a), color='red')\n",
    "plt.plot([ll,ul],[0,0],'k--')\n",
    "plt.scatter([min_1,min_2],[U(min_1,DU,L,a),U(min_2,DU,L,a)],lw=0,s=25,color='black',marker='p')\n",
    "\n",
    "plt.title('Symetric Double Well Potential',fontsize=18)\n",
    "plt.xlabel('$x$',fontsize=18)\n",
    "plt.ylabel('$y$',fontsize=18)\n",
    "plt.grid()\n",
    "plt.show()"
   ]
  },
  {
   "cell_type": "code",
   "execution_count": 114,
   "metadata": {
    "collapsed": false
   },
   "outputs": [
    {
     "name": "stdout",
     "output_type": "stream",
     "text": [
      "[-0.9517264  -0.59809838 -0.32259947  0.24220979  1.08451661  1.29569785]\n"
     ]
    }
   ],
   "source": [
    "p1=-1.5\n",
    "p2=1.5\n",
    "r=np.linspace(p1,p2,50)\n",
    "roots=np.array([])\n",
    "for i in range(len(r)-1):\n",
    "    criterium=T(r[i],L,a,X)*T(r[i+1],L,a,X)\n",
    "    if criterium<0:\n",
    "        root=optimize.brentq(T,r[i],r[i+1],args=(L,a,X))\n",
    "        roots=np.append(roots,root)\n",
    "print roots #Hay raices de mas!!!!!"
   ]
  },
  {
   "cell_type": "code",
   "execution_count": 115,
   "metadata": {
    "collapsed": false
   },
   "outputs": [],
   "source": [
    "ll=roots[0]-0.05\n",
    "ul=roots[-1]+0.05\n",
    "x=np.linspace(ll,ul,100)\n",
    "plt.plot(x,T(x,L,a,X), color='red')\n",
    "\n",
    "plt.grid()\n",
    "plt.show()"
   ]
  },
  {
   "cell_type": "code",
   "execution_count": 116,
   "metadata": {
    "collapsed": false
   },
   "outputs": [],
   "source": [
    "ll=roots[0]-0.05\n",
    "ul=roots[-1]+0.05\n",
    "x=np.linspace(ll,ul,100)\n",
    "plt.plot(x,U_eff(x,DU,L,a,X))\n",
    "plt.plot(x,T(x,L,a,X),color='red')\n",
    "plt.plot([ll,ul],[0,0],'k--')\n",
    "\n",
    "plt.grid()\n",
    "plt.show()"
   ]
  },
  {
   "cell_type": "code",
   "execution_count": null,
   "metadata": {
    "collapsed": false
   },
   "outputs": [],
   "source": []
  },
  {
   "cell_type": "code",
   "execution_count": null,
   "metadata": {
    "collapsed": true
   },
   "outputs": [],
   "source": []
  },
  {
   "cell_type": "code",
   "execution_count": null,
   "metadata": {
    "collapsed": false
   },
   "outputs": [],
   "source": []
  },
  {
   "cell_type": "code",
   "execution_count": 117,
   "metadata": {
    "collapsed": false
   },
   "outputs": [],
   "source": [
    "def arg(x,DU,L,a,X):\n",
    "    return integrate.quad(integrand,0,x,args=(DU,L,a,X))[0]"
   ]
  },
  {
   "cell_type": "code",
   "execution_count": 136,
   "metadata": {
    "collapsed": false
   },
   "outputs": [],
   "source": [
    "ll=roots[2]+0.01\n",
    "ul=roots[-3]-0.01\n",
    "x=np.linspace(ll,ul,100)\n",
    "solution=np.zeros(len(x))\n",
    "for i in range(len(x)): \n",
    "    solution[i]=np.exp(-arg(x[i],DU,L,a,X))/T(x[i],L,a,X)"
   ]
  },
  {
   "cell_type": "code",
   "execution_count": 137,
   "metadata": {
    "collapsed": true
   },
   "outputs": [],
   "source": [
    "plt.plot(x/roots[-3],roots[-3]*solution) #Expresar en términos de parámetros adecuados\n",
    "plt.plot([min(x/roots[-3]),max(x)/roots[-3]],[0,0],'k--')\n",
    "plt.grid()\n",
    "#plt.ylim([-1,1])\n",
    "plt.show()"
   ]
  },
  {
   "cell_type": "code",
   "execution_count": null,
   "metadata": {
    "collapsed": false
   },
   "outputs": [],
   "source": []
  },
  {
   "cell_type": "code",
   "execution_count": null,
   "metadata": {
    "collapsed": true
   },
   "outputs": [],
   "source": []
  }
 ],
 "metadata": {
  "kernelspec": {
   "display_name": "Python 2",
   "language": "python",
   "name": "python2"
  },
  "language_info": {
   "codemirror_mode": {
    "name": "ipython",
    "version": 2
   },
   "file_extension": ".py",
   "mimetype": "text/x-python",
   "name": "python",
   "nbconvert_exporter": "python",
   "pygments_lexer": "ipython2",
   "version": "2.7.12"
  }
 },
 "nbformat": 4,
 "nbformat_minor": 0
}
