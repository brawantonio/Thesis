{
 "cells": [
  {
   "cell_type": "code",
   "execution_count": 1,
   "metadata": {
    "collapsed": true
   },
   "outputs": [],
   "source": [
    "import numpy as np\n",
    "import scipy.integrate as integrate\n",
    "import matplotlib.pyplot as plt\n",
    "import scipy.optimize as optimize\n",
    "\n",
    "plt.rc('text', usetex=True)\n",
    "plt.rc('font', family='serif')"
   ]
  },
  {
   "cell_type": "code",
   "execution_count": 2,
   "metadata": {
    "collapsed": false
   },
   "outputs": [],
   "source": [
    "def T(x,X,a):\n",
    "    return 1.0-0.25*27*X**2*x**2*(x**2-4./3.*a*x-1)**2\n",
    "def U(x,a):\n",
    "    return x**2*(x**2-a*x-2.0)\n",
    "def Ueff(x,X,a,b):\n",
    "    return U(x,a)+T(x,X,a)/b\n",
    "\n",
    "def dU(x,a):\n",
    "    return 4*x*(x**2-3.*a*x/4.0-1.0)\n",
    "def dT(x,X,a):\n",
    "    return -27./4.*X**2*2*x*(x**2-3./4.*a*x-1)**2-27./4.*X**2*x**2*2*(x**2-3./4.*a*x-1)*(2*x-3./4.*a)\n",
    "def dUeff(x,X,a,b):\n",
    "    return dU(x,a)+dT(x,X,a)/b\n",
    "\n",
    "def integrand(x,X,a):\n",
    "    return dU(x,a)/T(x,X,a)\n",
    "\n",
    "def arg(x,X,a):\n",
    "    return integrate.quad(integrand,0,x,args=(X,a))[0]"
   ]
  },
  {
   "cell_type": "code",
   "execution_count": 3,
   "metadata": {
    "collapsed": true
   },
   "outputs": [],
   "source": [
    "X=0.9\n",
    "b_c=27.0/4.0*X**2\n",
    "b=0.5*b_c\n",
    "\n",
    "a=0.0"
   ]
  },
  {
   "cell_type": "code",
   "execution_count": 4,
   "metadata": {
    "collapsed": false
   },
   "outputs": [
    {
     "name": "stdout",
     "output_type": "stream",
     "text": [
      "[-1.16872797  1.16872797]\n"
     ]
    }
   ],
   "source": [
    "p1=-3\n",
    "p2=3\n",
    "\n",
    "def rootfinder(p1,p2,X,a):\n",
    "    r=np.linspace(p1,p2,50)\n",
    "    roots=np.array([])\n",
    "    for i in range(len(r)-1):\n",
    "        criterium=T(r[i],X,a)*T(r[i+1],X,a)\n",
    "        if criterium<0:\n",
    "            root=optimize.brentq(T,r[i],r[i+1],args=(X,a))\n",
    "            roots=np.append(roots,root)\n",
    "    return roots\n",
    "roots=rootfinder(p1,p2,X,a)\n",
    "print roots"
   ]
  },
  {
   "cell_type": "code",
   "execution_count": 5,
   "metadata": {
    "collapsed": false
   },
   "outputs": [],
   "source": [
    "x=np.linspace(-1.5,2.0,100)\n",
    "plt.plot(x,U(x,a),color='purple')\n",
    "plt.xlabel('$x/L$',fontsize=18)\n",
    "plt.ylabel('$U(x)/\\epsilon$',fontsize=18)\n",
    "plt.plot([-1.5,2.0],[0,0],'k--')\n",
    "plt.title('Potencial biestable asimetrico',fontsize=18)\n",
    "plt.grid()\n",
    "plt.show()"
   ]
  },
  {
   "cell_type": "code",
   "execution_count": 6,
   "metadata": {
    "collapsed": false
   },
   "outputs": [],
   "source": [
    "Xs=[0.2,0.5,0.55]\n",
    "labels=['$\\chi=0.2$','$\\chi=0.5$','$\\chi=0.55$']\n",
    "colors=['red','purple','orange']\n",
    "\n",
    "for i in range(3): \n",
    "    roots=rootfinder(p1,p2,Xs[i],a)\n",
    "    ll=roots[0]\n",
    "    ul=roots[-1]\n",
    "    x=np.linspace(ll,ul,100)\n",
    "    plt.plot(x,T(x,Xs[i],a),color=colors[i],label=labels[i])\n",
    "    \n",
    "plt.legend(loc='best',frameon=False)\n",
    "plt.plot([ll,ul],[0,0],'k--')\n",
    "plt.xlabel('$x/L$',fontsize=18)\n",
    "plt.ylabel('$T(x)/T_0$',fontsize=18)\n",
    "plt.grid()\n",
    "plt.show()"
   ]
  },
  {
   "cell_type": "code",
   "execution_count": 7,
   "metadata": {
    "collapsed": false
   },
   "outputs": [],
   "source": [
    "ll=-1.50\n",
    "ul=2.0\n",
    "X=[0.2,0.5,0.55]\n",
    "labels=['$\\chi=0.2$','$\\chi=0.5$','$\\chi=0.55$']\n",
    "colors=['red','purple','orange']\n",
    "\n",
    "x=np.linspace(ll,ul,100)\n",
    "fig=plt.figure(figsize=(15, 5))\n",
    "\n",
    "B=[0.5*b_c,b_c,1.5*b_c]\n",
    "\n",
    "plt.subplot(1, 3, 1)\n",
    "for i in range(3): plt.plot(x,Ueff(x,X[i],a,B[0]),color=colors[i],label=labels[i])\n",
    "plt.legend(loc='best',frameon=False)\n",
    "plt.plot([ll,ul],[0,0],'k--')\n",
    "plt.xlabel('$x/L$',fontsize=18)\n",
    "plt.ylabel('$U_{eff}(x)/\\epsilon$',fontsize=18)\n",
    "plt.title(r'$ \\beta _0=0.5 \\beta_c$',fontsize=18)\n",
    "plt.grid()\n",
    "\n",
    "\n",
    "plt.subplot(1, 3, 2)\n",
    "for i in range(3): plt.plot(x,Ueff(x,X[i],a,B[1]),color=colors[i],label=labels[i])\n",
    "plt.legend(loc='best',frameon=False)\n",
    "plt.plot([ll,ul],[0,0],'k--')\n",
    "plt.xlabel('$x/L$',fontsize=18)\n",
    "plt.ylabel('$U_{eff}(x)/\\epsilon$',fontsize=18)\n",
    "plt.title(r'$\\beta_0=\\beta_c$',fontsize=18)\n",
    "plt.grid()\n",
    "\n",
    "\n",
    "plt.subplot(1, 3, 3)\n",
    "for i in range(3): plt.plot(x,Ueff(x,X[i],a,B[2]),color=colors[i],label=labels[i])\n",
    "plt.legend(loc='best',frameon=False)\n",
    "plt.plot([ll,ul],[0,0],'k--')\n",
    "plt.xlabel('$x/L$',fontsize=18)\n",
    "plt.ylabel('$U_{eff}(x)/\\epsilon$',fontsize=18)\n",
    "plt.title(r'$\\beta_0=1.5\\beta_c$',fontsize=18)\n",
    "\n",
    "plt.grid()\n",
    "\n",
    "\n",
    "plt.show()"
   ]
  },
  {
   "cell_type": "code",
   "execution_count": null,
   "metadata": {
    "collapsed": true
   },
   "outputs": [],
   "source": []
  },
  {
   "cell_type": "code",
   "execution_count": null,
   "metadata": {
    "collapsed": true
   },
   "outputs": [],
   "source": []
  },
  {
   "cell_type": "code",
   "execution_count": null,
   "metadata": {
    "collapsed": true
   },
   "outputs": [],
   "source": []
  },
  {
   "cell_type": "code",
   "execution_count": null,
   "metadata": {
    "collapsed": true
   },
   "outputs": [],
   "source": []
  },
  {
   "cell_type": "code",
   "execution_count": 8,
   "metadata": {
    "collapsed": false
   },
   "outputs": [],
   "source": [
    "X=0.9\n",
    "b_c=27.0/4.0*X**2\n",
    "roots=rootfinder(p1,p2,X,a)\n",
    "ll=roots[0]+0.01\n",
    "ul=roots[-1]-0.01\n",
    "x=np.linspace(ll,ul,100)\n",
    "b=[0.25*b_c,0.5*b_c,b_c,1.5*b_c,2*b_c]\n",
    "labels=[r'$\\beta_0=0.25\\beta_c$',r'$\\beta_0=0.5\\beta_c$',r'$\\beta_0=\\beta_c$',r'$\\beta_0=1.5\\beta_c$',\n",
    "        r'$\\beta_0=2\\beta_c$']\n",
    "for k in range(len(b)):\n",
    "    solution=np.zeros(len(x))\n",
    "    for i in range(len(x)): \n",
    "        solution[i]=np.exp(-b[k]*arg(x[i],X,a))/T(x[i],X,a)\n",
    "    weight=np.trapz(solution,x,dx=x[1]-x[0])\n",
    "    plt.plot(x/roots[-1],roots[-1]*solution/weight,label=labels[k])\n",
    "    plt.grid()\n",
    "    plt.xlabel('$x/x_m$',fontsize=18)\n",
    "    plt.ylabel('$x_mP_{st}(x)$',fontsize=18)\n",
    "    plt.title('$\\chi=0.9$',fontsize=18)\n",
    "plt.legend(loc='center',frameon=False)\n",
    "plt.show()"
   ]
  },
  {
   "cell_type": "code",
   "execution_count": 9,
   "metadata": {
    "collapsed": true
   },
   "outputs": [],
   "source": [
    "X=0.1\n",
    "b_c=27.0/4.0*X**2\n",
    "roots=rootfinder(p1,p2,X,a)\n",
    "ll=roots[0]+0.02\n",
    "ul=roots[-1]-0.02\n",
    "x=np.linspace(ll,ul,100)\n",
    "b=[0.5*b_c,b_c,3.75*b_c,10*b_c]\n",
    "labels=[r'$\\beta_0=0.5\\beta_c$',r'$\\beta_0=\\beta_c$',r'$\\beta_0=3.75\\beta_c$',r'$\\beta_0=10\\beta_c$']\n",
    "for k in range(len(b)):\n",
    "    solution=np.zeros(len(x))\n",
    "    for i in range(len(x)): \n",
    "        solution[i]=np.exp(-b[k]*arg(x[i],X,a))/T(x[i],X,a)\n",
    "    weight=np.trapz(solution,x,dx=x[1]-x[0])\n",
    "    \n",
    "    plt.plot(x/roots[-1],roots[-1]*solution/weight,label=labels[k])\n",
    "    plt.xlabel('$x/x_m$',fontsize=18)\n",
    "    plt.ylabel('$x_mP_{st}(x)$',fontsize=18)\n",
    "    plt.title('$\\chi=0.1$',fontsize=18)\n",
    "plt.grid()\n",
    "plt.legend(loc='center',frameon=False)\n",
    "plt.show()"
   ]
  },
  {
   "cell_type": "code",
   "execution_count": null,
   "metadata": {
    "collapsed": false
   },
   "outputs": [],
   "source": []
  }
 ],
 "metadata": {
  "kernelspec": {
   "display_name": "Python 2",
   "language": "python",
   "name": "python2"
  },
  "language_info": {
   "codemirror_mode": {
    "name": "ipython",
    "version": 2
   },
   "file_extension": ".py",
   "mimetype": "text/x-python",
   "name": "python",
   "nbconvert_exporter": "python",
   "pygments_lexer": "ipython2",
   "version": "2.7.12"
  }
 },
 "nbformat": 4,
 "nbformat_minor": 0
}
