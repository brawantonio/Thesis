{
 "cells": [
  {
   "cell_type": "code",
   "execution_count": 44,
   "metadata": {
    "collapsed": true
   },
   "outputs": [],
   "source": [
    "import numpy as np\n",
    "from scipy.integrate import trapz\n",
    "import matplotlib.pyplot as plt\n",
    "\n",
    "plt.rc('text', usetex=True)\n",
    "plt.rc('font', family='serif')"
   ]
  },
  {
   "cell_type": "code",
   "execution_count": 2,
   "metadata": {
    "collapsed": true
   },
   "outputs": [],
   "source": [
    "x1=-0.1\n",
    "x2=0.1\n",
    "x = np.linspace(x1, x2, 1000)"
   ]
  },
  {
   "cell_type": "code",
   "execution_count": 3,
   "metadata": {
    "collapsed": true
   },
   "outputs": [],
   "source": [
    "def f1(x):\n",
    "    return 50*x-90\n",
    "def f2(x):\n",
    "    return x**2\n",
    "def f3(x):\n",
    "    return x**3\n",
    "def f4(x):\n",
    "    return x**4"
   ]
  },
  {
   "cell_type": "code",
   "execution_count": 4,
   "metadata": {
    "collapsed": true
   },
   "outputs": [],
   "source": [
    "def rough(y, x):\n",
    "    dy = np.gradient(y, x, edge_order=2)\n",
    "    L = trapz(np.sqrt(1+dy**2),x )\n",
    "    N = np.sqrt((max(x)-min(x))**2+(max(y)-min(y))**2)\n",
    "    return L/N-1"
   ]
  },
  {
   "cell_type": "code",
   "execution_count": 5,
   "metadata": {},
   "outputs": [
    {
     "data": {
      "text/plain": [
       "0.0053055405262343314"
      ]
     },
     "execution_count": 5,
     "metadata": {},
     "output_type": "execute_result"
    }
   ],
   "source": [
    "rough(np.exp(-x**2), x)"
   ]
  },
  {
   "cell_type": "code",
   "execution_count": 42,
   "metadata": {},
   "outputs": [],
   "source": [
    "#Primera entrada es rugosidad, segunda, valor promedio de difusión\n",
    "#Oscilador armónico; 3 de double well ; 3 Zwanzig; 3 double well (más amplitud); 3 Weierstrass + 3 Weierstrass\n",
    "\n",
    "G2_1 = np.array([[0.11350432694102253, 0.0288423407372, 0.0408437720215, 0.359046032991, \n",
    "                  1.38616613293, 1.12882350398, 0.999106862872, 0.0713515649317, 0.118981955925, 0.664704423968, \n",
    "                  0.0130491523342, 0.0752758202186, 0.634183723256, 0.230915569475, 0.493535303407, 0.985580102841], \n",
    "                [0.49291462, 0.17748959, 0.55451742, 2.56825582,  2.00345567,  6.47788907,  29.02330763,\n",
    "                0.35939452, 1.37443961,  6.17159688, 0.28355416, 0.47965205, 2.40292754, 2.00662524, 4.06928869, \n",
    "                 15.89309254] ])\n",
    "\n",
    "G2_2 = np.array([[0.11350432694102253, 0.0288423407372, 0.0408437720215, 0.359046032991, \n",
    "                 1.38616613293, 1.12882350398, 0.999106862872, 0.0713515649317, 0.118981955925, 0.664704423968,\n",
    "                 0.0130491523342, 0.0752758202186, 0.634183723256, 0.230915569475, 0.493535303407, 0.985580102841],\n",
    "                [0.33336633, 0.11193947, 0.28583042, 1.35094536, 1.00215886, 3.2866566, 15.30691053,\n",
    "                0.23819552, 0.71294523, 3.19503791, 0.14777599, 0.26735658, 1.39409594, 1.00472455, 2.05113287,\n",
    "                8.6858794] ])\n",
    "\n",
    "G2_3 = np.array([[0.11350432694102253, 0.0288423407372, 0.0408437720215, 0.359046032991, \n",
    "                 1.38616613293, 1.12882350398, 0.999106862872, 0.0713515649317, 0.118981955925, 0.664704423968,\n",
    "                 0.0130491523342, 0.0752758202186, 0.634183723256, 0.230915569475, 0.493535303407, 0.985580102841],\n",
    "                [ 0.09090909, 0.03306758, 0.0668211,  0.33531358, 0.20130143,0.71770257, 3.86983285,\n",
    "                0.07551034, 0.16021339, 0.77375328, 0.03489554, 0.07124533, 0.36836723, 0.20308253, 0.43008049,\n",
    "                2.19350933] ])"
   ]
  },
  {
   "cell_type": "code",
   "execution_count": 64,
   "metadata": {},
   "outputs": [
    {
     "data": {
      "image/png": "[encoded data removed]",
      "text/plain": [
       "<matplotlib.figure.Figure at 0x27cf687d470>"
      ]
     },
     "metadata": {},
     "output_type": "display_data"
    }
   ],
   "source": [
    "plt.figure(figsize=(8,6))\n",
    "plt.title(r'Difusi\\'on en funci\\'on de la rugosidad', fontsize=18)\n",
    "plt.scatter(G2_1[0,0:1], G2_1[1,0:1], marker='.', color='purple', s=38) #armonico\n",
    "plt.scatter(G2_1[0,1:4], G2_1[1,1:4], marker='.', color='red', s=38) #double\n",
    "plt.scatter(G2_1[0,4:7], G2_1[1,4:7], marker='.', color='crimson', s=38) #zwanzig\n",
    "plt.scatter(G2_1[0,7:10], G2_1[1,7:10], marker='.', color='orange', s=38) #double 2\n",
    "plt.scatter(G2_1[0,10:13], G2_1[1,10:13], marker='.', color='yellow', s=38) #Weierstrass\n",
    "plt.scatter(G2_1[0,13:16], G2_1[1,13:16], marker='.', color='yellow', s=38) #Weierstrass 2\n",
    "\n",
    "plt.scatter(G2_2[0,0:1], G2_2[1,0:1], marker='*', color='purple', s=38) #armonico\n",
    "plt.scatter(G2_2[0,1:4], G2_2[1,1:4], marker='*', color='red', s=38) #double\n",
    "plt.scatter(G2_2[0,4:7], G2_2[1,4:7], marker='*', color='crimson', s=38) #zwanzig\n",
    "plt.scatter(G2_2[0,7:10], G2_2[1,7:10], marker='*', color='orange', s=38) #double 2\n",
    "plt.scatter(G2_2[0,10:13], G2_2[1,10:13], marker='*', color='yellow', s=38) #Weierstrass\n",
    "plt.scatter(G2_2[0,13:16], G2_2[1,13:16], marker='*', color='yellow', s=38) #Weierstrass 2\n",
    "\n",
    "plt.scatter(G2_3[0,0:1], G2_3[1,0:1], marker='+', color='purple', s=38) #armonico\n",
    "plt.scatter(G2_3[0,1:4], G2_3[1,1:4], marker='+', color='red', s=38) #double\n",
    "plt.scatter(G2_3[0,4:7], G2_3[1,4:7], marker='+', color='crimson', s=38) #zwanzig\n",
    "plt.scatter(G2_3[0,7:10], G2_3[1,7:10], marker='+', color='orange', s=38) #double 2\n",
    "plt.scatter(G2_3[0,10:13], G2_3[1,10:13], marker='+', color='yellow', s=38) #Weierstrass\n",
    "plt.scatter(G2_3[0,13:16], G2_3[1,13:16], marker='+', color='yellow', s=38) #Weierstrass 2\n",
    "\n",
    "#plt.scatter(G2_2[0,:], G2_2[1,:], marker='*', label=r'$g_2g_1^2 = 2$')\n",
    "#plt.scatter(G2_3[0,:], G2_3[1,:], marker='+', label=r'$g_2g_1^2 = 10$')\n",
    "\n",
    "plt.legend(loc='best', frameon=0, fontsize=18)\n",
    "plt.xticks(fontsize=15)\n",
    "plt.yticks(fontsize=15)\n",
    "plt.xlabel(r'$r$', fontsize=18)\n",
    "plt.ylabel(r'$\\left< D(x)\\right>$', fontsize=18)\n",
    "\n",
    "plt.show()"
   ]
  },
  {
   "cell_type": "code",
   "execution_count": 68,
   "metadata": {},
   "outputs": [
    {
     "data": {
      "image/png": "[encoded data removed]",
      "text/plain": [
       "<matplotlib.figure.Figure at 0x27cf5649550>"
      ]
     },
     "metadata": {},
     "output_type": "display_data"
    }
   ],
   "source": [
    "plt.figure(figsize=(8,6))\n",
    "plt.title(r'Difusi\\'on en funci\\'on de la rugosidad', fontsize=18)\n",
    "plt.scatter(G2_1[0,0:1], G2_1[1,0:1], marker='.', color='purple', s=38) #armonico\n",
    "plt.scatter(G2_1[0,1:4], G2_1[1,1:4], marker='*', color='purple', s=38) #double\n",
    "plt.scatter(G2_1[0,4:7], G2_1[1,4:7], marker='+', color='purple', s=38) #zwanzig\n",
    "plt.scatter(G2_1[0,7:10], G2_1[1,7:10], marker='*', color='purple', s=38) #double 2\n",
    "plt.scatter(G2_1[0,10:13], G2_1[1,10:13], marker='^', color='purple', s=38) #Weierstrass\n",
    "plt.scatter(G2_1[0,13:16], G2_1[1,13:16], marker='^', color='purple', s=38) #Weierstrass 2\n",
    "\n",
    "plt.scatter(G2_2[0,0:1], G2_2[1,0:1], marker='.', color='crimson', s=38) #armonico\n",
    "plt.scatter(G2_2[0,1:4], G2_2[1,1:4], marker='*', color='crimson', s=38) #double\n",
    "plt.scatter(G2_2[0,4:7], G2_2[1,4:7], marker='+', color='crimson', s=38) #zwanzig\n",
    "plt.scatter(G2_2[0,7:10], G2_2[1,7:10], marker='*', color='crimson', s=38) #double 2\n",
    "plt.scatter(G2_2[0,10:13], G2_2[1,10:13], marker='^', color='crimson', s=38) #Weierstrass\n",
    "plt.scatter(G2_2[0,13:16], G2_2[1,13:16], marker='^', color='crimson', s=38) #Weierstrass 2\n",
    "\n",
    "plt.scatter(G2_3[0,0:1], G2_3[1,0:1], marker='.', color='orange', s=38) #armonico\n",
    "plt.scatter(G2_3[0,1:4], G2_3[1,1:4], marker='*', color='orange', s=38) #double\n",
    "plt.scatter(G2_3[0,4:7], G2_3[1,4:7], marker='+', color='orange', s=38) #zwanzig\n",
    "plt.scatter(G2_3[0,7:10], G2_3[1,7:10], marker='*', color='orange', s=38) #double 2\n",
    "plt.scatter(G2_3[0,10:13], G2_3[1,10:13], marker='^', color='orange', s=38) #Weierstrass\n",
    "plt.scatter(G2_3[0,13:16], G2_3[1,13:16], marker='^', color='orange', s=38) #Weierstrass 2\n",
    "\n",
    "#plt.scatter(G2_2[0,:], G2_2[1,:], marker='*', label=r'$g_2g_1^2 = 2$')\n",
    "#plt.scatter(G2_3[0,:], G2_3[1,:], marker='+', label=r'$g_2g_1^2 = 10$')\n",
    "\n",
    "plt.legend(loc='best', frameon=0, fontsize=18)\n",
    "plt.xticks(fontsize=15)\n",
    "plt.yticks(fontsize=15)\n",
    "plt.xlabel(r'$r$', fontsize=18)\n",
    "plt.ylabel(r'$\\left< D(x)\\right>$', fontsize=18)\n",
    "\n",
    "plt.savefig('DAll.png', bbox_inches='tight')\n",
    "plt.show()\n",
    "plt.close()"
   ]
  },
  {
   "cell_type": "code",
   "execution_count": null,
   "metadata": {},
   "outputs": [],
   "source": []
  },
  {
   "cell_type": "code",
   "execution_count": null,
   "metadata": {
    "collapsed": true
   },
   "outputs": [],
   "source": []
  }
 ],
 "metadata": {
  "kernelspec": {
   "display_name": "Python 3",
   "language": "python",
   "name": "python3"
  },
  "language_info": {
   "codemirror_mode": {
    "name": "ipython",
    "version": 3
   },
   "file_extension": ".py",
   "mimetype": "text/x-python",
   "name": "python",
   "nbconvert_exporter": "python",
   "pygments_lexer": "ipython3",
   "version": "3.6.3"
  }
 },
 "nbformat": 4,
 "nbformat_minor": 2
}
