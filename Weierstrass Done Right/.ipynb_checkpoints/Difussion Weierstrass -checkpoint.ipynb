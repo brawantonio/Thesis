{
 "cells": [
  {
   "cell_type": "code",
   "execution_count": 1,
   "metadata": {
    "collapsed": true
   },
   "outputs": [],
   "source": [
    "import numpy as np\n",
    "import matplotlib.pyplot as plt\n",
    "from scipy.optimize import brenth\n",
    "import scipy.integrate as integrate\n",
    "\n",
    "plt.rc('text', usetex=True)\n",
    "plt.rc('font', family='serif')"
   ]
  },
  {
   "cell_type": "code",
   "execution_count": 20,
   "metadata": {},
   "outputs": [
    {
     "name": "stdout",
     "output_type": "stream",
     "text": [
      "0.75 9.0 True\n"
     ]
    }
   ],
   "source": [
    "pi=np.pi\n",
    "a=0.75\n",
    "b=np.rint((1.+1.5*pi)/a) #no siempre es impar\n",
    "b=b+np.mod(b+1,2)\n",
    "print(a, b, a*b>1+1.5*pi)"
   ]
  },
  {
   "cell_type": "code",
   "execution_count": 3,
   "metadata": {
    "collapsed": true
   },
   "outputs": [],
   "source": [
    "def z(x, n): return (a/b)**n*np.cos(b**n*pi*x)\n",
    "def w(x, n): return a**n*np.sin(b**n*pi*x)\n",
    "def dw(x, n): return (a*b)**n*np.cos(b**n*pi*x)"
   ]
  },
  {
   "cell_type": "code",
   "execution_count": 4,
   "metadata": {
    "collapsed": true
   },
   "outputs": [],
   "source": [
    "def Z(x,p):\n",
    "    suma=0\n",
    "    for n in range(p+1):\n",
    "        suma+= z(x, n)\n",
    "    return -suma/pi\n",
    "def W(x,p):\n",
    "    suma=0\n",
    "    for n in range(p+1):\n",
    "        suma+= w(x, n)\n",
    "    return suma\n",
    "def dW(x,p):\n",
    "    suma=0\n",
    "    for n in range(p+1):\n",
    "        suma+= dw(x, n)\n",
    "    return pi*suma"
   ]
  },
  {
   "cell_type": "code",
   "execution_count": 5,
   "metadata": {
    "collapsed": true
   },
   "outputs": [],
   "source": [
    "def U(x): return 0.5*x**2+alpha*Z(x,p)\n",
    "def dU(x): return x+alpha*W(x,p)\n",
    "def ddU(x): return 1+alpha*dW(x,p)\n",
    "\n",
    "def T(x): return 1-(dU(x)/g1)**2\n",
    "def dT(x): return -2*dU(x)*ddU(x)/g1**2\n",
    "\n",
    "def Ueff(x): return U(x)+T(x)/g2\n",
    "def dUeff(x): return dU(x)+ dT(x)/g2\n",
    "def ddUeff(x): return ddU(x)*(1-2*ddU(x)/(g2*g1**2))\n",
    "\n",
    "def integrand(x): return dUeff(x)/T(x)\n",
    "def f1(x): return dU(x)-g1\n",
    "def f2(x): return dU(x)+g1"
   ]
  },
  {
   "cell_type": "code",
   "execution_count": 6,
   "metadata": {
    "collapsed": true
   },
   "outputs": [],
   "source": [
    "def root(F, x1, x2, div, it):\n",
    "    X=np.linspace(x1,x2, div)\n",
    "    roots=np.array([])\n",
    "    for i in range(div-1):\n",
    "        if F(X[i])*F(X[i+1])<=0:\n",
    "            p1=X[i]\n",
    "            p2=X[i+1]\n",
    "            r=brenth(F, p1, p2, maxiter=it)\n",
    "            roots=np.append(roots, r)\n",
    "    return roots\n",
    "def integral2(F, X):\n",
    "    l=len(X)\n",
    "    Func=np.zeros(l)\n",
    "    id0=int(0.5*l)\n",
    "    xmin=X[id0]\n",
    "    Func[id0]=0\n",
    "    for i in range(1,l):\n",
    "        if i<=id0:\n",
    "            x0 = X[id0-i+1]\n",
    "            x1 = X[id0-i]\n",
    "            Func[id0-i]=integrate.quad(F, x0, x1)[0]\n",
    "            Func[id0-i]=Func[id0-i]+Func[id0-i+1]\n",
    "        else:\n",
    "            x0 = X[i-1]\n",
    "            x1 = X[i]\n",
    "            Func[i]=integrate.quad(F, x0, x1)[0]\n",
    "            Func[i]=Func[i]+Func[i-1]\n",
    "    return Func\n",
    "def evol(x, h):\n",
    "    e=np.random.normal(0, 1)\n",
    "    y=x-h*dU(x)/g1+np.sqrt(2*T(x)*h/(g1*g2))*e\n",
    "    return y"
   ]
  },
  {
   "cell_type": "code",
   "execution_count": 15,
   "metadata": {
    "collapsed": true
   },
   "outputs": [],
   "source": [
    "p = 3\n",
    "Wbound= (1.-a**(p+1))/(1.-a)\n",
    "alpha = 0.9"
   ]
  },
  {
   "cell_type": "markdown",
   "metadata": {},
   "source": [
    "## Finding g1c"
   ]
  },
  {
   "cell_type": "code",
   "execution_count": 16,
   "metadata": {},
   "outputs": [
    {
     "name": "stdout",
     "output_type": "stream",
     "text": [
      "0.250074999999998 1e-06\n"
     ]
    }
   ],
   "source": [
    "g1 = 0.25  #finding minimum value of interest for g1\n",
    "dg1 = 1e-6\n",
    "for i in range(75):    \n",
    "    a1 = root(f1, g1-alpha*Wbound, g1+alpha*Wbound, 5000, 100)\n",
    "    a2 = root(f2, -g1-alpha*Wbound,-g1+alpha*Wbound , 5000, 100)\n",
    "    positive = np.concatenate([a1[a1>0], a2[a2>0]])\n",
    "    negative = np.concatenate([a1[a1<0], a2[a2<0]])\n",
    "    xmin = max(0.999*negative)\n",
    "    xmax = min(0.999*positive)\n",
    "    H = root(dU, xmin, xmax, 5000, 100)\n",
    "    if len(H) == 1: \n",
    "        g1 = g1 + dg1\n",
    "    else:\n",
    "        g1 = g1 - dg1\n",
    "print (g1, dg1)\n",
    "g1c = g1"
   ]
  },
  {
   "cell_type": "code",
   "execution_count": 17,
   "metadata": {},
   "outputs": [
    {
     "name": "stdout",
     "output_type": "stream",
     "text": [
      "2.4171024433786488 5.028292580818748e-06\n"
     ]
    }
   ],
   "source": [
    "g1 = g1c  #finding minimum value of interest for g1\n",
    "dg1 = 0.5\n",
    "for i in range(75):    \n",
    "    a1 = root(f1, g1-alpha*Wbound, g1+alpha*Wbound, 5000, 100)\n",
    "    a2 = root(f2, -g1-alpha*Wbound,-g1+alpha*Wbound , 5000, 100)\n",
    "    positive = np.concatenate([a1[a1>0], a2[a2>0]])\n",
    "    negative = np.concatenate([a1[a1<0], a2[a2<0]])\n",
    "    xmin = max(0.999*negative)\n",
    "    xmax = min(0.999*positive)\n",
    "    x = np.linspace(xmin,xmax, 10000)\n",
    "    H = max(U(x))\n",
    "    if H < 0: \n",
    "        g1 = g1 + dg1\n",
    "    else:\n",
    "        dg1 = 0.75*dg1\n",
    "        g1 = g1 - dg1\n",
    "print (g1, dg1)\n",
    "g1min = g1"
   ]
  },
  {
   "cell_type": "code",
   "execution_count": null,
   "metadata": {
    "collapsed": true
   },
   "outputs": [],
   "source": []
  },
  {
   "cell_type": "markdown",
   "metadata": {},
   "source": [
    "## Average diffusion "
   ]
  },
  {
   "cell_type": "code",
   "execution_count": 18,
   "metadata": {},
   "outputs": [
    {
     "name": "stderr",
     "output_type": "stream",
     "text": [
      "C:\\Users\\hp\\Anaconda3\\lib\\site-packages\\matplotlib\\cbook\\deprecation.py:106: MatplotlibDeprecationWarning: Adding an axes using the same arguments as a previous axes currently reuses the earlier instance.  In a future version, a new instance will always be created and returned.  Meanwhile, this warning can be suppressed, and the future behavior ensured, by passing a unique label to each axes instance.\n",
      "  warnings.warn(message, mplDeprecation, stacklevel=1)\n"
     ]
    },
    {
     "data": {
      "image/png": "[encoded data removed]",
      "text/plain": [
       "<matplotlib.figure.Figure at 0x1b3d7943780>"
      ]
     },
     "metadata": {},
     "output_type": "display_data"
    }
   ],
   "source": [
    "G1 = np.array([1.01, 2.0, 10.0])\n",
    "color = ['purple', 'red', 'orange']\n",
    "marker = ['.', '*', '+']\n",
    "plt.figure(figsize=(16,6))\n",
    "for i in range(len(G1)):\n",
    "    g1=G1[i]*g1min\n",
    "    a1 = root(f1, g1-alpha*Wbound, g1+alpha*Wbound, 5000, 100)\n",
    "    a2 = root(f2, -g1-alpha*Wbound,-g1+alpha*Wbound , 5000, 100)\n",
    "    positive = np.concatenate([a2[a2>0], a1[a1>0]])\n",
    "    negative = np.concatenate([a2[a2<0], a1[a1<0]])\n",
    "    xmin = max(negative)\n",
    "    xmax = min(positive)\n",
    "    x = np.linspace(0.99*xmin,0.99*xmax, 10000)\n",
    "    r = root(dU, xmin, xmax, 50000, 500)\n",
    "    x = np.concatenate([r,x])\n",
    "    x = np.sort(x)\n",
    "    g2= 1e-7\n",
    "    g2c = np.concatenate((np.array([1e-2, 5e-2, 1e-1, 5e-1]), np.linspace(1,100, 10)))\n",
    "\n",
    "    average1=np.array([])\n",
    "    average2=np.array([])\n",
    "    for j in range(len(g2c)):\n",
    "        g2=g2c[j]    \n",
    "        inte=integral2(integrand, x)\n",
    "        inte=-g2*inte\n",
    "        prob=np.exp(inte)\n",
    "        prob[prob==np.nan]=0\n",
    "        Part=np.trapz(prob, x)\n",
    "        Aux1=T(x)*prob/Part/g1/g2\n",
    "        Aux2=T(x)*prob/Part\n",
    "        av1 = np.trapz(Aux1, x)\n",
    "        average1 = np.append(average1, av1)\n",
    "        av2 = np.trapz(Aux2, x)\n",
    "        average2 = np.append(average2, av2)\n",
    "        \n",
    "    plt.subplot(1,2,1)\n",
    "    plt.scatter(1./(g1*g2c), average1, s=25, label=r'$g_1 =%.2f g_1\\min$'%G1[i], c=color[i], marker=marker[i], alpha=1)\n",
    "    if i==0: plt.plot(1./(g1*g2c), 1./(g1*g2c), 'k--', label=r'Movimiento Browniano pasivo', alpha=0.5)\n",
    "    plt.xlabel(r'$ (g_1g_2)^{-1} $', fontsize=18)\n",
    "    plt.ylabel(r'$\\left< D(x) \\right>$', fontsize=18)\n",
    "    plt.xticks(fontsize=15)\n",
    "    plt.yticks(fontsize=15)\n",
    "    plt.xscale(\"log\", nonposx='clip')\n",
    "    plt.yscale(\"log\", nonposy='clip')\n",
    "    plt.legend(frameon=1, loc='best', fontsize=18)\n",
    "    plt.subplot(1,2,2)\n",
    "    plt.scatter(g2c, average2, s=25, label=r'$g_1 =%.2f g_1\\min$'%G1[i], c=color[i], marker=marker[i], alpha=1)\n",
    "    if i==0: plt.plot([min(g2c), max(g2c)], [1,1], 'k--', label=r'Movimiento Brwoniano Pasivo', alpha=0.5)\n",
    "    plt.xlabel(r'$ g_2 $', fontsize=18)\n",
    "    plt.ylabel(r'$\\left< T(x) \\right>$', fontsize=18)\n",
    "    plt.xticks(fontsize=15)\n",
    "    plt.yticks(fontsize=15)\n",
    "    plt.xscale(\"log\", nonposx='clip')\n",
    "    plt.yscale(\"log\", nonposy='clip')\n",
    "    plt.legend(frameon=1, loc='best', fontsize=18)\n",
    "\n",
    "plt.suptitle(r'Difusi\\'on y temperatura promedio, $a=%.2f$'%alpha, fontsize=18)\n",
    "plt.savefig('DTW.png', bbox_inches='tight')\n",
    "plt.show()\n",
    "plt.close()"
   ]
  },
  {
   "cell_type": "code",
   "execution_count": null,
   "metadata": {
    "collapsed": true
   },
   "outputs": [],
   "source": []
  },
  {
   "cell_type": "code",
   "execution_count": null,
   "metadata": {
    "collapsed": true
   },
   "outputs": [],
   "source": []
  },
  {
   "cell_type": "code",
   "execution_count": null,
   "metadata": {
    "collapsed": true
   },
   "outputs": [],
   "source": []
  },
  {
   "cell_type": "code",
   "execution_count": null,
   "metadata": {
    "collapsed": true
   },
   "outputs": [],
   "source": []
  },
  {
   "cell_type": "code",
   "execution_count": null,
   "metadata": {
    "collapsed": true
   },
   "outputs": [],
   "source": []
  },
  {
   "cell_type": "code",
   "execution_count": null,
   "metadata": {
    "collapsed": true
   },
   "outputs": [],
   "source": []
  },
  {
   "cell_type": "code",
   "execution_count": null,
   "metadata": {
    "collapsed": true
   },
   "outputs": [],
   "source": []
  },
  {
   "cell_type": "code",
   "execution_count": null,
   "metadata": {
    "collapsed": true
   },
   "outputs": [],
   "source": []
  },
  {
   "cell_type": "code",
   "execution_count": null,
   "metadata": {
    "collapsed": true
   },
   "outputs": [],
   "source": []
  },
  {
   "cell_type": "code",
   "execution_count": 23,
   "metadata": {
    "collapsed": true
   },
   "outputs": [],
   "source": [
    "average=np.array([])\n",
    "for j in range(len(g2c)):\n",
    "    g2=g2c[j]    \n",
    "    inte=integral2(integrand, x)\n",
    "    inte=-g2*inte\n",
    "    prob=np.exp(inte)\n",
    "    prob[prob==np.nan]=0\n",
    "    Z=np.trapz(prob, x)\n",
    "    Aux=T(x)*prob/Z\n",
    "    av = np.trapz(Aux, x)\n",
    "    average = np.append(average, av)"
   ]
  },
  {
   "cell_type": "code",
   "execution_count": 30,
   "metadata": {},
   "outputs": [
    {
     "data": {
      "image/png": "[encoded data removed]",
      "text/plain": [
       "<matplotlib.figure.Figure at 0x1c7bafe4400>"
      ]
     },
     "metadata": {},
     "output_type": "display_data"
    }
   ],
   "source": [
    "plt.figure(figsize=(8, 6))\n",
    "plt.scatter(np.log(g2c), np.log(np.abs(average-1)), s=10)\n",
    "#plt.loglog(np.abs(g2c), np.abs(average-1))\n",
    "#plt.scatter(g2c, average, s=10)\n",
    "plt.xlabel(r'$-1/g_2+1$', fontsize=18)\n",
    "plt.ylabel(r'$\\left< D(x) \\right>$', fontsize=18)\n",
    "plt.title(r'Difusi\\'on promedio;  $g_1 = %.2f g_1$min'%times, fontsize=18)\n",
    "plt.xticks(fontsize=15)\n",
    "plt.yticks(fontsize=15)\n",
    "\n",
    "plt.savefig('DW.png', bbox_inches='tight')\n",
    "plt.show()\n",
    "plt.close()"
   ]
  },
  {
   "cell_type": "code",
   "execution_count": null,
   "metadata": {
    "collapsed": true
   },
   "outputs": [],
   "source": []
  },
  {
   "cell_type": "code",
   "execution_count": null,
   "metadata": {
    "collapsed": true
   },
   "outputs": [],
   "source": []
  }
 ],
 "metadata": {
  "kernelspec": {
   "display_name": "Python 3",
   "language": "python",
   "name": "python3"
  },
  "language_info": {
   "codemirror_mode": {
    "name": "ipython",
    "version": 3
   },
   "file_extension": ".py",
   "mimetype": "text/x-python",
   "name": "python",
   "nbconvert_exporter": "python",
   "pygments_lexer": "ipython3",
   "version": "3.6.3"
  }
 },
 "nbformat": 4,
 "nbformat_minor": 2
}
