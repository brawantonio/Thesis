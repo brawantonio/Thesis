{
 "cells": [
  {
   "cell_type": "code",
   "execution_count": 1,
   "metadata": {
    "collapsed": true
   },
   "outputs": [],
   "source": [
    "import numpy as np\n",
    "import scipy.integrate as integrate\n",
    "import matplotlib.pyplot as plt\n",
    "import scipy.optimize as optimize\n",
    "from scipy.optimize import brenth\n",
    "\n",
    "plt.rc('text', usetex=True)\n",
    "plt.rc('font', family='serif')\n",
    "pi=4*np.arctan(1.)"
   ]
  },
  {
   "cell_type": "code",
   "execution_count": 2,
   "metadata": {
    "collapsed": true
   },
   "outputs": [],
   "source": [
    "def zn(a,b,n,x):\n",
    "    return (a/b)**n*np.sin(b**n*pi*x+0.5*pi)\n",
    "\n",
    "def Zp(x,p):\n",
    "    r=0\n",
    "    for i in range(p+1):\n",
    "        r+= zn(a,b,i,x)\n",
    "    return r/pi\n",
    "\n",
    "def wn(a,b,n,x):\n",
    "    if a*b>1.+1.5*pi:\n",
    "        return a**n*np.cos(b**n*pi*x+0.5*pi)\n",
    "    else: \n",
    "        return 'Poorly conditionated function'\n",
    "    \n",
    "def Wp(x,p):\n",
    "    r=0\n",
    "    for i in range(p+1):\n",
    "        r+= wn(a,b,i,x)\n",
    "    return r\n",
    "\n",
    "def dwn(a,b,n,x):\n",
    "    if a*b>1.+1.5*pi:\n",
    "        return a**n*b**n*np.sin(b**n*pi*x+0.5*pi)\n",
    "    else: \n",
    "        return 'Poorly conditionated function'\n",
    "    \n",
    "def dWp(x,p):\n",
    "    r=0\n",
    "    for i in range(p+1):\n",
    "        r+= dwn(a,b,i,x)\n",
    "    return -pi*r\n",
    "\n",
    "\n",
    "def sig(a,b,p):\n",
    "    r=0\n",
    "    for i in range(p+1):\n",
    "        r+= a**i*b**i\n",
    "    return pi*r\n",
    "\n",
    "def dUeff(x):\n",
    "    return (x+alpha*Wp(x,p))*(1.-2*(1.+alpha*dWp(x,p))/(g1**2*g2))\n",
    "\n",
    "def T(x):\n",
    "    return 1.-(x+alpha*Wp(x,p))**2/g1**2\n",
    "\n",
    "def integrand(x):\n",
    "    return dUeff(x)/T(x)\n",
    "\n",
    "def LL(x):\n",
    "    return x+alpha*Wp(x,p)+g1\n",
    "\n",
    "def UL(x):\n",
    "    return x+alpha*Wp(x,p)-g1\n",
    "\n",
    "def Ueff(x):\n",
    "    return 0.5*x**2+alpha*Zp(x,p)+T(x)/g2"
   ]
  },
  {
   "cell_type": "code",
   "execution_count": 3,
   "metadata": {
    "collapsed": true
   },
   "outputs": [],
   "source": [
    "def root(F, x1, x2, div, it):\n",
    "    X=np.linspace(x1,x2, div)\n",
    "    roots=np.array([])\n",
    "    for i in range(div-1):\n",
    "        if F(X[i])*F(X[i+1])<=0:\n",
    "            p1=X[i]\n",
    "            p2=X[i+1]\n",
    "            r=brenth(F, p1, p2, maxiter=it)\n",
    "            roots=np.append(roots, r)\n",
    "    return roots"
   ]
  },
  {
   "cell_type": "code",
   "execution_count": 4,
   "metadata": {
    "collapsed": true
   },
   "outputs": [],
   "source": [
    "def integral2(F, X):\n",
    "    l=len(X)\n",
    "    Func=np.zeros(l)\n",
    "    id0=int(0.5*l)\n",
    "    xmin=X[id0]\n",
    "    Func[id0]=0\n",
    "    for i in range(1,l):\n",
    "        if i<=id0:\n",
    "            x0 = X[id0-i+1]\n",
    "            x1 = X[id0-i]\n",
    "            Func[id0-i]=integrate.quad(F, x0, x1)[0]\n",
    "            Func[id0-i]=Func[id0-i]+Func[id0-i+1]\n",
    "        else:\n",
    "            x0 = X[i-1]\n",
    "            x1 = X[i]\n",
    "            Func[i]=integrate.quad(F, x0, x1)[0]\n",
    "            Func[i]=Func[i]+Func[i-1]\n",
    "    return Func"
   ]
  },
  {
   "cell_type": "code",
   "execution_count": 5,
   "metadata": {
    "collapsed": true
   },
   "outputs": [],
   "source": [
    "p=2\n",
    "a=0.25\n",
    "b=np.rint((1.+1.5*pi)/a) #no siempre es impar\n",
    "b=b+np.mod(b+1,2)\n",
    "\n",
    "alpha=0.5\n",
    "\n",
    "sp=(1.-a**p)/(1.-a)\n",
    "zetap=sig(a,b,p)"
   ]
  },
  {
   "cell_type": "code",
   "execution_count": 6,
   "metadata": {
    "collapsed": true
   },
   "outputs": [],
   "source": [
    "x=np.linspace(-2,2,2000)\n",
    "plt.figure(figsize=(14, 6))\n",
    "\n",
    "plt.subplot(1, 2, 2)\n",
    "plt.plot(x, Wp(x,p), color='red')\n",
    "plt.title(r'Funci\\'on de Weierstrass Truncada', fontsize=18)\n",
    "plt.xlabel('$x$', fontsize=18)\n",
    "plt.plot([-2,2],[sp,sp], 'k--', label='$\\sigma_p$')\n",
    "plt.plot([-2,2],[-sp,-sp], 'k--')\n",
    "plt.legend(loc='best', frameon=0)\n",
    "\n",
    "plt.subplot(1,2,1)\n",
    "plt.plot(x, Zp(x,p), color='red')\n",
    "plt.title(r'Funci\\'on $Z$ Truncada', fontsize=18)\n",
    "plt.xlabel('$x$', fontsize=18)\n",
    "\n",
    "plt.show()\n"
   ]
  },
  {
   "cell_type": "code",
   "execution_count": 7,
   "metadata": {
    "collapsed": true
   },
   "outputs": [],
   "source": [
    "g1=5\n",
    "g2=1"
   ]
  },
  {
   "cell_type": "code",
   "execution_count": 8,
   "metadata": {
    "collapsed": true
   },
   "outputs": [],
   "source": [
    "L1=-g1-alpha*sp\n",
    "L2=-g1+alpha*sp\n",
    "\n",
    "U1=g1-alpha*sp\n",
    "U2=g1+alpha*sp"
   ]
  },
  {
   "cell_type": "code",
   "execution_count": 9,
   "metadata": {
    "collapsed": true
   },
   "outputs": [],
   "source": [
    "rmax=root(UL, U1,U2, 10000, 300)\n",
    "rmin=root(LL, L1,L2, 10000, 300)\n",
    "\n",
    "if min(rmax)>max(rmin):\n",
    "    xmax=min(rmax)\n",
    "    xmin=max(rmin)\n",
    "else: \n",
    "    imax=np.argmin(np.absolute(rmax))\n",
    "    imin=np.argmin(np.absolute(rmin))\n",
    "    xmin=np.minimum(rmax[imax], rmin[imin])\n",
    "    xmax=np.maximum(rmax[imax], rmin[imin])"
   ]
  },
  {
   "cell_type": "code",
   "execution_count": null,
   "metadata": {
    "collapsed": true
   },
   "outputs": [],
   "source": []
  },
  {
   "cell_type": "code",
   "execution_count": 10,
   "metadata": {
    "collapsed": true
   },
   "outputs": [],
   "source": [
    "r=root(dUeff, xmin, xmax, 30000, 300)\n",
    "x=np.linspace(xmin,xmax, 2000)\n",
    "x=np.append(x,r)\n",
    "x=np.sort(x)"
   ]
  },
  {
   "cell_type": "code",
   "execution_count": 11,
   "metadata": {
    "collapsed": true
   },
   "outputs": [],
   "source": [
    "y1=np.linspace(L1,U1, 200)\n",
    "y2=np.linspace(L2,U2, 200)\n",
    "plt.figure(figsize=(14, 6))\n",
    "\n",
    "plt.subplot(1,2,1)\n",
    "plt.plot(x, x+alpha*Wp(x,p), color='red',lw=0.5, label=r'$x+\\alpha W_p(x)$')\n",
    "plt.plot(y1, y1+alpha*sp, color='red',linestyle='--', label=r'$x+\\alpha \\sigma_p$')\n",
    "plt.plot(y2, y2-alpha*sp, color='red',linestyle='-.', label=r'$x-\\alpha\\sigma_p$')\n",
    "plt.plot([L1,U2],[g1,g1], 'k--', label='$g_1$')\n",
    "plt.plot([L1,U2],[-g1,-g1], 'k--')\n",
    "plt.scatter(xmin, -g1, marker='*', s=50, color='black')\n",
    "plt.scatter(xmax, g1, marker='*', s=50, color='black')\n",
    "plt.xlim([1.1*xmin,1*xmax])\n",
    "plt.xlabel('$x$', fontsize=18)\n",
    "plt.legend(loc='upper left', frameon=0)\n",
    "plt.title('Dominio de temperatura no negativa', fontsize=18)\n",
    "\n",
    "plt.subplot(1,2,2)\n",
    "plt.plot(x, T(x), color='red', lw=0.5)\n",
    "plt.title('Temperatura efectiva', fontsize=18)\n",
    "plt.xlabel('$x$', fontsize=18)\n",
    "plt.ylabel('$T(x)$', fontsize=18)\n",
    "plt.plot([xmin,xmax],[0,0], 'k--')\n",
    "plt.xlim([1.1*xmin,1.1*xmax])\n",
    "\n",
    "\n",
    "plt.show()"
   ]
  },
  {
   "cell_type": "code",
   "execution_count": 12,
   "metadata": {
    "collapsed": true
   },
   "outputs": [],
   "source": [
    "plt.figure(figsize=(14, 6))\n",
    "\n",
    "plt.subplot(1,2,1)\n",
    "plt.plot(x, Ueff(x), color='red')\n",
    "plt.xlim([xmin,xmax])\n",
    "plt.title('Potencial efectivo', fontsize=18)\n",
    "plt.xlabel('$x$', fontsize=18)\n",
    "plt.ylabel(r'$U_{eff}(x)$', fontsize=18)\n",
    "\n",
    "\n",
    "plt.subplot(1,2,2)\n",
    "plt.plot(x, dUeff(x), color='red')\n",
    "plt.xlim([xmin,xmax])\n",
    "plt.title('Derivada del potencial efectivo', fontsize=18)\n",
    "plt.xlabel('$x$', fontsize=18)\n",
    "plt.ylabel(r'$dU_{eff}(x)/dx$', fontsize=18)\n",
    "\n",
    "plt.show()"
   ]
  },
  {
   "cell_type": "code",
   "execution_count": null,
   "metadata": {
    "collapsed": true
   },
   "outputs": [],
   "source": []
  },
  {
   "cell_type": "code",
   "execution_count": null,
   "metadata": {
    "collapsed": true
   },
   "outputs": [],
   "source": []
  },
  {
   "cell_type": "code",
   "execution_count": null,
   "metadata": {
    "collapsed": true
   },
   "outputs": [],
   "source": []
  },
  {
   "cell_type": "markdown",
   "metadata": {
    "collapsed": true
   },
   "source": [
    "# Probability distributions"
   ]
  },
  {
   "cell_type": "code",
   "execution_count": 86,
   "metadata": {
    "collapsed": true
   },
   "outputs": [],
   "source": [
    "#product=np.array([0.01, 0.1, 0.5, 1, 2., 10])\n",
    "#g1=3.5\n",
    "g2=5.\n",
    "G1=np.array([ 0.2, 0.5, 0.8])\n",
    "#G2=np.array([0.5])#product/g1**2\n",
    "color=['purple', 'blue', 'green', 'yellow', 'orange', 'red']"
   ]
  },
  {
   "cell_type": "code",
   "execution_count": null,
   "metadata": {
    "collapsed": true
   },
   "outputs": [],
   "source": [
    "for i in range(len(G1)):\n",
    "    g1=G1[i]\n",
    "    L1=-g1-alpha*sp\n",
    "    L2=-g1+alpha*sp\n",
    "\n",
    "    U1=g1-alpha*sp\n",
    "    U2=g1+alpha*sp\n",
    "\n",
    "    rmax=root(UL, U1,U2, 10000, 300)\n",
    "    rmin=root(LL, L1,L2, 10000, 300)\n",
    "\n",
    "    if min(rmax)>max(rmin):\n",
    "        xmax=min(rmax)\n",
    "        xmin=max(rmin)\n",
    "    else: \n",
    "        imax=np.argmin(np.absolute(rmax))\n",
    "        imin=np.argmin(np.absolute(rmin))\n",
    "        xmin=np.minimum(rmax[imax], rmin[imin])\n",
    "        xmax=np.maximum(rmax[imax], rmin[imin])\n",
    "        \n",
    "    label=g2*g1**2\n",
    "    r=root(dUeff, xmin, xmax, 30000, 300)\n",
    "    x=np.linspace(0.999*xmin, 0.999*xmax, 5000)\n",
    "    x=np.append(x, r)\n",
    "    x=np.sort(x)\n",
    "\n",
    "    inte=integral2(integrand, x)\n",
    "    inte=-g2*inte\n",
    "    prob=np.exp(inte)\n",
    "    prob[prob==np.nan]=0\n",
    "    Z=np.trapz(prob, x)\n",
    "\n",
    "    plt.plot(x/g1, prob/Z,label='$g_2g_1^2=%.2f$'%label, color=color[i])\n",
    "\n",
    "plt.xlabel(r'$x/g_1$', fontsize=18)\n",
    "plt.ylabel('$P(x)$', fontsize=18)\n",
    "plt.title(r'$g_2=%.2f$'%g2, fontsize=18)\n",
    "plt.legend(loc='best', frameon=0)\n",
    "plt.show()"
   ]
  },
  {
   "cell_type": "code",
   "execution_count": null,
   "metadata": {
    "collapsed": true
   },
   "outputs": [],
   "source": []
  },
  {
   "cell_type": "code",
   "execution_count": null,
   "metadata": {
    "collapsed": true
   },
   "outputs": [],
   "source": []
  },
  {
   "cell_type": "code",
   "execution_count": null,
   "metadata": {
    "collapsed": true
   },
   "outputs": [],
   "source": []
  },
  {
   "cell_type": "markdown",
   "metadata": {},
   "source": [
    "# Domain as function of $g_1$"
   ]
  },
  {
   "cell_type": "code",
   "execution_count": 29,
   "metadata": {
    "collapsed": true
   },
   "outputs": [],
   "source": [
    "G1=np.linspace(0,10, 200)\n",
    "xm=np.zeros(len(G1))"
   ]
  },
  {
   "cell_type": "code",
   "execution_count": 30,
   "metadata": {
    "collapsed": true
   },
   "outputs": [],
   "source": [
    "for i in range(len(G1)):\n",
    "    g1=G1[i]\n",
    "    L1=-g1-alpha*sp\n",
    "    L2=-g1+alpha*sp\n",
    "\n",
    "    U1=g1-alpha*sp\n",
    "    U2=g1+alpha*sp\n",
    "\n",
    "    rmax=root(UL, U1,U2, 10000, 300)\n",
    "    rmin=root(LL, L1,L2, 10000, 300)\n",
    "\n",
    "    if min(rmax)>max(rmin):\n",
    "        xmax=min(rmax)\n",
    "        xmin=max(rmin)\n",
    "    else: \n",
    "        imax=np.argmin(np.absolute(rmax))\n",
    "        imin=np.argmin(np.absolute(rmin))\n",
    "        xmin=np.minimum(rmax[imax], rmin[imin])\n",
    "        xmax=np.maximum(rmax[imax], rmin[imin])\n",
    "    xm[i]=xmax"
   ]
  },
  {
   "cell_type": "code",
   "execution_count": 31,
   "metadata": {
    "collapsed": true
   },
   "outputs": [],
   "source": [
    "plt.plot(G1, xm, color='red')\n",
    "plt.plot(G1,G1, 'k--')\n",
    "plt.title(r'Dependencia del dominio como funci\\'on de $g_1$', fontsize=18)\n",
    "plt.xlabel('$g_1$', fontsize=18)\n",
    "plt.ylabel('$x_{max}$', fontsize=18)\n",
    "plt.show()"
   ]
  },
  {
   "cell_type": "code",
   "execution_count": null,
   "metadata": {
    "collapsed": true
   },
   "outputs": [],
   "source": [
    "\n"
   ]
  },
  {
   "cell_type": "code",
   "execution_count": null,
   "metadata": {
    "collapsed": true
   },
   "outputs": [],
   "source": []
  },
  {
   "cell_type": "markdown",
   "metadata": {},
   "source": [
    "# Number of roots as function of $g_2$"
   ]
  },
  {
   "cell_type": "code",
   "execution_count": 62,
   "metadata": {
    "collapsed": true
   },
   "outputs": [],
   "source": [
    "g1=0.1\n",
    "G2=np.linspace(0.5,1.5, 100)\n",
    "Number=np.zeros(len(G2))"
   ]
  },
  {
   "cell_type": "code",
   "execution_count": 63,
   "metadata": {
    "collapsed": true
   },
   "outputs": [],
   "source": [
    "L1=-g1-alpha*sp\n",
    "L2=-g1+alpha*sp\n",
    "\n",
    "U1=g1-alpha*sp\n",
    "U2=g1+alpha*sp\n",
    "\n",
    "rmax=root(UL, U1,U2, 10000, 300)\n",
    "rmin=root(LL, L1,L2, 10000, 300)\n",
    "\n",
    "if min(rmax)>max(rmin):\n",
    "    xmax=min(rmax)\n",
    "    xmin=max(rmin)\n",
    "else: \n",
    "    imax=np.argmin(np.absolute(rmax))\n",
    "    imin=np.argmin(np.absolute(rmin))\n",
    "    xmin=np.minimum(rmax[imax], rmin[imin])\n",
    "    xmax=np.maximum(rmax[imax], rmin[imin])"
   ]
  },
  {
   "cell_type": "code",
   "execution_count": 64,
   "metadata": {
    "collapsed": true
   },
   "outputs": [],
   "source": [
    "for i in range(len(G2)):\n",
    "    g2=G2[i]\n",
    "    r=root(dUeff, xmin, xmax, 30000, 300)\n",
    "    Number[i]=len(r)"
   ]
  },
  {
   "cell_type": "code",
   "execution_count": 65,
   "metadata": {
    "collapsed": true
   },
   "outputs": [],
   "source": [
    "plt.plot(G2,Number, color='red')\n",
    "plt.xlabel(r'$g_2$', fontsize=18)\n",
    "plt.ylabel(r'N\\'umero de ra\\'ices', fontsize=18)\n",
    "plt.title('$g_1=%.2f$'%g1, fontsize=18)\n",
    "plt.show()"
   ]
  },
  {
   "cell_type": "code",
   "execution_count": null,
   "metadata": {
    "collapsed": true
   },
   "outputs": [],
   "source": []
  },
  {
   "cell_type": "code",
   "execution_count": null,
   "metadata": {
    "collapsed": true
   },
   "outputs": [],
   "source": []
  }
 ],
 "metadata": {
  "kernelspec": {
   "display_name": "Python 3",
   "language": "python",
   "name": "python3"
  },
  "language_info": {
   "codemirror_mode": {
    "name": "ipython",
    "version": 3
   },
   "file_extension": ".py",
   "mimetype": "text/x-python",
   "name": "python",
   "nbconvert_exporter": "python",
   "pygments_lexer": "ipython3",
   "version": "3.6.3"
  }
 },
 "nbformat": 4,
 "nbformat_minor": 1
}
