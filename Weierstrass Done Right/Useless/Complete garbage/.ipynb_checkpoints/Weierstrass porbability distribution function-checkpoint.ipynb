{
 "cells": [
  {
   "cell_type": "code",
   "execution_count": 1,
   "metadata": {
    "collapsed": true
   },
   "outputs": [],
   "source": [
    "import numpy as np\n",
    "import scipy.integrate as integrate\n",
    "import matplotlib.pyplot as plt\n",
    "import scipy.optimize as optimize\n",
    "\n",
    "plt.rc('text', usetex=True)\n",
    "plt.rc('font', family='serif')\n",
    "pi=4*np.arctan(1.)"
   ]
  },
  {
   "cell_type": "code",
   "execution_count": 36,
   "metadata": {
    "collapsed": true
   },
   "outputs": [],
   "source": [
    "def zn(a,b,n,x):\n",
    "    return (a/b)**n*np.sin(b**n*pi*x)\n",
    "\n",
    "def Zp(x,p):\n",
    "    r=0\n",
    "    for i in range(p+1):\n",
    "        r+= zn(a,b,i,x)\n",
    "    return r/pi\n",
    "\n",
    "def wn(a,b,n,x):\n",
    "    if a*b>1.+1.5*pi:\n",
    "        return a**n*np.cos(b**n*pi*x)\n",
    "    else: \n",
    "        return 'Poorly conditionated function'\n",
    "    \n",
    "def Wp(x,p):\n",
    "    r=0\n",
    "    for i in range(p+1):\n",
    "        r+= wn(a,b,i,x)\n",
    "    return r\n",
    "\n",
    "def dwn(a,b,n,x):\n",
    "    if a*b>1.+1.5*pi:\n",
    "        return a**n*b**n*np.sin(b**n*pi*x+0.5*pi)\n",
    "    else: \n",
    "        return 'Poorly conditionated function'\n",
    "    \n",
    "def dWp(x,p):\n",
    "    r=0\n",
    "    for i in range(p+1):\n",
    "        r+= dwn(a,b,i,x)\n",
    "    return -pi*r\n",
    "\n",
    "\n",
    "def sig(a,b,p):\n",
    "    r=0\n",
    "    for i in range(p+1):\n",
    "        r+= a**i*b**i\n",
    "    return pi*r\n",
    "\n",
    "def dUeff(x):\n",
    "    return (x+alpha*Wp(x,p))*(1.-2*(1.+alpha*dWp(x,p))/(g1**2*g2))\n",
    "\n",
    "def T(x):\n",
    "    return 1.-(x+alpha*Wp(x,p))**2/g1**2\n",
    "\n",
    "def integrand(x):\n",
    "    return dUeff(x)/T(x)\n",
    "\n",
    "def LL(x):\n",
    "    return x+alpha*Wp(x,p)+g1\n",
    "\n",
    "def UL(x):\n",
    "    return x+alpha*Wp(x,p)-g1\n",
    "\n",
    "def Ueff(x):\n",
    "    return 0.5*x**2+alpha*Zp(x,p)+T(x)/g2"
   ]
  },
  {
   "cell_type": "code",
   "execution_count": 3,
   "metadata": {
    "collapsed": true
   },
   "outputs": [],
   "source": [
    "def roots(F,x_i, x_f, steps):\n",
    "    root=np.array([])\n",
    "    x=np.linspace(x_i,x_f, steps)\n",
    "    for i in range(steps-1):\n",
    "        if F(x[i])*F(x[i+1])<0:\n",
    "            r=optimize.brenth(F,x[i],x[i+1])\n",
    "            root=np.append(root,r)\n",
    "    return root"
   ]
  },
  {
   "cell_type": "code",
   "execution_count": 84,
   "metadata": {
    "collapsed": true
   },
   "outputs": [],
   "source": [
    "def ddwn(a,b,n,x):\n",
    "    return (a*b**2)**n*np.cos(b**n*pi*x)\n",
    "\n",
    "def dWp(x,p):\n",
    "    r=0\n",
    "    for i in range(p+1):\n",
    "        r+= ddwn(a,b,i,x)\n",
    "    return -pi**2*r"
   ]
  },
  {
   "cell_type": "code",
   "execution_count": 47,
   "metadata": {
    "collapsed": false
   },
   "outputs": [],
   "source": [
    "p=2\n",
    "\n",
    "a=0.25\n",
    "b=np.rint((1.+1.5*pi)/a) #no siempre es impar\n",
    "b=b+np.mod(b+1,2)\n",
    "\n",
    "alpha=0.9\n",
    "\n",
    "sp=(1.-a**p)/(1.-a)\n",
    "zetap=sig(a,b,p)"
   ]
  },
  {
   "cell_type": "code",
   "execution_count": null,
   "metadata": {
    "collapsed": false
   },
   "outputs": [],
   "source": []
  },
  {
   "cell_type": "code",
   "execution_count": null,
   "metadata": {
    "collapsed": false
   },
   "outputs": [],
   "source": []
  },
  {
   "cell_type": "code",
   "execution_count": null,
   "metadata": {
    "collapsed": true
   },
   "outputs": [],
   "source": []
  },
  {
   "cell_type": "code",
   "execution_count": 48,
   "metadata": {
    "collapsed": false
   },
   "outputs": [],
   "source": [
    "sp=(1.-a**p)/(1.-a)"
   ]
  },
  {
   "cell_type": "code",
   "execution_count": 49,
   "metadata": {
    "collapsed": false
   },
   "outputs": [],
   "source": [
    "x=np.linspace(-2,2,2000)\n",
    "plt.figure(figsize=(14, 6))\n",
    "\n",
    "plt.subplot(1, 2, 2)\n",
    "plt.plot(x, Wp(x,p), color='red')\n",
    "plt.title(r'Funci\\'on de Weierstrass Truncada', fontsize=18)\n",
    "plt.xlabel('$x$', fontsize=18)\n",
    "plt.plot([-2,2],[sp,sp], 'k--', label='$\\sigma_p$')\n",
    "plt.plot([-2,2],[-sp,-sp], 'k--')\n",
    "plt.legend(loc='best', frameon=0)\n",
    "\n",
    "plt.subplot(1,2,1)\n",
    "plt.plot(x, Zp(x,p), color='red')\n",
    "plt.title(r'Funci\\'on $Z$ Truncada', fontsize=18)\n",
    "plt.xlabel('$x$', fontsize=18)\n",
    "\n",
    "plt.show()\n"
   ]
  },
  {
   "cell_type": "code",
   "execution_count": 72,
   "metadata": {
    "collapsed": false
   },
   "outputs": [],
   "source": [
    "g1=0.05\n",
    "gc=0.5/g1**2\n",
    "g2=0.01*gc\n",
    "alpha=0.1"
   ]
  },
  {
   "cell_type": "code",
   "execution_count": 73,
   "metadata": {
    "collapsed": true
   },
   "outputs": [],
   "source": [
    "L1=-g1-alpha*sp\n",
    "L2=-g1+alpha*sp\n",
    "\n",
    "U1=g1-alpha*sp\n",
    "U2=g1+alpha*sp"
   ]
  },
  {
   "cell_type": "code",
   "execution_count": 74,
   "metadata": {
    "collapsed": false
   },
   "outputs": [],
   "source": [
    "xmax=0.99*min(roots(UL, U1,U2, 900))#there is small mistake here\n",
    "xmin=0.90*max(roots(LL, L1,L2, 900))"
   ]
  },
  {
   "cell_type": "code",
   "execution_count": null,
   "metadata": {
    "collapsed": false
   },
   "outputs": [],
   "source": []
  },
  {
   "cell_type": "code",
   "execution_count": 75,
   "metadata": {
    "collapsed": false
   },
   "outputs": [],
   "source": [
    "x=np.linspace(xmin,xmax, 2000)\n",
    "y1=np.linspace(L1,U1, 200)\n",
    "y2=np.linspace(L2,U2, 200)\n",
    "plt.figure(figsize=(14, 6))\n",
    "\n",
    "plt.subplot(1,2,1)\n",
    "plt.plot(x, x+alpha*Wp(x,p), color='red',lw=0.5, label=r'$x+\\alpha W_p(x)$')\n",
    "plt.plot(y1, y1+alpha*sp, color='red',linestyle='--', label=r'$x+\\alpha \\sigma_p$')\n",
    "plt.plot(y2, y2-alpha*sp, color='red',linestyle='-.', label=r'$x-\\alpha\\sigma_p$')\n",
    "plt.plot([L1,U2],[g1,g1], 'k--', label='$g_1$')\n",
    "plt.plot([L1,U2],[-g1,-g1], 'k--')\n",
    "plt.scatter(xmin, -g1, marker='*', s=50, color='black')\n",
    "plt.scatter(xmax, g1, marker='*', s=50, color='black')\n",
    "plt.xlim([1.1*xmin,1*xmax])\n",
    "plt.xlabel('$x$', fontsize=18)\n",
    "plt.legend(loc='upper left', frameon=0)\n",
    "plt.title('Dominio de temperatura no negativa', fontsize=18)\n",
    "\n",
    "plt.subplot(1,2,2)\n",
    "plt.plot(x, T(x), color='red', lw=0.5)\n",
    "plt.title('Temperatura efectiva', fontsize=18)\n",
    "plt.xlabel('$x$', fontsize=18)\n",
    "plt.ylabel('$T(x)$', fontsize=18)\n",
    "plt.plot([xmin,xmax],[0,0], 'k--')\n",
    "plt.xlim([1.1*xmin,1.1*xmax])\n",
    "\n",
    "\n",
    "plt.show()"
   ]
  },
  {
   "cell_type": "code",
   "execution_count": 76,
   "metadata": {
    "collapsed": true
   },
   "outputs": [],
   "source": [
    "plt.figure(figsize=(14, 6))\n",
    "\n",
    "plt.subplot(1,2,1)\n",
    "plt.plot(x, Ueff(x), color='red')\n",
    "plt.xlim([1.1*xmin,1.1*xmax])\n",
    "plt.title('Potencial efectivo', fontsize=18)\n",
    "plt.xlabel('$x$', fontsize=18)\n",
    "plt.ylabel(r'$U_{eff}(x)$', fontsize=18)\n",
    "\n",
    "\n",
    "plt.subplot(1,2,2)\n",
    "plt.plot(x, dUeff(x)/T(x), color='red')\n",
    "plt.xlim([1.1*xmin,1.1*xmax])\n",
    "plt.title('Derivada del potencial efectivo', fontsize=18)\n",
    "plt.xlabel('$x$', fontsize=18)\n",
    "plt.ylabel(r'$dU_{eff}(x)/dx$', fontsize=18)\n",
    "\n",
    "plt.show()"
   ]
  },
  {
   "cell_type": "code",
   "execution_count": null,
   "metadata": {
    "collapsed": true
   },
   "outputs": [],
   "source": []
  },
  {
   "cell_type": "code",
   "execution_count": 77,
   "metadata": {
    "collapsed": false
   },
   "outputs": [],
   "source": [
    "steps=1000\n",
    "xmax=min(roots(UL, U1,U2, 900))#there is small mistake here\n",
    "xmin=max(roots(LL, L1,L2, 900))"
   ]
  },
  {
   "cell_type": "code",
   "execution_count": 78,
   "metadata": {
    "collapsed": false
   },
   "outputs": [],
   "source": [
    "sampling=roots(dUeff,xmax,xmin, steps)"
   ]
  },
  {
   "cell_type": "code",
   "execution_count": 83,
   "metadata": {
    "collapsed": true
   },
   "outputs": [],
   "source": [
    "\n"
   ]
  },
  {
   "cell_type": "code",
   "execution_count": null,
   "metadata": {
    "collapsed": true
   },
   "outputs": [],
   "source": []
  },
  {
   "cell_type": "code",
   "execution_count": null,
   "metadata": {
    "collapsed": true
   },
   "outputs": [],
   "source": []
  },
  {
   "cell_type": "code",
   "execution_count": null,
   "metadata": {
    "collapsed": true
   },
   "outputs": [],
   "source": []
  },
  {
   "cell_type": "code",
   "execution_count": null,
   "metadata": {
    "collapsed": true
   },
   "outputs": [],
   "source": []
  },
  {
   "cell_type": "code",
   "execution_count": null,
   "metadata": {
    "collapsed": true
   },
   "outputs": [],
   "source": []
  },
  {
   "cell_type": "code",
   "execution_count": null,
   "metadata": {
    "collapsed": true
   },
   "outputs": [],
   "source": []
  },
  {
   "cell_type": "code",
   "execution_count": null,
   "metadata": {
    "collapsed": true
   },
   "outputs": [],
   "source": []
  },
  {
   "cell_type": "code",
   "execution_count": null,
   "metadata": {
    "collapsed": true
   },
   "outputs": [],
   "source": []
  },
  {
   "cell_type": "code",
   "execution_count": 79,
   "metadata": {
    "collapsed": true
   },
   "outputs": [],
   "source": [
    "x=np.linspace(xmin,xmax, steps)\n",
    "x=np.append(x,sampling)\n",
    "x=np.sort(x)\n",
    "#x=np.sort(sampling)"
   ]
  },
  {
   "cell_type": "code",
   "execution_count": 80,
   "metadata": {
    "collapsed": false
   },
   "outputs": [],
   "source": [
    "logP=np.zeros(len(x))\n",
    "for i in range(len(x)):\n",
    "    Int=integrate.quad(integrand, 0, x[i] )[0]\n",
    "    logP[i]=-g2*Int\n",
    "    \n",
    "logP=logP/(max(logP)-min(logP))\n",
    "P=np.exp(logP)\n",
    "Z=np.trapz(P,x)\n",
    "P=P/Z"
   ]
  },
  {
   "cell_type": "code",
   "execution_count": 81,
   "metadata": {
    "collapsed": false
   },
   "outputs": [],
   "source": [
    "plt.plot(x,P, color='red')\n",
    "plt.plot([xmin, xmax],[0,0], 'k--')\n",
    "plt.xlim([1.1*xmin,1.1*xmax])\n",
    "plt.grid()\n",
    "plt.show()"
   ]
  },
  {
   "cell_type": "code",
   "execution_count": null,
   "metadata": {
    "collapsed": false
   },
   "outputs": [],
   "source": []
  },
  {
   "cell_type": "code",
   "execution_count": null,
   "metadata": {
    "collapsed": false
   },
   "outputs": [],
   "source": []
  },
  {
   "cell_type": "code",
   "execution_count": null,
   "metadata": {
    "collapsed": true
   },
   "outputs": [],
   "source": []
  },
  {
   "cell_type": "code",
   "execution_count": null,
   "metadata": {
    "collapsed": true
   },
   "outputs": [],
   "source": []
  }
 ],
 "metadata": {
  "kernelspec": {
   "display_name": "Python 2",
   "language": "python",
   "name": "python2"
  },
  "language_info": {
   "codemirror_mode": {
    "name": "ipython",
    "version": 2
   },
   "file_extension": ".py",
   "mimetype": "text/x-python",
   "name": "python",
   "nbconvert_exporter": "python",
   "pygments_lexer": "ipython2",
   "version": "2.7.12"
  }
 },
 "nbformat": 4,
 "nbformat_minor": 0
}
