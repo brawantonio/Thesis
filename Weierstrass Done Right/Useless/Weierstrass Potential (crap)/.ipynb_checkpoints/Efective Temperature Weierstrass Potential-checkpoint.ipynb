{
 "cells": [
  {
   "cell_type": "code",
   "execution_count": 1,
   "metadata": {
    "collapsed": true
   },
   "outputs": [],
   "source": [
    "import numpy as np\n",
    "import scipy.integrate as integrate\n",
    "import matplotlib.pyplot as plt\n",
    "import scipy.optimize as optimize\n",
    "\n",
    "plt.rc('text', usetex=True)\n",
    "plt.rc('font', family='serif')\n",
    "pi=4*np.arctan(1.)"
   ]
  },
  {
   "cell_type": "code",
   "execution_count": 53,
   "metadata": {
    "collapsed": true
   },
   "outputs": [],
   "source": [
    "p=3\n",
    "a=0.25\n",
    "b=np.rint((1.+1.5*pi)/a) #no siempre es impar\n",
    "b=b+np.mod(b+1,2)\n",
    "\n",
    "#k=1\n",
    "#alpha=0.1\n",
    "g1=1.0\n",
    "g2=1e-5"
   ]
  },
  {
   "cell_type": "code",
   "execution_count": 54,
   "metadata": {
    "collapsed": true
   },
   "outputs": [],
   "source": [
    "def arg1(x,a,b,n):\n",
    "    return a**n*b**n*np.sin(b**n*pi*x)\n",
    "def dWp(x,p):\n",
    "    r=0\n",
    "    for i in range(p+1):\n",
    "        r+= arg1(x,a,b,i)\n",
    "    return -pi*r\n",
    "\n",
    "def T(x,g1,g2):\n",
    "    return 1.-g1**2*(x+g2*dWp(x,p))**2"
   ]
  },
  {
   "cell_type": "code",
   "execution_count": 55,
   "metadata": {
    "collapsed": false
   },
   "outputs": [],
   "source": [
    "x=np.linspace(-1,1,1000)\n",
    "plt.plot(x,T(x,g1,g2),color='red')\n",
    "plt.plot([-1,1],[0,0],'k--')\n",
    "plt.grid()\n",
    "plt.show()"
   ]
  },
  {
   "cell_type": "code",
   "execution_count": null,
   "metadata": {
    "collapsed": true
   },
   "outputs": [],
   "source": []
  }
 ],
 "metadata": {
  "kernelspec": {
   "display_name": "Python 2",
   "language": "python",
   "name": "python2"
  },
  "language_info": {
   "codemirror_mode": {
    "name": "ipython",
    "version": 2
   },
   "file_extension": ".py",
   "mimetype": "text/x-python",
   "name": "python",
   "nbconvert_exporter": "python",
   "pygments_lexer": "ipython2",
   "version": "2.7.12"
  }
 },
 "nbformat": 4,
 "nbformat_minor": 0
}
