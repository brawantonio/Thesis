{
 "cells": [
  {
   "cell_type": "code",
   "execution_count": 1,
   "metadata": {
    "collapsed": true
   },
   "outputs": [],
   "source": [
    "import numpy as np\n",
    "import scipy.integrate as integrate\n",
    "import matplotlib.pyplot as plt\n",
    "import scipy.optimize as optimize\n",
    "\n",
    "plt.rc('text', usetex=True)\n",
    "plt.rc('font', family='serif')\n",
    "pi=4*np.arctan(1.)"
   ]
  },
  {
   "cell_type": "code",
   "execution_count": 24,
   "metadata": {
    "collapsed": true
   },
   "outputs": [],
   "source": [
    "p=7\n",
    "\n",
    "a=0.25\n",
    "b=np.rint((1.+1.5*pi)/a) #no siempre es impar\n",
    "b=b+np.mod(b+1,2)"
   ]
  },
  {
   "cell_type": "code",
   "execution_count": 49,
   "metadata": {
    "collapsed": false
   },
   "outputs": [],
   "source": [
    "def zn(a,b,n,x):\n",
    "    return (a/b)**n*np.sin(b**n*pi*x)\n",
    "\n",
    "def Zp(x,p):\n",
    "    r=0\n",
    "    for i in range(p+1):\n",
    "        r+= zn(a,b,i,x)\n",
    "    return r/pi\n",
    "\n",
    "def wn(a,b,n,x):\n",
    "    if a*b>1.+1.5*pi:\n",
    "        return a**n*np.cos(b**n*pi*x)\n",
    "    else: \n",
    "        return 'Poorly conditionated function'\n",
    "    \n",
    "def Wp(x,p):\n",
    "    r=0\n",
    "    for i in range(p+1):\n",
    "        r+= wn(a,b,i,x)\n",
    "    return r\n",
    "\n",
    "def dwn(a,b,n,x):\n",
    "    if a*b>1.+1.5*pi:\n",
    "        return a**n*b**n*np.sin(b**n*pi*x)\n",
    "    else: \n",
    "        return 'Poorly conditionated function'\n",
    "    \n",
    "def dWp(x,p):\n",
    "    r=0\n",
    "    for i in range(p+1):\n",
    "        r+= dwn(a,b,i,x)\n",
    "    return -pi*r\n",
    "\n",
    "def sig(a,b,p):\n",
    "    r=0\n",
    "    for i in range(p+1):\n",
    "        r+= a**i*b**i\n",
    "    return r"
   ]
  },
  {
   "cell_type": "code",
   "execution_count": 46,
   "metadata": {
    "collapsed": true
   },
   "outputs": [],
   "source": [
    "alpha=-0.1"
   ]
  },
  {
   "cell_type": "code",
   "execution_count": 47,
   "metadata": {
    "collapsed": true
   },
   "outputs": [],
   "source": [
    "def Ueff(x,alpha):\n",
    "    return 0.5*x**2+alpha*Zp(x,p)\n",
    "\n",
    "def dUeff(x,alpha):\n",
    "    return x+alpha*Wp(x,p)"
   ]
  },
  {
   "cell_type": "code",
   "execution_count": 52,
   "metadata": {
    "collapsed": false
   },
   "outputs": [],
   "source": [
    "x=np.linspace(-1,1,1000)\n",
    "plt.plot(x,dUeff(x,alpha), color='red')\n",
    "plt.grid()\n",
    "plt.show()"
   ]
  },
  {
   "cell_type": "code",
   "execution_count": null,
   "metadata": {
    "collapsed": true
   },
   "outputs": [],
   "source": []
  }
 ],
 "metadata": {
  "kernelspec": {
   "display_name": "Python 2",
   "language": "python",
   "name": "python2"
  },
  "language_info": {
   "codemirror_mode": {
    "name": "ipython",
    "version": 2
   },
   "file_extension": ".py",
   "mimetype": "text/x-python",
   "name": "python",
   "nbconvert_exporter": "python",
   "pygments_lexer": "ipython2",
   "version": "2.7.12"
  }
 },
 "nbformat": 4,
 "nbformat_minor": 0
}
