{
 "cells": [
  {
   "cell_type": "code",
   "execution_count": 1,
   "metadata": {
    "collapsed": false
   },
   "outputs": [],
   "source": [
    "import numpy as np\n",
    "import scipy.integrate as integrate\n",
    "import matplotlib.pyplot as plt\n",
    "import scipy.optimize as optimize\n",
    "\n",
    "plt.rc('text', usetex=True)\n",
    "plt.rc('font', family='serif')\n",
    "pi=4*np.arctan(1.)"
   ]
  },
  {
   "cell_type": "code",
   "execution_count": 27,
   "metadata": {
    "collapsed": false
   },
   "outputs": [],
   "source": [
    "p=5\n",
    "\n",
    "a=0.25\n",
    "b=np.rint((1.+1.5*pi)/a) #no siempre es impar\n",
    "b=b+np.mod(b+1,2)"
   ]
  },
  {
   "cell_type": "code",
   "execution_count": 21,
   "metadata": {
    "collapsed": true
   },
   "outputs": [],
   "source": [
    "def wn(a,b,n,x):\n",
    "    if a*b>1.+1.5*pi:\n",
    "        return a**n*np.cos(b**n*pi*x)\n",
    "    else: \n",
    "        return 'Poorly conditionated function'\n",
    "    \n",
    "def Wp(x,p):\n",
    "    r=0\n",
    "    for i in range(p+1):\n",
    "        r+= wn(a,b,i,x)\n",
    "    return r\n",
    "\n",
    "def dwn(a,b,n,x):\n",
    "    if a*b>1.+1.5*pi:\n",
    "        return a**n*b**n*np.sin(b**n*pi*x)\n",
    "    else: \n",
    "        return 'Poorly conditionated function'\n",
    "    \n",
    "def dWp(x,p):\n",
    "    r=0\n",
    "    for i in range(p+1):\n",
    "        r+= dwn(a,b,i,x)\n",
    "    return -pi*r\n",
    "\n",
    "def sig(a,b,p):\n",
    "    r=0\n",
    "    for i in range(p+1):\n",
    "        r+= a**i*b**i\n",
    "    return r"
   ]
  },
  {
   "cell_type": "code",
   "execution_count": null,
   "metadata": {
    "collapsed": true
   },
   "outputs": [],
   "source": []
  },
  {
   "cell_type": "code",
   "execution_count": 80,
   "metadata": {
    "collapsed": false
   },
   "outputs": [
    {
     "data": {
      "text/plain": [
       "True"
      ]
     },
     "execution_count": 80,
     "metadata": {},
     "output_type": "execute_result"
    }
   ],
   "source": [
    "sp=sig(a,b,p)\n",
    "\n",
    "g1=0.01\n",
    "g2=0.1*(1./(g1*sp*pi))\n",
    "g3=0.24\n",
    "\n",
    "1./g1>=g2*sp*pi"
   ]
  },
  {
   "cell_type": "code",
   "execution_count": 81,
   "metadata": {
    "collapsed": false
   },
   "outputs": [
    {
     "name": "stdout",
     "output_type": "stream",
     "text": [
      "90.0 10.0\n"
     ]
    }
   ],
   "source": [
    "print 1./g1-g2*sp*pi, g2*sp*pi"
   ]
  },
  {
   "cell_type": "code",
   "execution_count": 82,
   "metadata": {
    "collapsed": false
   },
   "outputs": [],
   "source": [
    "lim=1./g1-g2*sp*pi\n",
    "x=np.linspace(-lim,lim,1000)"
   ]
  },
  {
   "cell_type": "code",
   "execution_count": 83,
   "metadata": {
    "collapsed": false
   },
   "outputs": [],
   "source": [
    "plt.plot(x,g2*dWp(x,p),color='red')\n",
    "plt.plot(x,-x,color='blue')\n",
    "plt.title('Maximos del potencial: caso 1',fontsize=18)\n",
    "plt.xlabel('$x$',fontsize=18)\n",
    "plt.ylabel('$dW_p(x)$ p=5', fontsize=18 )\n",
    "plt.grid()\n",
    "plt.show()"
   ]
  },
  {
   "cell_type": "code",
   "execution_count": null,
   "metadata": {
    "collapsed": false
   },
   "outputs": [],
   "source": []
  },
  {
   "cell_type": "code",
   "execution_count": null,
   "metadata": {
    "collapsed": true
   },
   "outputs": [],
   "source": []
  }
 ],
 "metadata": {
  "kernelspec": {
   "display_name": "Python 2",
   "language": "python",
   "name": "python2"
  },
  "language_info": {
   "codemirror_mode": {
    "name": "ipython",
    "version": 2
   },
   "file_extension": ".py",
   "mimetype": "text/x-python",
   "name": "python",
   "nbconvert_exporter": "python",
   "pygments_lexer": "ipython2",
   "version": "2.7.12"
  }
 },
 "nbformat": 4,
 "nbformat_minor": 0
}
