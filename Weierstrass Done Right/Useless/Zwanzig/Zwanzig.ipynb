{
 "cells": [
  {
   "cell_type": "code",
   "execution_count": 1,
   "metadata": {
    "collapsed": true
   },
   "outputs": [],
   "source": [
    "import numpy as np\n",
    "import scipy.integrate as integrate\n",
    "import matplotlib.pyplot as plt\n",
    "import scipy.optimize as optimize\n",
    "from scipy.optimize import brenth\n",
    "\n",
    "plt.rc('text', usetex=True)\n",
    "plt.rc('font', family='serif')\n",
    "pi=4*np.arctan(1.)"
   ]
  },
  {
   "cell_type": "code",
   "execution_count": 2,
   "metadata": {
    "collapsed": false
   },
   "outputs": [],
   "source": [
    "def U(x):\n",
    "    return x**2+0.02*(np.cos(167*x)+np.sin(73*x))\n",
    "\n",
    "def dU(x):\n",
    "    return 2*x+0.02*(-167*np.sin(167*x)+73*np.cos(73*x))\n",
    "\n",
    "def T(x):\n",
    "    return 1.-(dU(x)/g1)**2\n",
    "\n",
    "def ddU(x):\n",
    "    return 2.+0.02*(-167**2*np.cos(167*x)-73**2*np.sin(73*x))\n",
    "def Ueff(x):\n",
    "    return U(x)+T(x)/g2\n",
    "\n",
    "def dUeff(x):\n",
    "    return dU(x)*(1.-2*ddU(x)/(g2*g1**2))"
   ]
  },
  {
   "cell_type": "code",
   "execution_count": 3,
   "metadata": {
    "collapsed": true
   },
   "outputs": [],
   "source": [
    "def LL(x):\n",
    "    return dU(x)+g1\n",
    "\n",
    "def UL(x):\n",
    "    return dU(x)-g1\n",
    "\n",
    "def integrand(x):\n",
    "    return dUeff(x)/T(x)"
   ]
  },
  {
   "cell_type": "code",
   "execution_count": 4,
   "metadata": {
    "collapsed": true
   },
   "outputs": [],
   "source": [
    "def root(F, x1, x2, div, it):\n",
    "    X=np.linspace(x1,x2, div)\n",
    "    roots=np.array([])\n",
    "    for i in range(div-1):\n",
    "        if F(X[i])*F(X[i+1])<=0:\n",
    "            p1=X[i]\n",
    "            p2=X[i+1]\n",
    "            r=brenth(F, p1, p2, maxiter=it)\n",
    "            roots=np.append(roots, r)\n",
    "    return roots"
   ]
  },
  {
   "cell_type": "code",
   "execution_count": 5,
   "metadata": {
    "collapsed": true
   },
   "outputs": [],
   "source": [
    "def integral2(F, X):\n",
    "    l=len(X)\n",
    "    Func=np.zeros(l)\n",
    "    id0=int(0.5*l)\n",
    "    xmin=X[id0]\n",
    "    Func[id0]=0\n",
    "    for i in range(1,l):\n",
    "        if i<=id0:\n",
    "            x0 = X[id0-i+1]\n",
    "            x1 = X[id0-i]\n",
    "            Func[id0-i]=integrate.quad(F, x0, x1)[0]\n",
    "            Func[id0-i]=Func[id0-i]+Func[id0-i+1]\n",
    "        else:\n",
    "            x0 = X[i-1]\n",
    "            x1 = X[i]\n",
    "            Func[i]=integrate.quad(F, x0, x1)[0]\n",
    "            Func[i]=Func[i]+Func[i-1]\n",
    "    return Func"
   ]
  },
  {
   "cell_type": "code",
   "execution_count": 6,
   "metadata": {
    "collapsed": true
   },
   "outputs": [],
   "source": [
    "g1=5.5\n",
    "g2=100\n",
    "\n",
    "L1=-0.5*g1-0.02*167\n",
    "L2=-0.5*g1+0.02*167\n",
    "\n",
    "U1=0.5*g1-0.02*167\n",
    "U2=0.5*g1+0.02*167"
   ]
  },
  {
   "cell_type": "code",
   "execution_count": 7,
   "metadata": {
    "collapsed": false
   },
   "outputs": [],
   "source": [
    "rmax=root(UL, U1,U2, 10000, 300)\n",
    "rmin=root(LL, L1,L2, 10000, 300)"
   ]
  },
  {
   "cell_type": "code",
   "execution_count": 8,
   "metadata": {
    "collapsed": false
   },
   "outputs": [],
   "source": [
    "if min(rmax)>max(rmin):\n",
    "    xmax=min(rmax)\n",
    "    xmin=max(rmin)\n",
    "else: \n",
    "    imax=np.argmin(np.absolute(rmax))\n",
    "    imin=np.argmin(np.absolute(rmin))\n",
    "    xmin=np.minimum(rmax[imax], rmin[imin])\n",
    "    xmax=np.maximum(rmax[imax], rmin[imin])"
   ]
  },
  {
   "cell_type": "code",
   "execution_count": 9,
   "metadata": {
    "collapsed": false
   },
   "outputs": [],
   "source": [
    "r=root(dUeff, xmin, xmax, 30000, 300)\n",
    "x=np.linspace(xmin,xmax, 2000)\n",
    "x=np.append(x,r)\n",
    "x=np.sort(x)"
   ]
  },
  {
   "cell_type": "code",
   "execution_count": 10,
   "metadata": {
    "collapsed": false
   },
   "outputs": [],
   "source": [
    "plt.figure(figsize=(14, 6))\n",
    "\n",
    "plt.subplot(1, 2, 1)\n",
    "plt.plot(x, U(x), color='red')\n",
    "plt.xlim([xmin,xmax])\n",
    "plt.title(r'Potencial de Zwanzig', fontsize=18)\n",
    "plt.xlabel('$x$', fontsize=18)\n",
    "plt.ylabel('$U(x)$', fontsize=18)\n",
    "\n",
    "\n",
    "plt.subplot(1,2,2)\n",
    "plt.plot(x, T(x), color='red')\n",
    "plt.title(r'Temperatura efectiva', fontsize=18)\n",
    "plt.plot([min(x), max(x)],[0,0], 'k--')\n",
    "plt.xlabel('$x$', fontsize=18)\n",
    "plt.ylabel('$T(x)$', fontsize=18)\n",
    "\n",
    "plt.show()"
   ]
  },
  {
   "cell_type": "code",
   "execution_count": null,
   "metadata": {
    "collapsed": false
   },
   "outputs": [],
   "source": []
  },
  {
   "cell_type": "code",
   "execution_count": 11,
   "metadata": {
    "collapsed": false
   },
   "outputs": [],
   "source": [
    "plt.figure(figsize=(14, 6))\n",
    "\n",
    "plt.subplot(1,2,1)\n",
    "plt.plot(x, Ueff(x), color='red')\n",
    "plt.xlim([xmin,xmax])\n",
    "plt.title('Potencial efectivo', fontsize=18)\n",
    "plt.xlabel('$x$', fontsize=18)\n",
    "plt.ylabel(r'$U_{eff}(x)$', fontsize=18)\n",
    "\n",
    "\n",
    "plt.subplot(1,2,2)\n",
    "plt.plot(x, dUeff(x), color='red')\n",
    "plt.plot([min(x), max(x)], [0,0], 'k--')\n",
    "plt.xlim([xmin,xmax])\n",
    "plt.title('Derivada del potencial efectivo', fontsize=18)\n",
    "plt.xlabel('$x$', fontsize=18)\n",
    "plt.ylabel(r'$dU_{eff}(x)/dx$', fontsize=18)\n",
    "\n",
    "plt.show()"
   ]
  },
  {
   "cell_type": "code",
   "execution_count": null,
   "metadata": {
    "collapsed": true
   },
   "outputs": [],
   "source": []
  },
  {
   "cell_type": "code",
   "execution_count": 22,
   "metadata": {
    "collapsed": true
   },
   "outputs": [],
   "source": [
    "#product=np.array([0.01, 0.1, 0.5, 1, 2., 10])\n",
    "#g1=3.5\n",
    "g2=100\n",
    "product=np.array([0.1, 0.5, 2, 10])\n",
    "G2=np.array([0.1, 5.5, 100])\n",
    "G1=np.array([0.1, 5.5, 8])\n",
    "#G2=np.array([0.5])#product/g1**2\n",
    "color=['purple', 'blue', 'green', 'yellow', 'orange', 'red']"
   ]
  },
  {
   "cell_type": "code",
   "execution_count": 23,
   "metadata": {
    "collapsed": false
   },
   "outputs": [],
   "source": [
    "plt.figure(figsize=(30, 6))\n",
    "for i in range(len(G1)):\n",
    "    g1=G1[i]\n",
    "\n",
    "    L1=-0.5*g1-0.02*167\n",
    "    L2=-0.5*g1+0.02*167\n",
    "\n",
    "    U1=0.5*g1-0.02*167\n",
    "    U2=0.5*g1+0.02*167\n",
    "\n",
    "    rmax=root(UL, U1,U2, 10000, 300)\n",
    "    rmin=root(LL, L1,L2, 10000, 300)\n",
    "\n",
    "    if min(rmax)>max(rmin):\n",
    "        xmax=min(rmax)\n",
    "        xmin=max(rmin)\n",
    "    else: \n",
    "        imax=np.argmin(np.absolute(rmax))\n",
    "        imin=np.argmin(np.absolute(rmin))\n",
    "        xmin=np.minimum(rmax[imax], rmin[imin])\n",
    "        xmax=np.maximum(rmax[imax], rmin[imin])\n",
    "        \n",
    "    r=root(dUeff, xmin, xmax, 30000, 300)\n",
    "    x=np.linspace(0.9*xmin, 0.9*xmax, 5000)\n",
    "    x=np.append(x, r)\n",
    "    x=np.sort(x)\n",
    "    plt.subplot(1, 3, i+1)\n",
    "    for j in range(len(G2)):\n",
    "        g2=G2[j]    \n",
    "        label=g2*g1**2\n",
    "        inte=integral2(integrand, x)\n",
    "        inte=-g2*inte\n",
    "        prob=np.exp(inte)\n",
    "        prob[prob==np.nan]=0\n",
    "        Z=np.trapz(prob, x)\n",
    "        #x=x-min(x)\n",
    "        #x=x/max(x)\n",
    "        plt.plot(x/g1, prob/Z,label=r'$g_2 g_1^2=%.2f$'%label, color=color[j])    \n",
    "    #plt.plot(x/g1, prob/Z,label='$g_2g_1^2=%.2f$'%label, color=color[i])\n",
    "    #plt.plot(x/g1, prob*Ueff(x)/Z, color='k')\n",
    "\n",
    "    plt.xlabel(r'$x/g_1$', fontsize=18)\n",
    "    plt.ylabel('$P(x)$', fontsize=18)\n",
    "    plt.title(r'$g_1=%.2f$'%g1, fontsize=18)\n",
    "    plt.legend(loc='best', frameon=0)\n",
    "plt.show()"
   ]
  },
  {
   "cell_type": "code",
   "execution_count": null,
   "metadata": {
    "collapsed": false
   },
   "outputs": [],
   "source": []
  },
  {
   "cell_type": "code",
   "execution_count": 115,
   "metadata": {
    "collapsed": true
   },
   "outputs": [],
   "source": [
    "G1=np.linspace(50,54, 100)\n",
    "g2=0.1\n",
    "v1=np.zeros(len(G1))\n",
    "v2=np.zeros(len(G1))\n",
    "nroot=np.zeros(len(G1))"
   ]
  },
  {
   "cell_type": "code",
   "execution_count": 116,
   "metadata": {
    "collapsed": false
   },
   "outputs": [],
   "source": [
    "for i in range(len(G1)):\n",
    "    g1=G1[i]\n",
    "\n",
    "    L1=-0.5*g1-0.02*167\n",
    "    L2=-0.5*g1+0.02*167\n",
    "\n",
    "    U1=0.5*g1-0.02*167\n",
    "    U2=0.5*g1+0.02*167\n",
    "\n",
    "    rmax=root(UL, U1,U2, 10000, 300)\n",
    "    rmin=root(LL, L1,L2, 10000, 300)\n",
    "\n",
    "    if min(rmax)>max(rmin):\n",
    "        xmax=min(rmax)\n",
    "        xmin=max(rmin)\n",
    "    else: \n",
    "        imax=np.argmin(np.absolute(rmax))\n",
    "        imin=np.argmin(np.absolute(rmin))\n",
    "        xmin=np.minimum(rmax[imax], rmin[imin])\n",
    "        xmax=np.maximum(rmax[imax], rmin[imin])\n",
    "        \n",
    "    r=root(dUeff, xmin, xmax, 30000, 300)\n",
    "    v1[i]=xmin\n",
    "    v2[i]=xmax\n",
    "    nroot[i]=len(r)\n",
    "    \n",
    "    "
   ]
  },
  {
   "cell_type": "code",
   "execution_count": 117,
   "metadata": {
    "collapsed": false
   },
   "outputs": [],
   "source": [
    "Interval=np.absolute(v2-v1)\n",
    "P1=2*pi/167.\n",
    "P2=2*pi/73.\n",
    "Nroot=Interval*(1./P1+1./P2)"
   ]
  },
  {
   "cell_type": "code",
   "execution_count": 120,
   "metadata": {
    "collapsed": true
   },
   "outputs": [],
   "source": [
    "plt.figure(figsize=(12, 5))\n",
    "plt.subplot(1, 2, 2)\n",
    "plt.plot(Interval, nroot, label=r'N\\'umero de ra\\'ices')\n",
    "#plt.plot(Interval, Nroot, label=r'$I(1/P_1+1/P_2)$')\n",
    "plt.ylim([0, 1.1*np.maximum(max(nroot), max(Nroot))])\n",
    "plt.xlabel('Longitud del dominio', fontsize=18)\n",
    "plt.legend(loc='best', frameon=0, fontsize=18)\n",
    "\n",
    "plt.subplot(1,2, 1)\n",
    "plt.plot(G1, v1, color='blue', label=r'$x_{min}$')\n",
    "plt.plot(G1, v2, color='red', label=r'$x_{max}$')\n",
    "plt.xlabel('$g_1$', fontsize=18)\n",
    "plt.ylabel('$x$', fontsize=18)\n",
    "plt.legend(loc='best', frameon=0, fontsize=18)\n",
    "plt.title(r'Dominio como funci\\'on de $g_1$', fontsize=18)\n",
    "\n",
    "plt.show()"
   ]
  },
  {
   "cell_type": "code",
   "execution_count": null,
   "metadata": {
    "collapsed": false
   },
   "outputs": [],
   "source": []
  },
  {
   "cell_type": "code",
   "execution_count": null,
   "metadata": {
    "collapsed": false
   },
   "outputs": [],
   "source": []
  },
  {
   "cell_type": "code",
   "execution_count": null,
   "metadata": {
    "collapsed": true
   },
   "outputs": [],
   "source": []
  }
 ],
 "metadata": {
  "kernelspec": {
   "display_name": "Python 2",
   "language": "python",
   "name": "python2"
  },
  "language_info": {
   "codemirror_mode": {
    "name": "ipython",
    "version": 2
   },
   "file_extension": ".py",
   "mimetype": "text/x-python",
   "name": "python",
   "nbconvert_exporter": "python",
   "pygments_lexer": "ipython2",
   "version": "2.7.12"
  }
 },
 "nbformat": 4,
 "nbformat_minor": 0
}
