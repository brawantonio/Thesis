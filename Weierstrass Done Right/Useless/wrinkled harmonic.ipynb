{
 "cells": [
  {
   "cell_type": "code",
   "execution_count": 50,
   "metadata": {
    "collapsed": true
   },
   "outputs": [],
   "source": [
    "import numpy as np\n",
    "import matplotlib.pyplot as plt\n",
    "from scipy.optimize import brenth\n",
    "import scipy.integrate as integrate\n",
    "\n",
    "plt.rc('text', usetex=True)\n",
    "plt.rc('font', family='serif')\n",
    "\n",
    "pi=4*np.arctan(1.)"
   ]
  },
  {
   "cell_type": "code",
   "execution_count": 51,
   "metadata": {
    "collapsed": true
   },
   "outputs": [],
   "source": [
    "def root(F, x1, x2, div, it):\n",
    "    X=np.linspace(x1,x2, div)\n",
    "    roots=np.array([])\n",
    "    for i in range(div-1):\n",
    "        if F(X[i])*F(X[i+1])<=0:\n",
    "            p1=X[i]\n",
    "            p2=X[i+1]\n",
    "            r=brenth(F, p1, p2, maxiter=it)\n",
    "            roots=np.append(roots, r)\n",
    "    return roots"
   ]
  },
  {
   "cell_type": "code",
   "execution_count": 52,
   "metadata": {
    "collapsed": true
   },
   "outputs": [],
   "source": [
    "def maxmin(dF,d2F, x1, x2, div, it):\n",
    "    roots=root(dF, x1, x2, div, it)\n",
    "    Max=np.array([])\n",
    "    Min=np.array([])\n",
    "    Infl=np.array([])\n",
    "    for r in roots:\n",
    "        if d2F(r)>0: Min=np.append(Min, r)\n",
    "        if d2F(r)<0: Max=np.append(Max, r)\n",
    "        if d2F(r)==0: Infl=np.append(Infl, r)\n",
    "    return Max,Min, Infl"
   ]
  },
  {
   "cell_type": "code",
   "execution_count": 53,
   "metadata": {
    "collapsed": true
   },
   "outputs": [],
   "source": [
    "def integral(F, X):\n",
    "    l=len(X)\n",
    "    Func=np.zeros(l)\n",
    "    xmin=X[int(0.5*l)]\n",
    "    for i in range(l):\n",
    "        x=X[i]\n",
    "        Func[i]=integrate.quad(F, xmin, x)[0]\n",
    "    return Func"
   ]
  },
  {
   "cell_type": "code",
   "execution_count": 71,
   "metadata": {
    "collapsed": true
   },
   "outputs": [],
   "source": [
    "def zn(a,b,n,x):\n",
    "    return (a/b)**n*np.sin(b**n*pi*x)\n",
    "def Zp(x,p):\n",
    "    r=0\n",
    "    for i in range(p+1):\n",
    "        r+= zn(a,b,i,x)\n",
    "    return r/pi\n",
    "\n",
    "def wn(a,b,n,x):\n",
    "    return a**n*np.cos(b**n*pi*x)\n",
    "def Wp(x,p):\n",
    "    r=0\n",
    "    for i in range(p+1):\n",
    "        r+= wn(a,b,i,x)\n",
    "    return r\n",
    "\n",
    "def dwn(a,b,n,x):\n",
    "    return a**n*b**n*np.sin(b**n*pi*x+0.5*pi)\n",
    "def dWp(x,p):\n",
    "    r=0\n",
    "    for i in range(p+1):\n",
    "        r+= dwn(a,b,i,x)\n",
    "    return -pi*r\n",
    "\n",
    "def d2wn(a,b,n,x):\n",
    "    return (a*b**2)**n*np.cos(b**n*pi*x)\n",
    "def d2Wp(x,p):\n",
    "    r=0\n",
    "    for i in range(p+1):\n",
    "        r+= d2wn(a,b,i,x)\n",
    "    return -pi**2*r"
   ]
  },
  {
   "cell_type": "code",
   "execution_count": 72,
   "metadata": {
    "collapsed": true
   },
   "outputs": [],
   "source": [
    "def dUeff(x):\n",
    "    return (x+alpha*Wp(x,p))*(1.-2*(1.+alpha*dWp(x,p))/(g1**2*g2))\n",
    "\n",
    "def T(x):\n",
    "    return 1.-(x+alpha*Wp(x,p))**2/g1**2\n",
    "\n",
    "def integrand(x):\n",
    "    return dUeff(x)/T(x)\n",
    "\n",
    "def LL(x):\n",
    "    return x+alpha*Wp(x,p)+g1\n",
    "\n",
    "def UL(x):\n",
    "    return x+alpha*Wp(x,p)-g1\n",
    "\n",
    "def Ueff(x):\n",
    "    return 0.5*x**2+alpha*Zp(x,p)+T(x)/g2\n",
    "\n",
    "def d2Ueff(x):\n",
    "    a1=1+alpha*dWp(x,p)\n",
    "    a2=x+alpha*Wp(x,p)\n",
    "    a3=-2*alpha*d2Wp(x,p)/g2/g1**2\n",
    "    return a1*(1-2*a1/g2/g1**2)+a2*a3"
   ]
  },
  {
   "cell_type": "code",
   "execution_count": 60,
   "metadata": {
    "collapsed": false
   },
   "outputs": [
    {
     "name": "stdout",
     "output_type": "stream",
     "text": [
      "True\n"
     ]
    }
   ],
   "source": [
    "p=2\n",
    "\n",
    "a=0.25\n",
    "b=np.rint((1.+1.5*pi)/a) #no siempre es impar\n",
    "b=b+np.mod(b+1,2)\n",
    "\n",
    "print a*b>=1+1.5*pi\n",
    "\n",
    "sp=(1.-a**p)/(1.-a)"
   ]
  },
  {
   "cell_type": "code",
   "execution_count": 83,
   "metadata": {
    "collapsed": true
   },
   "outputs": [],
   "source": [
    "g1=0.5\n",
    "g2=0.5\n",
    "#gc=0.5/g1**2\n",
    "#g2=0.01*gc\n",
    "alpha=0.1"
   ]
  },
  {
   "cell_type": "code",
   "execution_count": 84,
   "metadata": {
    "collapsed": false
   },
   "outputs": [],
   "source": [
    "L1=-g1-alpha*sp\n",
    "L2=-g1+alpha*sp\n",
    "\n",
    "U1=g1-alpha*sp\n",
    "U2=g1+alpha*sp"
   ]
  },
  {
   "cell_type": "code",
   "execution_count": 85,
   "metadata": {
    "collapsed": false
   },
   "outputs": [],
   "source": [
    "xmin=max(root(T, L1,L2, 10000, 300))\n",
    "xmax=min(root(T, U1,U2, 10000, 300))\n",
    "x=np.linspace(xmin,xmax, 2000)"
   ]
  },
  {
   "cell_type": "code",
   "execution_count": 87,
   "metadata": {
    "collapsed": false
   },
   "outputs": [],
   "source": [
    "y=dUeff(x)\n",
    "plt.plot(x,y)\n",
    "plt.show()"
   ]
  },
  {
   "cell_type": "code",
   "execution_count": 91,
   "metadata": {
    "collapsed": false
   },
   "outputs": [],
   "source": [
    "r=root(dUeff, xmin, xmax, 10000, 300)"
   ]
  },
  {
   "cell_type": "code",
   "execution_count": 94,
   "metadata": {
    "collapsed": false
   },
   "outputs": [
    {
     "name": "stderr",
     "output_type": "stream",
     "text": [
      "/home/brawantonio/anaconda2/lib/python2.7/site-packages/scipy/integrate/quadpack.py:364: IntegrationWarning: The integral is probably divergent, or slowly convergent.\n",
      "  warnings.warn(msg, IntegrationWarning)\n",
      "/home/brawantonio/anaconda2/lib/python2.7/site-packages/scipy/integrate/quadpack.py:364: IntegrationWarning: The maximum number of subdivisions (50) has been achieved.\n",
      "  If increasing the limit yields no improvement it is advised to analyze \n",
      "  the integrand in order to determine the difficulties.  If the position of a \n",
      "  local difficulty can be determined (singularity, discontinuity) one will \n",
      "  probably gain from splitting up the interval and calling the integrator \n",
      "  on the subranges.  Perhaps a special-purpose integrator should be used.\n",
      "  warnings.warn(msg, IntegrationWarning)\n",
      "/home/brawantonio/anaconda2/lib/python2.7/site-packages/ipykernel/__main__.py:7: RuntimeWarning: overflow encountered in exp\n"
     ]
    }
   ],
   "source": [
    "X=np.linspace(xmin*99, xmax*.99, 1000)\n",
    "X=np.concatenate((X,r), axis=0)\n",
    "X=np.sort(X)\n",
    "\n",
    "inte=integral(integrand, X)\n",
    "inte=-g2*inte\n",
    "prob=np.exp(inte)\n",
    "prob[prob==np.nan]=0\n",
    "Z=np.trapz(prob, X)"
   ]
  },
  {
   "cell_type": "code",
   "execution_count": 105,
   "metadata": {
    "collapsed": false
   },
   "outputs": [],
   "source": [
    "plt.plot(X[prob<1e5], prob[prob<1e5])\n",
    "plt.show()"
   ]
  },
  {
   "cell_type": "code",
   "execution_count": null,
   "metadata": {
    "collapsed": false
   },
   "outputs": [],
   "source": []
  },
  {
   "cell_type": "code",
   "execution_count": null,
   "metadata": {
    "collapsed": true
   },
   "outputs": [],
   "source": []
  }
 ],
 "metadata": {
  "kernelspec": {
   "display_name": "Python 2",
   "language": "python",
   "name": "python2"
  },
  "language_info": {
   "codemirror_mode": {
    "name": "ipython",
    "version": 2
   },
   "file_extension": ".py",
   "mimetype": "text/x-python",
   "name": "python",
   "nbconvert_exporter": "python",
   "pygments_lexer": "ipython2",
   "version": "2.7.12"
  }
 },
 "nbformat": 4,
 "nbformat_minor": 0
}
