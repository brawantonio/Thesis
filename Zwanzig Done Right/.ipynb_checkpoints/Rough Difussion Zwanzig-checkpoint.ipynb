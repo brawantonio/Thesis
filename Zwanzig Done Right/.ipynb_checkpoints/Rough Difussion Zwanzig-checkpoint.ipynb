{
 "cells": [
  {
   "cell_type": "code",
   "execution_count": 2,
   "metadata": {
    "collapsed": true
   },
   "outputs": [],
   "source": [
    "import numpy as np\n",
    "import scipy.integrate as integrate\n",
    "import matplotlib.pyplot as plt\n",
    "import scipy.optimize as optimize\n",
    "from scipy.optimize import brenth\n",
    "\n",
    "plt.rc('text', usetex=True)\n",
    "plt.rc('font', family='serif')\n",
    "pi=4*np.arctan(1.)"
   ]
  },
  {
   "cell_type": "code",
   "execution_count": 3,
   "metadata": {
    "collapsed": true
   },
   "outputs": [],
   "source": [
    "def U(x):  return x**2+0.02*(np.cos(167*x)+np.sin(73*x))\n",
    "def dU(x):  return 2*x+0.02*(-167*np.sin(167*x)+73*np.cos(73*x))\n",
    "\n",
    "def T(x):  return 1.-(dU(x)/g1)**2\n",
    "def dT(x):  return -2*dU(x)*ddU(x)/g1**2\n",
    "\n",
    "def ddU(x):  return 2.+0.02*(-167**2*np.cos(167*x)-73**2*np.sin(73*x))\n",
    "def Ueff(x):  return U(x)+T(x)/g2\n",
    "\n",
    "def dUeff(x):  return dU(x)*(1.-2*ddU(x)/(g2*g1**2))\n",
    "def ddUeff(x): return ddU(x)*(1.-2*ddU(x)/(g2*g1**2))"
   ]
  },
  {
   "cell_type": "code",
   "execution_count": 5,
   "metadata": {
    "collapsed": true
   },
   "outputs": [],
   "source": [
    "def LL(x): return 2*x + 0.02*(167+73)\n",
    "def UL(x):  return 2*x - 0.02*(167+73)\n",
    "\n",
    "def f1(x):  return dU(x)-g1\n",
    "def f2(x):  return dU(x)+g1\n",
    "\n",
    "def integrand(x): return dUeff(x)/T(x)"
   ]
  },
  {
   "cell_type": "code",
   "execution_count": 6,
   "metadata": {
    "collapsed": true
   },
   "outputs": [],
   "source": [
    "def root(F, x1, x2, div, it):\n",
    "    X=np.linspace(x1,x2, div)\n",
    "    roots=np.array([])\n",
    "    for i in range(div-1):\n",
    "        if F(X[i])*F(X[i+1])<=0:\n",
    "            p1=X[i]\n",
    "            p2=X[i+1]\n",
    "            r=brenth(F, p1, p2, maxiter=it)\n",
    "            roots=np.append(roots, r)\n",
    "    return roots"
   ]
  },
  {
   "cell_type": "code",
   "execution_count": 7,
   "metadata": {
    "collapsed": true
   },
   "outputs": [],
   "source": [
    "def integral2(F, X):\n",
    "    l=len(X)\n",
    "    Func=np.zeros(l)\n",
    "    id0=int(0.5*l)\n",
    "    xmin=X[id0]\n",
    "    Func[id0]=0\n",
    "    for i in range(1,l):\n",
    "        if i<=id0:\n",
    "            x0 = X[id0-i+1]\n",
    "            x1 = X[id0-i]\n",
    "            Func[id0-i]=integrate.quad(F, x0, x1)[0]\n",
    "            Func[id0-i]=Func[id0-i]+Func[id0-i+1]\n",
    "        else:\n",
    "            x0 = X[i-1]\n",
    "            x1 = X[i]\n",
    "            Func[i]=integrate.quad(F, x0, x1)[0]\n",
    "            Func[i]=Func[i]+Func[i-1]\n",
    "    return Func"
   ]
  },
  {
   "cell_type": "code",
   "execution_count": 9,
   "metadata": {
    "collapsed": true
   },
   "outputs": [],
   "source": [
    "def evol(x, h):\n",
    "    e=np.random.normal(0, 1)\n",
    "    y=x-h*dU(x)/g1+np.sqrt(2*T(x)*h/(g1*g2))*e\n",
    "    return y\n",
    "def rough(y, x):\n",
    "    dy = np.gradient(y, x, edge_order=2)\n",
    "    L = integrate.trapz(np.sqrt(1+dy**2),x )\n",
    "    N = np.sqrt((max(x)-min(x))**2+(max(y)-min(y))**2)\n",
    "    return L/N-1"
   ]
  },
  {
   "cell_type": "markdown",
   "metadata": {},
   "source": [
    "## G1 critical"
   ]
  },
  {
   "cell_type": "code",
   "execution_count": 10,
   "metadata": {},
   "outputs": [
    {
     "name": "stdout",
     "output_type": "stream",
     "text": [
      "1.49072265625 0.000244140625\n"
     ]
    }
   ],
   "source": [
    "g1 = 0.5 #finding critic value for g1\n",
    "dg1 = 1.\n",
    "\n",
    "for i in range(50):    \n",
    "    a1 = root(f1, 0.5*LL( 0.5*g1), 0.5*UL( 0.5*g1), 5000, 100)\n",
    "    a2 = root(f2, 0.5*LL(-0.5*g1), 0.5*UL(-0.5*g1), 5000, 100)\n",
    "    positive = np.concatenate([a1[a1>0], a2[a2>0]])\n",
    "    negative = np.concatenate([a1[a1<0], a2[a2<0]])\n",
    "    xmin = max(0.99*negative)\n",
    "    xmax = min(0.99*positive)\n",
    "    x=np.linspace(xmin, xmax, 1000)\n",
    "    v1 = max(dU(x))\n",
    "    v2 = min(dU(x))\n",
    "    \n",
    "    if v1 <= g1 and v2 >=-g1:\n",
    "        g1 = g1 - dg1\n",
    "    if v1 > g1 or v2 < -g1:\n",
    "        g1 = g1 + dg1\n",
    "        dg1 = dg1/2.\n",
    "print (g1, dg1)\n",
    "g1c = g1"
   ]
  },
  {
   "cell_type": "markdown",
   "metadata": {},
   "source": [
    "## G1 minimum"
   ]
  },
  {
   "cell_type": "code",
   "execution_count": 11,
   "metadata": {},
   "outputs": [
    {
     "name": "stdout",
     "output_type": "stream",
     "text": [
      "4.649166107177734 4.76837158203125e-07\n"
     ]
    }
   ],
   "source": [
    "g1 = g1c  #finding minimum value of interest for g1\n",
    "dg1 = 2\n",
    "for i in range(50):    \n",
    "    a1 = root(f1, 0.5*LL( 0.5*g1), 0.5*UL( 0.5*g1), 5000, 100)\n",
    "    a2 = root(f2, 0.5*LL(-0.5*g1), 0.5*UL(-0.5*g1), 5000, 100)\n",
    "    \n",
    "    if min(a1)>0 and max(a2)<0:\n",
    "        g1 = g1 - dg1\n",
    "    if min(a1)<0 or  max(a2)>0:\n",
    "        g1 = g1 + dg1\n",
    "        dg1 = dg1/2.\n",
    "print (g1, dg1)\n",
    "g1min = g1"
   ]
  },
  {
   "cell_type": "markdown",
   "metadata": {
    "collapsed": true
   },
   "source": [
    "## Average diffusion "
   ]
  },
  {
   "cell_type": "code",
   "execution_count": 13,
   "metadata": {},
   "outputs": [
    {
     "name": "stdout",
     "output_type": "stream",
     "text": [
      "1.38616613293\n",
      "Difusión:  [ 2.00345567  1.00215886  0.20130143]\n",
      "1.12882350398\n",
      "Difusión:  [ 6.47788907  3.2866566   0.71770257]\n",
      "0.999106862872\n",
      "Difusión:  [ 29.02330763  15.30691053   3.86983285]\n"
     ]
    }
   ],
   "source": [
    "G1 = np.array([1.01, 2.0, 10.0])\n",
    "G2=np.array([1.0, 2.0, 10.0])\n",
    "\n",
    "for i in range(len(G1)):\n",
    "    g1=G1[i]*g1min\n",
    "    a2 = root(f1, 0.5*LL(0.5*g1), 0.5*UL(0.5*g1), 5000, 1000)\n",
    "    a1 = root(f2, 0.5*LL(-0.5*g1), 0.5*UL(-0.5*g1), 5000, 1000)\n",
    "    positive = np.concatenate([a2[a2>0], a1[a1>0]])\n",
    "    negative = np.concatenate([a2[a2<0], a1[a1<0]])\n",
    "    xmin = max(negative)\n",
    "    xmax = min(positive)\n",
    "    x = np.linspace(0.99*xmin,0.99*xmax, 10000)\n",
    "    r = root(dU, xmin, xmax, 50000, 500)\n",
    "    x = np.concatenate([r,x])\n",
    "    x = np.sort(x)\n",
    "    r = rough(U(x), x)\n",
    "    print( r )\n",
    "    average1=np.array([])\n",
    "    average2=np.array([])\n",
    "    for j in range(len(G2)):\n",
    "        g2=G2[j]/g1**2\n",
    "        inte=integral2(integrand, x)\n",
    "        inte=-g2*inte\n",
    "        prob=np.exp(inte)\n",
    "        prob[prob==np.nan]=0\n",
    "        Z=np.trapz(prob, x)\n",
    "        Aux1=T(x)*prob/Z/g1/g2\n",
    "        Aux2=T(x)*prob/Z\n",
    "        av1 = np.trapz(Aux1, x)\n",
    "        average1 = np.append(average1, av1)\n",
    "        av2 = np.trapz(Aux2, x)\n",
    "        average2 = np.append(average2, av2)\n",
    "        \n",
    "    print('Difusión: ', average1)"
   ]
  },
  {
   "cell_type": "code",
   "execution_count": null,
   "metadata": {
    "collapsed": true
   },
   "outputs": [],
   "source": []
  },
  {
   "cell_type": "code",
   "execution_count": null,
   "metadata": {
    "collapsed": true
   },
   "outputs": [],
   "source": []
  },
  {
   "cell_type": "code",
   "execution_count": null,
   "metadata": {
    "collapsed": true
   },
   "outputs": [],
   "source": []
  },
  {
   "cell_type": "code",
   "execution_count": null,
   "metadata": {
    "collapsed": true
   },
   "outputs": [],
   "source": []
  },
  {
   "cell_type": "code",
   "execution_count": null,
   "metadata": {
    "collapsed": true
   },
   "outputs": [],
   "source": []
  },
  {
   "cell_type": "code",
   "execution_count": null,
   "metadata": {
    "collapsed": true
   },
   "outputs": [],
   "source": []
  }
 ],
 "metadata": {
  "kernelspec": {
   "display_name": "Python 3",
   "language": "python",
   "name": "python3"
  },
  "language_info": {
   "codemirror_mode": {
    "name": "ipython",
    "version": 3
   },
   "file_extension": ".py",
   "mimetype": "text/x-python",
   "name": "python",
   "nbconvert_exporter": "python",
   "pygments_lexer": "ipython3",
   "version": "3.6.3"
  }
 },
 "nbformat": 4,
 "nbformat_minor": 1
}
