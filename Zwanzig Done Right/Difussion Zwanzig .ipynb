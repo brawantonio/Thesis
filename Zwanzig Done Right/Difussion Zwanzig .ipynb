{
 "cells": [
  {
   "cell_type": "code",
   "execution_count": 1,
   "metadata": {
    "collapsed": true
   },
   "outputs": [],
   "source": [
    "import numpy as np\n",
    "import scipy.integrate as integrate\n",
    "import matplotlib.pyplot as plt\n",
    "import scipy.optimize as optimize\n",
    "from scipy.optimize import brenth\n",
    "\n",
    "plt.rc('text', usetex=True)\n",
    "plt.rc('font', family='serif')\n",
    "pi=4*np.arctan(1.)"
   ]
  },
  {
   "cell_type": "code",
   "execution_count": 2,
   "metadata": {
    "collapsed": true
   },
   "outputs": [],
   "source": [
    "def U(x):\n",
    "    return x**2+0.02*(np.cos(167*x)+np.sin(73*x))\n",
    "\n",
    "def dU(x):\n",
    "    return 2*x+0.02*(-167*np.sin(167*x)+73*np.cos(73*x))\n",
    "\n",
    "def T(x):\n",
    "    return 1.-(dU(x)/g1)**2\n",
    "\n",
    "def dT(x):\n",
    "    return -2*dU(x)*ddU(x)/g1**2\n",
    "\n",
    "def ddU(x):\n",
    "    return 2.+0.02*(-167**2*np.cos(167*x)-73**2*np.sin(73*x))\n",
    "\n",
    "def Ueff(x):\n",
    "    return U(x)+T(x)/g2\n",
    "\n",
    "def dUeff(x):\n",
    "    return dU(x)*(1.-2*ddU(x)/(g2*g1**2))\n",
    "\n",
    "def ddUeff(x):\n",
    "    return ddU(x)*(1.-2*ddU(x)/(g2*g1**2))"
   ]
  },
  {
   "cell_type": "code",
   "execution_count": 3,
   "metadata": {
    "collapsed": true
   },
   "outputs": [],
   "source": [
    "def LL(x):\n",
    "    return 2*x + 0.02*(167+73)\n",
    "    \n",
    "def UL(x):\n",
    "    return 2*x - 0.02*(167+73)\n",
    "\n",
    "def f1(x):\n",
    "    return dU(x)-g1\n",
    "def f2(x):\n",
    "    return dU(x)+g1\n",
    "\n",
    "def integrand(x):\n",
    "    return dUeff(x)/T(x)"
   ]
  },
  {
   "cell_type": "code",
   "execution_count": 4,
   "metadata": {
    "collapsed": true
   },
   "outputs": [],
   "source": [
    "def root(F, x1, x2, div, it):\n",
    "    X=np.linspace(x1,x2, div)\n",
    "    roots=np.array([])\n",
    "    for i in range(div-1):\n",
    "        if F(X[i])*F(X[i+1])<=0:\n",
    "            p1=X[i]\n",
    "            p2=X[i+1]\n",
    "            r=brenth(F, p1, p2, maxiter=it)\n",
    "            roots=np.append(roots, r)\n",
    "    return roots"
   ]
  },
  {
   "cell_type": "code",
   "execution_count": 5,
   "metadata": {
    "collapsed": true
   },
   "outputs": [],
   "source": [
    "def integral2(F, X):\n",
    "    l=len(X)\n",
    "    Func=np.zeros(l)\n",
    "    id0=int(0.5*l)\n",
    "    xmin=X[id0]\n",
    "    Func[id0]=0\n",
    "    for i in range(1,l):\n",
    "        if i<=id0:\n",
    "            x0 = X[id0-i+1]\n",
    "            x1 = X[id0-i]\n",
    "            Func[id0-i]=integrate.quad(F, x0, x1)[0]\n",
    "            Func[id0-i]=Func[id0-i]+Func[id0-i+1]\n",
    "        else:\n",
    "            x0 = X[i-1]\n",
    "            x1 = X[i]\n",
    "            Func[i]=integrate.quad(F, x0, x1)[0]\n",
    "            Func[i]=Func[i]+Func[i-1]\n",
    "    return Func"
   ]
  },
  {
   "cell_type": "code",
   "execution_count": 6,
   "metadata": {
    "collapsed": true
   },
   "outputs": [],
   "source": [
    "def evol(x, h):\n",
    "    e=np.random.normal(0, 1)\n",
    "    y=x-h*dU(x)/g1+np.sqrt(2*T(x)*h/(g1*g2))*e\n",
    "    return y"
   ]
  },
  {
   "cell_type": "markdown",
   "metadata": {},
   "source": [
    "## G1 critical"
   ]
  },
  {
   "cell_type": "code",
   "execution_count": 7,
   "metadata": {},
   "outputs": [
    {
     "name": "stdout",
     "output_type": "stream",
     "text": [
      "1.49072265625 0.000244140625\n"
     ]
    }
   ],
   "source": [
    "g1 = 0.5 #finding critic value for g1\n",
    "dg1 = 1.\n",
    "\n",
    "for i in range(50):    \n",
    "    a1 = root(f1, 0.5*LL( 0.5*g1), 0.5*UL( 0.5*g1), 5000, 100)\n",
    "    a2 = root(f2, 0.5*LL(-0.5*g1), 0.5*UL(-0.5*g1), 5000, 100)\n",
    "    positive = np.concatenate([a1[a1>0], a2[a2>0]])\n",
    "    negative = np.concatenate([a1[a1<0], a2[a2<0]])\n",
    "    xmin = max(0.99*negative)\n",
    "    xmax = min(0.99*positive)\n",
    "    x=np.linspace(xmin, xmax, 1000)\n",
    "    v1 = max(dU(x))\n",
    "    v2 = min(dU(x))\n",
    "    \n",
    "    if v1 <= g1 and v2 >=-g1:\n",
    "        g1 = g1 - dg1\n",
    "    if v1 > g1 or v2 < -g1:\n",
    "        g1 = g1 + dg1\n",
    "        dg1 = dg1/2.\n",
    "print (g1, dg1)\n",
    "g1c = g1"
   ]
  },
  {
   "cell_type": "markdown",
   "metadata": {},
   "source": [
    "## G1 minimum"
   ]
  },
  {
   "cell_type": "code",
   "execution_count": 8,
   "metadata": {},
   "outputs": [
    {
     "name": "stdout",
     "output_type": "stream",
     "text": [
      "4.649166107177734 4.76837158203125e-07\n"
     ]
    }
   ],
   "source": [
    "g1 = g1c  #finding minimum value of interest for g1\n",
    "dg1 = 2\n",
    "for i in range(50):    \n",
    "    a1 = root(f1, 0.5*LL( 0.5*g1), 0.5*UL( 0.5*g1), 5000, 100)\n",
    "    a2 = root(f2, 0.5*LL(-0.5*g1), 0.5*UL(-0.5*g1), 5000, 100)\n",
    "    \n",
    "    if min(a1)>0 and max(a2)<0:\n",
    "        g1 = g1 - dg1\n",
    "    if min(a1)<0 or  max(a2)>0:\n",
    "        g1 = g1 + dg1\n",
    "        dg1 = dg1/2.\n",
    "print (g1, dg1)\n",
    "g1min = g1"
   ]
  },
  {
   "cell_type": "markdown",
   "metadata": {
    "collapsed": true
   },
   "source": [
    "## Average diffusion "
   ]
  },
  {
   "cell_type": "code",
   "execution_count": 14,
   "metadata": {},
   "outputs": [
    {
     "name": "stderr",
     "output_type": "stream",
     "text": [
      "C:\\Users\\hp\\Anaconda3\\lib\\site-packages\\matplotlib\\cbook\\deprecation.py:106: MatplotlibDeprecationWarning: Adding an axes using the same arguments as a previous axes currently reuses the earlier instance.  In a future version, a new instance will always be created and returned.  Meanwhile, this warning can be suppressed, and the future behavior ensured, by passing a unique label to each axes instance.\n",
      "  warnings.warn(message, mplDeprecation, stacklevel=1)\n"
     ]
    },
    {
     "data": {
      "image/png": "[encoded data removed]",
      "text/plain": [
       "<matplotlib.figure.Figure at 0x1d7cdae3cf8>"
      ]
     },
     "metadata": {},
     "output_type": "display_data"
    }
   ],
   "source": [
    "G1 = np.array([1.01, 2.0, 10.0])\n",
    "color = ['purple', 'red', 'orange']\n",
    "marker = ['.', '*', '+']\n",
    "plt.figure(figsize=(16,6))\n",
    "for i in range(len(G1)):\n",
    "    g1=G1[i]*g1min\n",
    "    a2 = root(f1, 0.5*LL(0.5*g1), 0.5*UL(0.5*g1), 5000, 1000)\n",
    "    a1 = root(f2, 0.5*LL(-0.5*g1), 0.5*UL(-0.5*g1), 5000, 1000)\n",
    "    positive = np.concatenate([a2[a2>0], a1[a1>0]])\n",
    "    negative = np.concatenate([a2[a2<0], a1[a1<0]])\n",
    "    xmin = max(negative)\n",
    "    xmax = min(positive)\n",
    "    x = np.linspace(0.99*xmin,0.99*xmax, 10000)\n",
    "    r = root(dU, xmin, xmax, 50000, 500)\n",
    "    x = np.concatenate([r,x])\n",
    "    x = np.sort(x)\n",
    "    g2= 1e-7\n",
    "    g2c = np.concatenate((np.array([1e-2, 5e-2, 1e-1, 5e-1]), np.linspace(1,100, 10)))\n",
    "\n",
    "    average1=np.array([])\n",
    "    average2=np.array([])\n",
    "    for j in range(len(g2c)):\n",
    "        g2=g2c[j]    \n",
    "        inte=integral2(integrand, x)\n",
    "        inte=-g2*inte\n",
    "        prob=np.exp(inte)\n",
    "        prob[prob==np.nan]=0\n",
    "        Z=np.trapz(prob, x)\n",
    "        Aux1=T(x)*prob/Z/g1/g2\n",
    "        Aux2=T(x)*prob/Z\n",
    "        av1 = np.trapz(Aux1, x)\n",
    "        average1 = np.append(average1, av1)\n",
    "        av2 = np.trapz(Aux2, x)\n",
    "        average2 = np.append(average2, av2)\n",
    "        \n",
    "    plt.subplot(1,2,1)\n",
    "    plt.scatter(1./(g1*g2c), average1, s=20, label=r'$g_1 =%.2f g_1\\min$'%G1[i], c=color[i], marker=marker[i], alpha=1)\n",
    "    if i==0: plt.plot(1./(g1*g2c), 1./(g1*g2c), 'k--', label=r'Movimiento Browniano pasivo', alpha=0.5)\n",
    "    plt.xlabel(r'$ (g_1g_2)^{-1} $', fontsize=18)\n",
    "    plt.ylabel(r'$\\left< D(x) \\right>$', fontsize=18)\n",
    "    plt.xticks(fontsize=15)\n",
    "    plt.yticks(fontsize=15)\n",
    "    plt.xscale(\"log\", nonposx='clip')\n",
    "    plt.yscale(\"log\", nonposy='clip')\n",
    "    plt.legend(frameon=1, loc='best', fontsize=18)\n",
    "    plt.subplot(1,2,2)\n",
    "    plt.scatter(g2c, average2, s=20, label=r'$g_1 =%.2f g_1\\min$'%G1[i], c=color[i], marker=marker[i], alpha=1)\n",
    "    if i==0: plt.plot([min(g2c), max(g2c)], [1,1], 'k--', label=r'Movimiento Brwoniano Pasivo', alpha=0.5)\n",
    "    plt.xlabel(r'$ g_2 $', fontsize=18)\n",
    "    plt.ylabel(r'$\\left< T(x) \\right>$', fontsize=18)\n",
    "    plt.xticks(fontsize=15)\n",
    "    plt.yticks(fontsize=15)\n",
    "    plt.xscale(\"log\", nonposx='clip')\n",
    "    plt.yscale(\"log\", nonposy='clip')\n",
    "    plt.legend(frameon=1, loc='best', fontsize=18)\n",
    "\n",
    "plt.suptitle(r'Difusi\\'on y temperatura promedio', fontsize=18)\n",
    "plt.savefig('DTZ.png', bbox_inches='tight')\n",
    "plt.show()\n",
    "plt.close()"
   ]
  },
  {
   "cell_type": "code",
   "execution_count": null,
   "metadata": {
    "collapsed": true
   },
   "outputs": [],
   "source": []
  },
  {
   "cell_type": "code",
   "execution_count": null,
   "metadata": {
    "collapsed": true
   },
   "outputs": [],
   "source": []
  },
  {
   "cell_type": "code",
   "execution_count": null,
   "metadata": {
    "collapsed": true
   },
   "outputs": [],
   "source": []
  },
  {
   "cell_type": "code",
   "execution_count": null,
   "metadata": {
    "collapsed": true
   },
   "outputs": [],
   "source": []
  },
  {
   "cell_type": "code",
   "execution_count": null,
   "metadata": {
    "collapsed": true
   },
   "outputs": [],
   "source": []
  },
  {
   "cell_type": "code",
   "execution_count": 46,
   "metadata": {},
   "outputs": [
    {
     "data": {
      "image/png": "[encoded data removed]",
      "text/plain": [
       "<matplotlib.figure.Figure at 0x19f72adbb38>"
      ]
     },
     "metadata": {},
     "output_type": "display_data"
    }
   ],
   "source": [
    "G1 = np.array([1.01, 2.0, 10.0])\n",
    "color = ['purple', 'red', 'orange']\n",
    "marker = ['.', '*', '+']\n",
    "fig, ax1 = plt.subplots()\n",
    "fig.set_size_inches(8, 6)\n",
    "for i in range(len(G1)):\n",
    "    g1=G1[i]*g1min\n",
    "    a2 = root(f1, 0.5*LL(0.5*g1), 0.5*UL(0.5*g1), 5000, 1000)\n",
    "    a1 = root(f2, 0.5*LL(-0.5*g1), 0.5*UL(-0.5*g1), 5000, 1000)\n",
    "    positive = np.concatenate([a2[a2>0], a1[a1>0]])\n",
    "    negative = np.concatenate([a2[a2<0], a1[a1<0]])\n",
    "    xmin = max(negative)\n",
    "    xmax = min(positive)\n",
    "    x = np.linspace(0.99*xmin,0.99*xmax, 10000)\n",
    "    r = root(dU, xmin, xmax, 50000, 500)\n",
    "    x = np.concatenate([r,x])\n",
    "    x = np.sort(x)\n",
    "    g2= 1e-7\n",
    "    g2c = np.concatenate((np.array([1e-2, 5e-2, 1e-1, 5e-1]), np.linspace(1,100, 10)))\n",
    "\n",
    "    average1=np.array([])\n",
    "    average2=np.array([])\n",
    "    for j in range(len(g2c)):\n",
    "        g2=g2c[j]    \n",
    "        inte=integral2(integrand, x)\n",
    "        inte=-g2*inte\n",
    "        prob=np.exp(inte)\n",
    "        prob[prob==np.nan]=0\n",
    "        Z=np.trapz(prob, x)\n",
    "        Aux1=T(x)*prob/Z/g1/g2\n",
    "        Aux2=T(x)*prob/Z\n",
    "        av1 = np.trapz(Aux1, x)\n",
    "        average1 = np.append(average1, av1)\n",
    "        av2 = np.trapz(Aux2, x)\n",
    "        average2 = np.append(average2, av2)\n",
    "    ax1.scatter(g2c, average1, s=15, label=r'$g_1 =%.2f g_1\\min$'%G1[i], c=color[i], alpha=0.75)\n",
    "    ax1.set_xlabel(r'$g_2$', fontsize=18)\n",
    "    ax1.set_ylabel(r'$\\left<D(x) \\right>$', fontsize=18)\n",
    "    ax1.tick_params('y')\n",
    "    ax1.set_yscale('log', nonposx='clip')\n",
    "    ax1.set_xscale('log', nonposy='clip')\n",
    "    plt.xticks(fontsize=15)\n",
    "    plt.yticks(fontsize=15)\n",
    "    ax1.legend(frameon=1, loc='best', fontsize=18)\n",
    "\n",
    "    ax2 = ax1.twinx()\n",
    "    ax2.scatter(g2c, average2, s=15, label=r'$g_1 =%.2f g_1\\min$'%G1[i], c=color[i], marker='*', alpha=0.75)\n",
    "    ax2.set_ylabel(r'$\\left<T(x) \\right>$', fontsize=18)\n",
    "    ax2.tick_params('y')\n",
    "    ax2.set_yscale('log', nonposy='clip')\n",
    "    #ax2.set_xscale('log', nonposy='clip')\n",
    "    plt.xticks(fontsize=15)\n",
    "    plt.yticks(fontsize=15)\n",
    "\n",
    "plt.title(r'Difusi\\'on promedio', fontsize=18)\n",
    "plt.savefig('DZ.png', bbox_inches='tight')\n",
    "plt.show()\n",
    "plt.close()"
   ]
  },
  {
   "cell_type": "code",
   "execution_count": null,
   "metadata": {
    "collapsed": true
   },
   "outputs": [],
   "source": []
  },
  {
   "cell_type": "code",
   "execution_count": null,
   "metadata": {
    "collapsed": true
   },
   "outputs": [],
   "source": []
  },
  {
   "cell_type": "code",
   "execution_count": null,
   "metadata": {
    "collapsed": true
   },
   "outputs": [],
   "source": []
  },
  {
   "cell_type": "code",
   "execution_count": null,
   "metadata": {
    "collapsed": true
   },
   "outputs": [],
   "source": []
  },
  {
   "cell_type": "code",
   "execution_count": null,
   "metadata": {
    "collapsed": true
   },
   "outputs": [],
   "source": []
  },
  {
   "cell_type": "code",
   "execution_count": null,
   "metadata": {
    "collapsed": true
   },
   "outputs": [],
   "source": []
  },
  {
   "cell_type": "code",
   "execution_count": null,
   "metadata": {
    "collapsed": true
   },
   "outputs": [],
   "source": []
  },
  {
   "cell_type": "code",
   "execution_count": null,
   "metadata": {
    "collapsed": true
   },
   "outputs": [],
   "source": []
  },
  {
   "cell_type": "code",
   "execution_count": null,
   "metadata": {
    "collapsed": true
   },
   "outputs": [],
   "source": []
  },
  {
   "cell_type": "code",
   "execution_count": null,
   "metadata": {
    "collapsed": true
   },
   "outputs": [],
   "source": []
  },
  {
   "cell_type": "code",
   "execution_count": null,
   "metadata": {
    "collapsed": true
   },
   "outputs": [],
   "source": []
  },
  {
   "cell_type": "code",
   "execution_count": null,
   "metadata": {
    "collapsed": true
   },
   "outputs": [],
   "source": []
  },
  {
   "cell_type": "code",
   "execution_count": null,
   "metadata": {
    "collapsed": true
   },
   "outputs": [],
   "source": []
  },
  {
   "cell_type": "code",
   "execution_count": null,
   "metadata": {
    "collapsed": true
   },
   "outputs": [],
   "source": []
  },
  {
   "cell_type": "code",
   "execution_count": null,
   "metadata": {
    "collapsed": true
   },
   "outputs": [],
   "source": []
  },
  {
   "cell_type": "code",
   "execution_count": 27,
   "metadata": {},
   "outputs": [
    {
     "data": {
      "image/png": "[encoded data removed]",
      "text/plain": [
       "<matplotlib.figure.Figure at 0x1edf637c2e8>"
      ]
     },
     "metadata": {},
     "output_type": "display_data"
    }
   ],
   "source": [
    "G1 = np.array([1.01, 2.0])\n",
    "plt.figure(figsize=(8, 6))\n",
    "for i in range(len(G1)):\n",
    "    g1=G1[i]*g1min\n",
    "    a2 = root(f1, 0.5*LL(0.5*g1), 0.5*UL(0.5*g1), 5000, 1000)\n",
    "    a1 = root(f2, 0.5*LL(-0.5*g1), 0.5*UL(-0.5*g1), 5000, 1000)\n",
    "    positive = np.concatenate([a2[a2>0], a1[a1>0]])\n",
    "    negative = np.concatenate([a2[a2<0], a1[a1<0]])\n",
    "    xmin = max(negative)\n",
    "    xmax = min(positive)\n",
    "    x = np.linspace(0.99*xmin,0.99*xmax, 10000)\n",
    "    r = root(dU, xmin, xmax, 50000, 500)\n",
    "    x = np.concatenate([r,x])\n",
    "    x = np.sort(x)\n",
    "    g2= 1e-7\n",
    "    D = ddU(r)\n",
    "    r = r[ D > 0] \n",
    "    D = D[ D > 0]\n",
    "    sort = np.argsort(D)\n",
    "    r = r[sort]\n",
    "    g2c = np.array([])\n",
    "    for idx in range(len(r)):\n",
    "        value = -1\n",
    "        counter = 0\n",
    "        dg2 = 1e-3\n",
    "        while value < 0 :\n",
    "            g2 = g2 + dg2\n",
    "            value = ddUeff(r[idx])\n",
    "            counter = counter + 1\n",
    "        g2c = np.append(g2c, g2)\n",
    "\n",
    "    average=np.array([])\n",
    "    for j in range(len(g2c)):\n",
    "        g2=g2c[j]    \n",
    "        inte=integral2(integrand, x)\n",
    "        inte=-g2*inte\n",
    "        prob=np.exp(inte)\n",
    "        prob[prob==np.nan]=0\n",
    "        Z=np.trapz(prob, x)\n",
    "        Aux=T(x)*prob/Z\n",
    "        av = np.trapz(Aux, x)\n",
    "        average = np.append(average, av)\n",
    "    \n",
    "    plt.scatter(g2c, np.abs(average-1) , s=10, label=r'$g_1 =%.2f $'%g1)\n",
    "    plt.xlabel(r'$ g_2^c $', fontsize=18)\n",
    "    plt.ylabel(r'$|\\left< D(x) \\right>-1|$', fontsize=18)\n",
    "    plt.title(r'Difusi\\'on promedio', fontsize=18)\n",
    "    plt.xticks(fontsize=15)\n",
    "    plt.yticks(fontsize=15)\n",
    "    plt.set_xscale(\"log\", nonposx='clip')\n",
    "    plt.set_yscale(\"log\", nonposy='clip')\n",
    "    plt.legend(frameon=0, loc='best', fontsize=18)\n",
    "plt.savefig('DZ.png', bbox_inches='tight')\n",
    "plt.show()\n",
    "plt.close()"
   ]
  },
  {
   "cell_type": "code",
   "execution_count": null,
   "metadata": {
    "collapsed": true
   },
   "outputs": [],
   "source": []
  },
  {
   "cell_type": "code",
   "execution_count": null,
   "metadata": {
    "collapsed": true
   },
   "outputs": [],
   "source": []
  }
 ],
 "metadata": {
  "kernelspec": {
   "display_name": "Python 3",
   "language": "python",
   "name": "python3"
  },
  "language_info": {
   "codemirror_mode": {
    "name": "ipython",
    "version": 3
   },
   "file_extension": ".py",
   "mimetype": "text/x-python",
   "name": "python",
   "nbconvert_exporter": "python",
   "pygments_lexer": "ipython3",
   "version": "3.6.3"
  }
 },
 "nbformat": 4,
 "nbformat_minor": 1
}
